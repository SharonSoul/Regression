{
 "cells": [
  {
   "cell_type": "code",
   "execution_count": 109,
   "id": "7f134b3b",
   "metadata": {},
   "outputs": [],
   "source": [
    "import pandas as pd\n",
    "import numpy as np\n",
    "import matplotlib.pyplot as plt\n",
    "import seaborn\n",
    "import sklearn\n",
    "\n",
    "from sklearn.preprocessing import OneHotEncoder\n",
    "from sklearn.model_selection import train_test_split\n",
    "from sklearn import metrics\n",
    "from sklearn.linear_model import LogisticRegression, GammaRegressor, HuberRegressor, PoissonRegressor, LinearRegression\n",
    "from sklearn.naive_bayes import GaussianNB\n",
    "from sklearn.ensemble import RandomForestClassifier, AdaBoostRegressor, GradientBoostingRegressor, RandomForestRegressor\n",
    "from sklearn.ensemble import GradientBoostingClassifier, ExtraTreesRegressor, BaggingRegressor\n",
    "from sklearn.svm import SVC\n",
    "from sklearn.neighbors import KNeighborsClassifier, RadiusNeighborsRegressor\n",
    "from sklearn.metrics import mean_absolute_error, mean_squared_error\n",
    "from sklearn.tree import DecisionTreeClassifier\n",
    "from sklearn.metrics import accuracy_score, f1_score\n",
    "from sklearn.preprocessing import LabelEncoder, LabelBinarizer"
   ]
  },
  {
   "cell_type": "code",
   "execution_count": 110,
   "id": "f33e1d40",
   "metadata": {},
   "outputs": [],
   "source": [
    "df = pd.read_excel(\"AI_Invasion_In-Class_Dataset.xlsx\") "
   ]
  },
  {
   "cell_type": "code",
   "execution_count": 111,
   "id": "3bfd4982",
   "metadata": {},
   "outputs": [
    {
     "data": {
      "text/plain": [
       "(4487, 8)"
      ]
     },
     "execution_count": 111,
     "metadata": {},
     "output_type": "execute_result"
    }
   ],
   "source": [
    "df.shape"
   ]
  },
  {
   "cell_type": "code",
   "execution_count": 112,
   "id": "ad0f6ca4",
   "metadata": {},
   "outputs": [
    {
     "data": {
      "text/html": [
       "<div>\n",
       "<style scoped>\n",
       "    .dataframe tbody tr th:only-of-type {\n",
       "        vertical-align: middle;\n",
       "    }\n",
       "\n",
       "    .dataframe tbody tr th {\n",
       "        vertical-align: top;\n",
       "    }\n",
       "\n",
       "    .dataframe thead th {\n",
       "        text-align: right;\n",
       "    }\n",
       "</style>\n",
       "<table border=\"1\" class=\"dataframe\">\n",
       "  <thead>\n",
       "    <tr style=\"text-align: right;\">\n",
       "      <th></th>\n",
       "      <th>Location</th>\n",
       "      <th>Maker</th>\n",
       "      <th>Model</th>\n",
       "      <th>Year</th>\n",
       "      <th>Colour</th>\n",
       "      <th>Amount (Million ₦)</th>\n",
       "      <th>Type</th>\n",
       "      <th>Distance_Km</th>\n",
       "    </tr>\n",
       "  </thead>\n",
       "  <tbody>\n",
       "    <tr>\n",
       "      <th>0</th>\n",
       "      <td>Abuja</td>\n",
       "      <td>Mercedes-Benz</td>\n",
       "      <td>GLA 250</td>\n",
       "      <td>2015.0</td>\n",
       "      <td>Brown</td>\n",
       "      <td>14.50</td>\n",
       "      <td>Foreign Used</td>\n",
       "      <td>50000.0</td>\n",
       "    </tr>\n",
       "    <tr>\n",
       "      <th>1</th>\n",
       "      <td>Abuja</td>\n",
       "      <td>Hyundai</td>\n",
       "      <td>Accent</td>\n",
       "      <td>2013.0</td>\n",
       "      <td>Red</td>\n",
       "      <td>1.55</td>\n",
       "      <td>Nigerian Used</td>\n",
       "      <td>NaN</td>\n",
       "    </tr>\n",
       "    <tr>\n",
       "      <th>2</th>\n",
       "      <td>Lagos</td>\n",
       "      <td>Lexus</td>\n",
       "      <td>GX 460 Premium</td>\n",
       "      <td>2011.0</td>\n",
       "      <td>White</td>\n",
       "      <td>14.00</td>\n",
       "      <td>Foreign Used</td>\n",
       "      <td>85000.0</td>\n",
       "    </tr>\n",
       "    <tr>\n",
       "      <th>3</th>\n",
       "      <td>Lagos</td>\n",
       "      <td>Lexus</td>\n",
       "      <td>ES 350</td>\n",
       "      <td>2011.0</td>\n",
       "      <td>Gray</td>\n",
       "      <td>4.95</td>\n",
       "      <td>Foreign Used</td>\n",
       "      <td>NaN</td>\n",
       "    </tr>\n",
       "    <tr>\n",
       "      <th>4</th>\n",
       "      <td>Ibadan</td>\n",
       "      <td>Toyota</td>\n",
       "      <td>Verso 1.6</td>\n",
       "      <td>2009.0</td>\n",
       "      <td>Silver</td>\n",
       "      <td>1.69</td>\n",
       "      <td>Nigerian Used</td>\n",
       "      <td>118906.0</td>\n",
       "    </tr>\n",
       "  </tbody>\n",
       "</table>\n",
       "</div>"
      ],
      "text/plain": [
       "  Location          Maker           Model    Year  Colour  Amount (Million ₦)  \\\n",
       "0    Abuja  Mercedes-Benz         GLA 250  2015.0   Brown               14.50   \n",
       "1    Abuja        Hyundai          Accent  2013.0     Red                1.55   \n",
       "2    Lagos          Lexus  GX 460 Premium  2011.0   White               14.00   \n",
       "3    Lagos          Lexus          ES 350  2011.0    Gray                4.95   \n",
       "4   Ibadan         Toyota       Verso 1.6  2009.0  Silver                1.69   \n",
       "\n",
       "            Type  Distance_Km  \n",
       "0   Foreign Used      50000.0  \n",
       "1  Nigerian Used          NaN  \n",
       "2   Foreign Used      85000.0  \n",
       "3   Foreign Used          NaN  \n",
       "4  Nigerian Used     118906.0  "
      ]
     },
     "execution_count": 112,
     "metadata": {},
     "output_type": "execute_result"
    }
   ],
   "source": [
    "df.head(5)"
   ]
  },
  {
   "cell_type": "code",
   "execution_count": 113,
   "id": "5bebe7bb",
   "metadata": {},
   "outputs": [
    {
     "data": {
      "text/plain": [
       "Index(['Location', 'Maker', 'Model', 'Year', 'Colour', 'Amount (Million ₦)',\n",
       "       'Type', 'Distance_Km'],\n",
       "      dtype='object')"
      ]
     },
     "execution_count": 113,
     "metadata": {},
     "output_type": "execute_result"
    }
   ],
   "source": [
    "df.columns"
   ]
  },
  {
   "cell_type": "code",
   "execution_count": 114,
   "id": "0a84dbb3",
   "metadata": {},
   "outputs": [
    {
     "data": {
      "text/plain": [
       "Location                 0\n",
       "Maker                    0\n",
       "Model                    0\n",
       "Year                     0\n",
       "Colour                   0\n",
       "Amount (Million ₦)       0\n",
       "Type                     0\n",
       "Distance_Km           1555\n",
       "dtype: int64"
      ]
     },
     "execution_count": 114,
     "metadata": {},
     "output_type": "execute_result"
    }
   ],
   "source": [
    "df.isnull().sum()"
   ]
  },
  {
   "cell_type": "code",
   "execution_count": 115,
   "id": "2df02666",
   "metadata": {},
   "outputs": [],
   "source": [
    "meanValue = df[\"Distance_Km\"].mean()"
   ]
  },
  {
   "cell_type": "code",
   "execution_count": 116,
   "id": "14f87403",
   "metadata": {},
   "outputs": [
    {
     "data": {
      "text/plain": [
       "101038.32128240108"
      ]
     },
     "execution_count": 116,
     "metadata": {},
     "output_type": "execute_result"
    }
   ],
   "source": [
    "meanValue"
   ]
  },
  {
   "cell_type": "code",
   "execution_count": 117,
   "id": "b96b28e6",
   "metadata": {},
   "outputs": [],
   "source": [
    "df[\"Distance_Km\"] = df[\"Distance_Km\"].fillna( df[\"Distance_Km\"].mean())"
   ]
  },
  {
   "cell_type": "code",
   "execution_count": 118,
   "id": "7b64d73c",
   "metadata": {},
   "outputs": [
    {
     "data": {
      "text/plain": [
       "Location              0\n",
       "Maker                 0\n",
       "Model                 0\n",
       "Year                  0\n",
       "Colour                0\n",
       "Amount (Million ₦)    0\n",
       "Type                  0\n",
       "Distance_Km           0\n",
       "dtype: int64"
      ]
     },
     "execution_count": 118,
     "metadata": {},
     "output_type": "execute_result"
    }
   ],
   "source": [
    "df.isnull().sum()"
   ]
  },
  {
   "cell_type": "code",
   "execution_count": 119,
   "id": "ad0f2421",
   "metadata": {},
   "outputs": [
    {
     "name": "stdout",
     "output_type": "stream",
     "text": [
      "<class 'pandas.core.frame.DataFrame'>\n",
      "RangeIndex: 4487 entries, 0 to 4486\n",
      "Data columns (total 8 columns):\n",
      " #   Column              Non-Null Count  Dtype  \n",
      "---  ------              --------------  -----  \n",
      " 0   Location            4487 non-null   object \n",
      " 1   Maker               4487 non-null   object \n",
      " 2   Model               4487 non-null   object \n",
      " 3   Year                4487 non-null   float64\n",
      " 4   Colour              4487 non-null   object \n",
      " 5   Amount (Million ₦)  4487 non-null   float64\n",
      " 6   Type                4487 non-null   object \n",
      " 7   Distance_Km         4487 non-null   float64\n",
      "dtypes: float64(3), object(5)\n",
      "memory usage: 280.6+ KB\n"
     ]
    }
   ],
   "source": [
    "df.info()"
   ]
  },
  {
   "cell_type": "code",
   "execution_count": 120,
   "id": "b8db9710",
   "metadata": {},
   "outputs": [],
   "source": [
    "catFeatures = {\"Location\", \"Maker\", \"Model\", \"Colour\", \"Type\", \"Year\"}"
   ]
  },
  {
   "cell_type": "code",
   "execution_count": 121,
   "id": "2cc34c50",
   "metadata": {},
   "outputs": [
    {
     "name": "stdout",
     "output_type": "stream",
     "text": [
      "Location:['Abuja' 'Lagos' 'Ibadan']\n",
      "##################################################\n",
      "Model:['GLA 250' 'Accent' 'GX 460 Premium' 'ES 350' 'Verso 1.6' 'Corolla 1.8 LE'\n",
      " 'E350' 'GL-Class' 'RX 350 AWD' 'Land Cruiser 3.5 V6' 'Matrix'\n",
      " 'Land Cruiser' 'C350' 'Corolla' 'IS 250 4WD' 'Venza V6' 'CX-7' 'RX 350'\n",
      " 'Highlander Limited 4x4' 'RX' 'RX 350 F Sport AWD' 'Camry'\n",
      " 'Land Cruiser 5.7 V8 VX-S' 'GLK-Class' 'Avalon' 'GS 300' 'Accord'\n",
      " '4-Runner' 'Civic' 'ES 330 Sedan' 'Corolla LE (1.8L 4cyl 2A)' 'Santa Fe'\n",
      " 'Highlander' 'Elantra' '4-Runner Limited V6' 'Venza Limited FWD V6'\n",
      " 'M Class ML 350 4Matic' 'M Class' 'Hyundai Kona' 'C300'\n",
      " 'Camry XLE V6 FWD' 'Range Rover Velar' 'IS 250' 'Highlander Limited'\n",
      " 'RAV4 Limited FWD' 'Cayenne' 'RX 330' 'RDX' 'Corolla XSE (1.8L 4cyl 2A)'\n",
      " 'Micra' 'Vibe 2.4L' 'Tacoma TRD Sport' 'Focus 1.8 TDDi Viva' 'GX 460'\n",
      " 'RAV4 Limited V6 4x4' 'Commander Limited 4x4' 'Tundra' 'Sonata' 'RAV4'\n",
      " 'F-150' 'GX' 'GS 300 Automatic' 'Sienna' 'Altima' 'Hyundai Ioniq'\n",
      " 'Tacoma' 'CLA-Class' 'Venza V6 AWD' 'MDX SUV 4dr AWD (3.7 6cyl 5A)'\n",
      " 'Optima' 'Highlander V6 AWD' 'C250' 206.0 'GLK-Class 350 4MATIC'\n",
      " 'ES 350 FWD' 'LX 450d' 'F-150 SuperCab 4x4' 'Avensis' 'Equus' 'ES'\n",
      " 'Camry XSE (2.5L 4cyl 8A)' 'GLE-Class' 'CR-V' 'C43' 'Sienna LE 4WD'\n",
      " 'RX 300 4WD' 'Accord 2.4 EX' 'Highlander Sport' 'Venza AWD'\n",
      " 'Pilot EX-L 4x4 (3.5L 6cyl 5A)' 'Camry SE FWD (2.5L 4cyl 8AM)'\n",
      " '6 I Sport' 'Range Rover' 'RX 350 4WD' 'GX 460 Base' 'E550'\n",
      " 'Pilot EX 4x4 (3.5L 6cyl 5A)' '528i' 'Venza LE AWD V6' 'CR-V LX AWD'\n",
      " '5 Series' 'Morning' '328i' 'Edge SE 4dr FWD (3.5L 6cyl 6A)' 'GLA-Class'\n",
      " 'A-Class a 220 4MATIC' 'RX 350L Luxury FWD' 'Highlander Limited V6 4x4'\n",
      " 'Highlander Limited V6' 'Accord Sport 2.0T' 'Hilux'\n",
      " 'GX 470 Sport Utility' 508.0 'RX 330 AWD' '4-Runner Limited V6 4x4'\n",
      " 'LX 570 (5 Seats) AWD' 'Land Cruiser Prado 2.8' 'E55' 'Almera'\n",
      " 'Corolla S' 'Venza' 'Outlander XLS' 'Accord Sedan LX 3 V6 Automatic'\n",
      " 'Land Cruiser Prado 4 I' 'GL-Class GL 450' 307.0 'Sportage 2 2WD LX'\n",
      " 'Vibe' 'RAM' 'Titan Crew Cab SE 4x4' 'LX' 'X Class'\n",
      " 'Range Rover Evoque Pure Plus AWD' 'Camry XSE FWD (2.5L 4cyl 8AM)'\n",
      " 'Highlander Sport 4x4' 'Element LX Automatic' 'Genesis 5 RWD'\n",
      " 'RAV4 Limited V6' 'Odyssey' 'E300' 'LX 570 AWD' 'ES 330' 'Sequoia'\n",
      " 'Accord EX-L 2.0T' 'MDX' 'Aveo' 'RAV4 2.5 Sport 4x4' 'Explorer' 'iM Base'\n",
      " 'H300' 'Elantra Limited' 'SLK-Class' 'Highlander 4x4' 'Avalon Limited'\n",
      " 'X3' '307 2 CC' 'Tacoma TRD Off Road' 'ES 300'\n",
      " 'Civic 1.4i Sport Automatic' 'Escape' 'A4' '128i' 'Edge' 'C320'\n",
      " 'G-Class G 65 AMG 4MATIC' 'RX 330 AWD Off' 'RX 330 4WD'\n",
      " 'Corolla L 4-Speed Automatic' 'Land Cruiser Prado 2.7' 'Wrangler' '535i'\n",
      " 'Camaro' 'Quest 3.5' 'Challenger' 'IS' 'GS 350' 'LS'\n",
      " 'Land Cruiser 5.7 V8 VXR' 'RAV4 XLE FWD' 'Venza XLE AWD V6' 'GX 470'\n",
      " 'RAV4 2 4x4' 'Dyna' 'Corolla Verso 1.8' 'Corolla LE Eco (1.8L 4cyl 2A)'\n",
      " 'Avensis 2 D Verso' 'Tacoma 4x4 Double Cab'\n",
      " '4-Runner Sport Edition 4x4 V6' 'G-Class Base G 550 AWD'\n",
      " 'S-Class S 500 4MATIC L (V221)' 'Camry XLE FWD'\n",
      " 'Sienna LE AWD (3.3L V6 5A)' 'G-Class Base G 500 AWD' 'GX 460 Luxury'\n",
      " 'Land Cruiser Prado' 'CR-V 200i i-VTEC 4x4' 'A6 Avant 2.5 D'\n",
      " 'Tacoma Limited' '4-Runner Limited 4WD' 'C-Hr Limited FWD' 'NP300'\n",
      " 'LX 570' 'RAV4 Adventure AWD' 'G35' 'Camry 2.4 LE' 'GL-Class GL 550'\n",
      " 'RAV4 Sport V6 4x4' 'Solara 3.3 Coupe' 'Clubman Cooper' 'Yaris'\n",
      " 'RAV4 3.5 Limited 4x4' 'Passat 2 Sedan' 'GLK-Class 350'\n",
      " 'Highlander XLE AWD' 'RAV4 Limited' 'Corolla Verso 1.8 Luna' 'SX'\n",
      " 'Land Cruiser Prado 4' 'S-Class S 500 (W222)' 'Fusion SE AWD'\n",
      " 'RX 350L Luxury AWD' 'X5 xDrive40i AWD' 'E430' 'GS' 'Civic HF Sedan EX'\n",
      " 'Honda HR-V' 'GL Class' '300 300C RWD' 'Corolla LE'\n",
      " 'Range Rover Evoque Matt' 'Camry LE FWD (2.5L 4cyl 8AM)' 'GX 470 Off'\n",
      " 'G-Class' 'Hilux 2 VVT-i' 'Xterra SE' 'Trailrunner'\n",
      " 'Land Cruiser 4.5 V8 GXR' 'RX 300 2WD' 'C240' 'C400'\n",
      " 'RAV4 XLE Premium AWD' 'Hilux SR 4x4' '230E' 'CL' 'Almera Tino' 'Passat'\n",
      " 'S-Class Off' 'Range Rover Evoque' 'C-Class C 300 CDI 4MATIC (W204)'\n",
      " '4-Runner Limited 4x4 V6' 'Avalon XLS' 'Land Cruiser HDJ 100'\n",
      " 'Sharan 1.8 T' 'C70 Automatic' 'RX 450h' 'Veloster Automatic' 'GLS-Class'\n",
      " 'Ridgeline RTX' 'ZDX Base AWD' 'Pilot' 'Sienna CE AWD'\n",
      " 'Land Cruiser Prado 2.7 VVT-i' 'ES 250' 'Corolla Liftback'\n",
      " 'Tacoma Access Cab' 'Cooper Cabriolet' 'Sportage 2.0L Automatic'\n",
      " 'Edge SE 4dr AWD (3.5L 6cyl 6A) Off' 'Venza Limited AWD V6' 'CLS'\n",
      " 'Sentra 2 SL' 'B-Class' 'CR-V Touring AWD' 'X5 3.0i' 'Range Rover Vogue'\n",
      " 'Almera 1.6 Lux Automatic' 'Venza XLE AWD' 'Rolls-Royce Ghost Matt'\n",
      " 'S-Class S 550' 'Sienna XLE 7 Passenger' 'TL Automatic' 'Corolla SE'\n",
      " 'Altima 2.5' 'Sentra' 'X-Trail' 'Accord Sedan LX'\n",
      " 'Land Cruiser 5.7 V8 VX-S Matt' 'RAV4 2 VVT-i' '4-Runner Limited'\n",
      " 'G-Class G 63 AMG' 3008.0 'Range Rover Sport HSE 4x4 (5.0L 8cyl 6A)'\n",
      " 'RX 300' 'Hilux WORKMATE 4x4' 'Sharan' 'Genesis 3.8' 'TL SH-AWD'\n",
      " 'Rover Discovery' 'MDX 3.5L 4x4' 'MDX Tech & A-Spec Pkgs SH-AWD'\n",
      " 'RX 450hL Luxury AWD' 'Cruze' 'Sienna CE' 'Golf' '7 Series'\n",
      " 'Highlander Limited V6 FWD' 'LX 570 Three-Row' 'Aveo 1LT' 'SpaceWagon'\n",
      " 406.0 'GLC-Class' 'A4 3 TDI Automatic' 'JAC S2' 'Yaris 1.3 VVT-i'\n",
      " 'Corolla 1.4' 'Tiida' 'Highlander Limited 3.5l 4WD' 'Genesis 4.6'\n",
      " 'Corolla 1.8 VVTL-i TS' 'L200 Double Cab 2.5 180hp 4WD' 'Highlander V6'\n",
      " 'RX 350 FWD' 'Avalon 3' 'Carens' 'RAV4 2.2 D-4D GX' 'F-150 SuperCrew'\n",
      " 'Odyssey 2.4 4WD' 'RAV4 Sport' 'Elantra 1.6 GL' 'Ridgeline'\n",
      " 'Golf 2 GL 3-Door' 'Camry XSE V6 (3.5L V6 8A)' 'Sienna XLE'\n",
      " 'Accord 2 Comfort Automatic' 'Forester 2.5X Limited' '4-Runner Off'\n",
      " 'HS 250h' 'A6 2' 'JX 35' 'CR-V EX-L 4WD Automatic' 'Duster' 'Jetta'\n",
      " 'Highlander SE 3.5L 4WD' 'Sienna CE FWD (3.3L V6 5A)'\n",
      " 'Rolls-Royce Cullinan Base' 'Accord Sedan EX Automatic'\n",
      " 'CR-V 2.4 EX Automatic' 'Hilux 2.4 Diesel' 'RX 400h'\n",
      " 'M Class ML350 AWD 4MATIC' 'Sienna LE 7 Passenger' 'IS 350'\n",
      " 'Hilux 2.7 VVT-i 4X4 SRX' 'RC 350 AWD' 'C63' 'M Class ML 320'\n",
      " 'Freestar Wagon SE' 'M Class ML 350' 'IS 250 AWD'\n",
      " 'Solara 3.3 Convertible' 'Camry 2.4 SE Automatic' 'Land Cruiser 3.3 DT'\n",
      " 'RX 200t 2WD' 'Tacoma X Runner' 'CR-V EX Automatic' 'Elantra GLS'\n",
      " 'Acadia SLE AWD' 'Rio' '3 Series' 'Fortuner' 'RAV4 3.5 Sport 4x4'\n",
      " 'Mustang' 'IS 350 C' 'RAV4 3.5 Limited' 'Tacoma Access Cab V6 Automatic'\n",
      " 'RAV4 LE AWD' 'M Class ML 350 4x2' 'Tucson' 'GS 250'\n",
      " 'Corolla 1.4 D Automatic' 'Tacoma SR5' 'Sorento' 'Almera 1.6 Comfort'\n",
      " 'Grand Caravan' 'A3' 'Corolla SE (1.8L 4cyl 2A)'\n",
      " 'Highlander XLE 4x4 V6 (3.5L 6cyl 8A)' 'Corsa' 'S-Class' 'GL-Class 450'\n",
      " 'RAV4 LE AWD (2.5L 4cyl 6A)' 'Highlander Limited 3.5l 4WD Off'\n",
      " '407 2 Esplanade' 'RX 350L 4WD' 'Vibe 1.8L Off' 'X5' 'Fuga' 'RX 450H AWD'\n",
      " 'S Class S 63 AMG (W222)' 'EX 35' '75 2 Automatic' 407.0 'RAV4 XLE AWD'\n",
      " 'Prius' 'IS 200t' 'X6' 'Cooper' 'Quest S' 'Yaris 1.3' 'E63'\n",
      " 'Picnic 2 FWD' 'Camry SE FWD' 'Highlander SE' 'IVM 1021A'\n",
      " 'GL Class GL 450' 'C180' 'Vibe Automatic' 'Highlander 3.5L 4WD'\n",
      " 'Sienna XLE AWD (3.3L V6 5A)' 'Accord Sedan EX-L Automatic'\n",
      " 'Accord Coupe 3.5 EX-L Automatic' 'Montero 3.5 AWD' 'Forte EX'\n",
      " 'X4 xDrive28i Off' 'C200' 'Sienna SE 8 Passenger' 'CT' 'S Class'\n",
      " 'Highlander XLE FWD' 'IS 200 Limited' 'Challenger R/T Scat Pack RWD'\n",
      " 'Camry XSE FWD' 'Sienna LE & 1 Hatch' 'Accord Crosstour EX-L' 'Focus'\n",
      " 'Pathfinder LE RWD SUV (3.5L 6cyl 4A)' 'Camry 3.5 LE'\n",
      " 'Continental Mulliner R' 5008.0 'M Class ML 350 TEC 4Matic' 'RAV4 2.4'\n",
      " 'E320' '307 X-Line 1.6' 'Gx300' 'Cerato' 'Lite-Ace' '206 1.6 Automatic'\n",
      " 'Titan Crew Cab XE 4x4' 'Santa Fe 2.7 V6 4WD' 'QX'\n",
      " 'G-Class Base G 55 AMG 4x4' 'FJ Cruiser Base 4x4' 3.0\n",
      " 'Land Cruiser 4 V6 GXR' 'Zafira' 'Corolla 1.4 D-4d' 'Civic 1.8i VTEC'\n",
      " 'Corolla CE' '4-Runner SR5 4WD' 'C-Hr' 'Beetle' 626.0\n",
      " 'G-Class G 63 AMG 4MATIC' 'IS 250 AWD Automatic' 'Accord Sedan LX SE'\n",
      " 'Corolla 1.8 Exclusive Automatic' 'X5 3.0i Sport' 'Sienna XLE AWD'\n",
      " 'Traverse 1LT' 'Odyssey 2.4 2WD' 'MDX Base FWD' 'SL-Class'\n",
      " 'Tacoma Double Cab V6 4WD' 'Accord Automatic' 'Ranger XL' 'S40 a'\n",
      " 'Civic 1.8 DX' 'Qashqai' 'Cerato 1.6 LX Automatic'\n",
      " 'GX 470 Sport Utility Off' 'Bentley Continental' 'Sienna LE AWD'\n",
      " 'Sportage' 'Land Cruiser 5.7 V8 EXR' 'Highlander V6 4x4'\n",
      " 'Santa Fe Limited' 'Pathfinder' 'RX 350 XE 4x4' 'Honda Accord' 'Picanto'\n",
      " '6 Wagon' 'RX 350 4x4' 'A7' 'Accord Crosstour EX'\n",
      " 'Highlander Limited 3.5L 2WD' 'Tucson Limited AWD' 'Countryman S All4'\n",
      " 'MKS EcoBoost' 'Land Cruiser Prado 3 D-4d (190 Hp)' 'Maxima' 'tC Base'\n",
      " 'Pathfinder Automatic' 'Outlander' 'Rondo EX' 'Accord Sedan DX'\n",
      " 'M Class ML320 TEC AWD 4MATIC' datetime.datetime(2022, 5, 2, 0, 0) '550i'\n",
      " 'Camry XLE V6 (3.5L V6 8A)' 'Tucson GLS FWD' 'Jeep'\n",
      " 'Highlander XLE 4x2 V6 (3.5L 6cyl 8A)' 'xB Base' 'Accord Crosstour'\n",
      " 'Tacoma Double Cab V6 Automatic' 'CLA-Class Base CLA 250 FWD' '508 GT'\n",
      " 'IS 250 Automatic' 'E400' 'Highlander LE 4x4 V6 (3.5L 6cyl 8A)'\n",
      " 'IS 350 AWD' 'Soul Automatic' 'Xterra Automatic' 'Corolla Off'\n",
      " 'IS 250 SE' 'Sentra 2 CVT' 'Venza XLE FWD' 'Quest 3.5 SE'\n",
      " 'Range Rover Sport' 'RAV4 XLE AWD (2.5L 4cyl 6A)' 'Pick-Up'\n",
      " 'Tacoma Cab 4WD' 'Civic LX Sedan' 'Sentra SL' 'C230' 'R-Class'\n",
      " 'Avalon XLS W/ Bucket Seats' 'A-Class' 'IS 250 SE AWD'\n",
      " 'H2 SUV Sport Utility' 'Sorento 3.3L SXL FWD' 200.0 'Baja Automatic' 'I8'\n",
      " 'M Class ML 550 4Matic' 'Camry Automatic' 'Camry XLE FWD (2.5L 4cyl 8AM)'\n",
      " 'M Class Edition 10 ML 350 4Matic' 'Civic EX-L W/Navi Hatchback'\n",
      " 'Attrage' 'FX35 Base 4x2 (3.5L 6cyl 5A)' 'ES 350 F Sport FWD' 'H1'\n",
      " 'Land Cruiser 4.6 V8 GXR' 'Vue' '4-Runner Limited 4x4' 'GLE-Class Matt'\n",
      " 'CR-V EX-L FWD' 'Cadillac Escalade' 'Highlander LE 4x2 (2.7L 4cyl 6A)'\n",
      " 'RDX Base SH-AWD' 'Highlander Limited V6 AWD' 'Golf GTI'\n",
      " 'Challenger R/T CLASSIC' '206 GTi 180' 'Cooper S' 'CR-V 2 Automatic'\n",
      " 'Elantra 1.6 Automatic' 'Hyundai Sonata SEL Plus' 'GLK-Class 350 SUV'\n",
      " 'Accord Coupe 3.5 EX-L V6' 'MDX Base SH-AWD' 'Lamborghini Urus'\n",
      " 'CX-9 Sport' 'Micra Visia 1.2' 'Mustang V6 Premium' 'RAV4 V6'\n",
      " 'Land Cruiser Prado 3.4 5dr' 'F-150 SuperCab' 'Primera' 'Rogue' 'A8'\n",
      " 'Avalon XSE' 'Pilot EX 4dr SUV (3.5L 6cyl 5A)' 'Sienna LE'\n",
      " 'MDX Touring Package' 'CR-V 2 RVi' 'Corolla 140i GLE F-Lift'\n",
      " 'CR-V 2.4 EX-L Automatic' 'Vibe AWD' 'L400' 'M6 Coupe' 'Venza LE AWD'\n",
      " 'RAV4 2.5 Limited 4x4' 'LS 460 Luxury Sedan' 'QX56' 'M3 Coupe'\n",
      " 'Sienna XLE FWD' 'GLS-Class GLS450 4MATIC' 'Murano' '3 1.6i' '330i'\n",
      " 'Camry Hybrid' 'Pathfinder Platinum 4x4' 'Yaris 1.8 TS' 'Ranger'\n",
      " 'Escape XLS 4WD Automatic' 'Q30' 'Avensis 2 Advanced' '406 2.2 Coupe'\n",
      " 'Highlander XLE V6 4x2 (3.5L 6cyl 6A)' 'Sienna LE 7 Passenger Mobility'\n",
      " 'RAV4 Base AWD' 'Corolla 1.6 VVT-i' 'Hyundai Creta' 'Rover Lr3'\n",
      " '4-Runner Sport Edition' 'X3 3.0i' 'Tundra 4x4 SR5 Access Cab'\n",
      " 'A6 2.0T Premium FWD' 'RAV4 2 Automatic' 'RAV4 2.5 Limited'\n",
      " 'Enclave CXL AWD' 'Hilux 2 VVTi SRX'\n",
      " 'Land Cruiser Prado 3 D-4d (190 Hp) 7 Seats' 'RX 450H 4WD'\n",
      " 'CTS Automatic' 'Venza LE FWD' 'Range Rover Sport SE' 'Picnic'\n",
      " 'Sienna XLE Limited 4WD' 'Xterra' 'Legend 3.7 V6' 'Kia Rio'\n",
      " 'Edge SE 4dr AWD (3.5L 6cyl 6A)' 'Frontier SVE V6 King Cab 4WD'\n",
      " 'S-Class S 63 AMG 4MATIC (W222)' 'Navigator Luxury' 'Corolla 1.8 TS'\n",
      " '406 2' 'RX 350 F Sport AWD Off' 'Accord 3.5 EX-L Automatic'\n",
      " 'A-Class A 220 4MATIC' 'Sonata 2.4 GL' 'Golf 1.4' 'Accord 2.4 Executive'\n",
      " 'Cooper Clubman Classic' 'HiAce' 'Mustang EcoBoost Fastback' 'C450'\n",
      " 'LS 460 L RWD' 'Accord Sedan EX-L' 'Tribute s Grand Touring' 'RAV4 1.8'\n",
      " 'A8 4.2 Quattro' 'Avalon XLE' 'XC90 T6 AWD' 'NX 200t AWD'\n",
      " 'X-Trail SV Premium' 'X6 xDrive35i AWD' 'Noah 2 FWD (8 Seater)'\n",
      " 'RAV4 Sport 4x4' 'GS 450h' 'Ix35' 'Range Rover Sport HST MHEV 4x4'\n",
      " 'Tacoma 4dr Double Cab' 'Focus 2.5 ST' 'S-Class S 450 4MATIC (W222)'\n",
      " 'Land Cruiser 4.5 V8 VXR' 'S60' 'RAV4 2.5 4x4'\n",
      " 'Highlander Hybrid Limited' 'Highlander LE Plus' 'Odyssey EX-L'\n",
      " 'Corolla Sedan' '318i' 'Range Rover Sport 4.2 V8 SC' 'Vibe 1.8L'\n",
      " 'Tucson GLS AWD' 'RX 350 4x4 Matt' 'Clubman' 'E500 500 Sedan' 'ForTwo 1'\n",
      " 'Accord Crosstour EX-L W/Navigation AWD' 'XF 2.7'\n",
      " 'Land Cruiser 100 4.2 TD' 'Accord 2.4 EX Automatic' 'F-150 XLT'\n",
      " 'RX 350 F Sport FWD' '6 Series' 'NX' 'CR-V EX AWD' 'Vibe 1.8 AWD' '540i'\n",
      " 'Highlander V6 FWD' 'Accord 2.2 DTEC Estate' 'Countryman S'\n",
      " 'Land Cruiser J300 4' 300.0 'CLC' 'S-Class S 500 4MATIC L (V222)'\n",
      " 'Enclave CX AWD' 'Tribute 3.0s 4WD Automatic' 'S-Class S 63 AMG (W222)'\n",
      " 'Premacy' 'Rogue SL' 'FF' '320i' 'Traverse LTZ'\n",
      " 'L200 Double Cab 2.4 181hp 4WD' 'Tacoma PreRunner Access Cab'\n",
      " 'Phantom Coupe' '335i' 'ES 330 Off' 'Accord 2 Comfort' 'Urus'\n",
      " 'RAV4 2 4x4 VX Automatic' 'Camry LE (2.5L 4cyl 8A)' 'Frontier King Cab'\n",
      " 'Routan SEL' 'Land Cruiser Prado 3 TD' 'Terrain SLT-2 AWD'\n",
      " 'RAV4 3.5 Sport' 'Sentra 2' 'LX 570 Base' 'Highlander Hybrid 4x4'\n",
      " 'GLS-Class GLS550 4Matic' 'TL SH-AWD Automatic' '240SX' 'Land'\n",
      " 'Venza Off' 'Accord 2.4 Type S Automatic' 'Frontier' 'RC' 'Infiniti QX80'\n",
      " 'Accord 2.4 i-VTEC Exec Automatic' 'GS 350 4WD Matt' 'Fusion'\n",
      " 'RAV4 SE AWD (2.5L 4cyl 6A)' 'L200 Single Cab 2.5 TD 4WD' '300C SRT8 RWD'\n",
      " 'X5 xDrive50i AWD' 'Cayenne GTS' 'A6 3.2 FSI Quattro Automatic'\n",
      " 'Corolla L (1.8L 4cyl 2A)' 'LX 570 (5 seats) AWD' 'Traverse'\n",
      " 'Acadia SLE-1 AWD' 'Lincoln Navigator' 'S Class S 450 L (V222)'\n",
      " 'Torrent Base AWD' 'Corona' 'F-650' 'Sienna CE FWD'\n",
      " 'Accord Coupe 2.4ex-L Automatic' 'Escalade Off'\n",
      " 'Range Rover Velar P250 SE R-Dynamic 4x4' 'RAV4 LE FWD (2.5L 4cyl 6A)'\n",
      " 'TSX Automatic' 'Cooper John Cooper Works' 'Previa' 'Accord 2.4'\n",
      " 'Land Cruiser 5.7 V8 GXR' 'Creta' 'ILX' 'GLS-Class GLS450 4Matic'\n",
      " 'Camry 2.4 SE' 'Sienna XLE 7 Passenger Mobility' 'Corolla 1.8'\n",
      " 'CX-9 Grand Touring AWD' 'CR-V 2.0i LS Automatic' 'Serena'\n",
      " 'Accord 2 I-Vtec' 'Beetle 1.8 T' 'Sumo Victa Turbo DI' 'Avensis Sedan'\n",
      " 'Land Cruiser Prado 3 190hp' 'Tribute' 'Hilux 2.5 D-4d 4X4 SRX'\n",
      " 'Caliber 2.4 R/T' 'CLK' 'Highlander SE 4x4 V6 (3.5L 6cyl 8A)'\n",
      " '3 2.5 S Grand Touring Sedan' 'Ridgeline RTL'\n",
      " 'Range Rover Velar P380 HSE R-Dynamic 4x4' 'F-150 SuperCrew 4x4'\n",
      " 'Hyundai Palisade' 'Civic LX Hatchback' 'Camry SE (2.5L 4cyl 8A)' 'Sunny'\n",
      " 'Beetle 2.5' 'ES 350 Luxury FWD' 'Sienna XLE Limited'\n",
      " 'Accord 3.5 EX Automatic' 'Forte SX Hatchback' 'Express Cargo Van 1500'\n",
      " 'Explorer Sport Track Automatic' 'Hilux SR5+ 4x4'\n",
      " 'FJ Cruiser 4x4 Automatic' 'Sorento EX 4dr SUV (3.3L 6cyl 6A)' 1117.0\n",
      " 'Santa Fe Sport 2.0T Off' 'Outlander 2.4' 'Avanza'\n",
      " 'GLS-Class GLS63 AMG Base' 'M Class ML350 4x2' 'X5 3.0si Activity'\n",
      " 'Tacoma Double Cab V6' 'Escalade' 'Corolla 1.8 CE'\n",
      " 'Sienna XLE 7-Passenger AWD' '4-Runner Limited 2WD' 'C280' 'E-350'\n",
      " 'GL Class GL 550' 'Peugeot 5008 2 HDi 180 GT' 'Nissan Armada' 'M6' 'TL'\n",
      " 'C-HR' 'Accord Coupe EX-L' 'Range Rover Evoque HSE Dynamic 4x4 5-Door'\n",
      " 'RAV4 Automatic' 'CX-9 Grand Touring' 'Charger' 'Camry Off'\n",
      " '407 2 HDi ST Comfort' 'Versa 1.8 SL Hatchback' 'Land Cruiser Matt'\n",
      " 'Yaris Sedan' 'Camry 2.4 WT-i' '323i' 'Galaxy' '407 SW 3 V6 ST Sport'\n",
      " 'Frontier Crew Cab SE' 'Rush 1.5 RWD' 'Range Rover Sport Autobiography'\n",
      " 'CR-V EX 4dr SUV (2.4L 4cyl 5A)' '4-Runner Sport Edition 4x4 V8'\n",
      " 'Camry 2.4 XLE' 'Vibe 2.4 4WD' 'Altima Sedan 3.5 S'\n",
      " 'Camry 2.4 XLi Automatic' 'i8 1.5 Roadster' 'Highlander XLE' 'A5'\n",
      " 'Sienna LE FWD' 'ES 350 Luxury' 'RX 350L AWD' 'ES 350 Off' '206 1.4 D'\n",
      " 'RX 350 F SPORT AWD' 'CTS' 'RAV4 Limited AWD' '4-Runner Limited 4X4'\n",
      " 'Elantra Touring SE Automatic' 'TSX Sport Sedan' 'Passat 2' 'GLE43'\n",
      " '406 Break 1.8i' 'Pathfinder 4' 'Solara' 'CC' 'Charger RT'\n",
      " 'S-Class S 500 (W220)' 'Sorento EX'\n",
      " 'Highlander XLE V6 4x4 (3.5L 6cyl 6A)' 'Highlander Base FWD' 'Passat SE'\n",
      " 'IS 300 AWD' 'RX 350 2WD' 'Dart' 'Granvia' 'Fabia' 'Veloster' 'L200'\n",
      " 'Sienna 7 Passenger' 'A4 4.2' 220.0 'Highlander SE 3.5L 2WD' 'X5 4.8is'\n",
      " 'Pathfinder 4 V6 Automatic' 'C-Class C 300 (W204)' 'Malibu LS'\n",
      " 'C-HR Limited FWD' 'XC90' 'Frontier Automatic'\n",
      " 'Range Rover Velar P380 S 4x4' 'Santa Fe SE' 'Tucson Limited FWD'\n",
      " 'X5 4.8i Sports Activity' 'Elantra 2' 'F-150 Super Cab 4x4' 'Navigator'\n",
      " 'CX-9' 'CR-V LX 4WD Automatic' 'Outback']\n",
      "##################################################\n",
      "Year:[2015. 2013. 2011. 2009. 2008. 2010. 2014. 2012. 2022. 2006. 2021. 2017.\n",
      " 2007. 2002. 2016. 2019. 2020. 2004. 2018. 2005. 2003. 2000. 1999. 2001.\n",
      " 1989. 1998. 1982. 1994. 1993. 1997.]\n",
      "##################################################\n",
      "Type:['Foreign Used' 'Nigerian Used' 'Brand New']\n",
      "##################################################\n",
      "Colour:['Brown' 'Red' 'White' 'Gray' 'Silver' 'Black' 'Blue' 'Gold' 'Green'\n",
      " 'Beige' 'Purple' 'Orange' 'Burgandy' 'Ivory' 'Pink' 'Pearl' 'Yellow'\n",
      " 'Luury' 'Teal']\n",
      "##################################################\n",
      "Maker:['Mercedes-Benz' 'Hyundai' 'Lexus' 'Toyota' 'Mazda' 'Honda' 'Land Rover'\n",
      " 'Porsche' 'Acura' 'Nissan' 'Pontiac' 'Ford' 'Jeep' 'Kia' 'Peugeot' 'BMW'\n",
      " 'Mitsubishi' 'Dodge' 'Chevrolet' 'Scion' 'Audi' 'Infiniti' 'Mini'\n",
      " 'Volkswagen' 'Suzuki' 'Chrysler' 'Volvo' 'Rolls-Royce' 'JAC' 'Subaru'\n",
      " 'Renault' 'GMC' 'Rover' 'IVM' 'Bentley' 'Opel' 'Lincoln' 'Hummer'\n",
      " 'Saturn' 'Cadillac' 'Lamborghini' 'Buick' 'Smart' 'Jaguar' 'Ferrari'\n",
      " 'Tata' 'Skoda']\n",
      "##################################################\n"
     ]
    }
   ],
   "source": [
    "for catFeature in catFeatures:\n",
    "    print(catFeature,  df[catFeature].unique(), sep= \":\")\n",
    "    print(\"#\" * 50)"
   ]
  },
  {
   "cell_type": "code",
   "execution_count": 15,
   "id": "79213c95",
   "metadata": {},
   "outputs": [
    {
     "data": {
      "text/plain": [
       "Camry              437\n",
       "Corolla            202\n",
       "ES 350             188\n",
       "C300               133\n",
       "Accord             104\n",
       "                  ... \n",
       "Ranger XL            1\n",
       "MDX Base FWD         1\n",
       "Odyssey 2.4 2WD      1\n",
       "Traverse 1LT         1\n",
       "Outback              1\n",
       "Name: Model, Length: 897, dtype: int64"
      ]
     },
     "execution_count": 15,
     "metadata": {},
     "output_type": "execute_result"
    }
   ],
   "source": [
    "df[\"Model\"].value_counts()"
   ]
  },
  {
   "cell_type": "code",
   "execution_count": 122,
   "id": "65f5239f",
   "metadata": {},
   "outputs": [],
   "source": [
    "df.drop(\"Model\", axis = \"columns\", inplace = True)"
   ]
  },
  {
   "cell_type": "code",
   "execution_count": 123,
   "id": "e6819dcb",
   "metadata": {},
   "outputs": [],
   "source": [
    "encFeatures = [\"Location\", \"Maker\", \"Colour\", \"Type\", \"Year\"]"
   ]
  },
  {
   "cell_type": "code",
   "execution_count": 124,
   "id": "0dce6bb7",
   "metadata": {},
   "outputs": [],
   "source": [
    "# Creating a for loop to encode\n",
    "for encFeature in encFeatures:\n",
    "    # Giving each \"encFeature\" i.e each column, a value\n",
    "    df[f\"{encFeature}_cat\"] = df[encFeature].astype(\"category\")\n",
    "    # Converting the categorized datapoints into integers\n",
    "    df[f\"{encFeature}_cat\"].cat.codes\n",
    "    # instantiating the converted datapoints into new series/ separate from the original series\n",
    "    df[f\"{encFeature}_cat\"] = df[f\"{encFeature}_cat\"].cat.codes\n",
    "    \n",
    "\n",
    "     \n",
    "    "
   ]
  },
  {
   "cell_type": "code",
   "execution_count": 125,
   "id": "410d4ac7",
   "metadata": {
    "scrolled": true
   },
   "outputs": [
    {
     "data": {
      "text/html": [
       "<div>\n",
       "<style scoped>\n",
       "    .dataframe tbody tr th:only-of-type {\n",
       "        vertical-align: middle;\n",
       "    }\n",
       "\n",
       "    .dataframe tbody tr th {\n",
       "        vertical-align: top;\n",
       "    }\n",
       "\n",
       "    .dataframe thead th {\n",
       "        text-align: right;\n",
       "    }\n",
       "</style>\n",
       "<table border=\"1\" class=\"dataframe\">\n",
       "  <thead>\n",
       "    <tr style=\"text-align: right;\">\n",
       "      <th></th>\n",
       "      <th>Location</th>\n",
       "      <th>Maker</th>\n",
       "      <th>Year</th>\n",
       "      <th>Colour</th>\n",
       "      <th>Amount (Million ₦)</th>\n",
       "      <th>Type</th>\n",
       "      <th>Distance_Km</th>\n",
       "      <th>Location_cat</th>\n",
       "      <th>Maker_cat</th>\n",
       "      <th>Colour_cat</th>\n",
       "      <th>Type_cat</th>\n",
       "      <th>Year_cat</th>\n",
       "    </tr>\n",
       "  </thead>\n",
       "  <tbody>\n",
       "    <tr>\n",
       "      <th>0</th>\n",
       "      <td>Abuja</td>\n",
       "      <td>Mercedes-Benz</td>\n",
       "      <td>2015.0</td>\n",
       "      <td>Brown</td>\n",
       "      <td>14.50</td>\n",
       "      <td>Foreign Used</td>\n",
       "      <td>50000.000000</td>\n",
       "      <td>0</td>\n",
       "      <td>26</td>\n",
       "      <td>3</td>\n",
       "      <td>1</td>\n",
       "      <td>22</td>\n",
       "    </tr>\n",
       "    <tr>\n",
       "      <th>1</th>\n",
       "      <td>Abuja</td>\n",
       "      <td>Hyundai</td>\n",
       "      <td>2013.0</td>\n",
       "      <td>Red</td>\n",
       "      <td>1.55</td>\n",
       "      <td>Nigerian Used</td>\n",
       "      <td>101038.321282</td>\n",
       "      <td>0</td>\n",
       "      <td>14</td>\n",
       "      <td>14</td>\n",
       "      <td>2</td>\n",
       "      <td>20</td>\n",
       "    </tr>\n",
       "    <tr>\n",
       "      <th>2</th>\n",
       "      <td>Lagos</td>\n",
       "      <td>Lexus</td>\n",
       "      <td>2011.0</td>\n",
       "      <td>White</td>\n",
       "      <td>14.00</td>\n",
       "      <td>Foreign Used</td>\n",
       "      <td>85000.000000</td>\n",
       "      <td>2</td>\n",
       "      <td>23</td>\n",
       "      <td>17</td>\n",
       "      <td>1</td>\n",
       "      <td>18</td>\n",
       "    </tr>\n",
       "    <tr>\n",
       "      <th>3</th>\n",
       "      <td>Lagos</td>\n",
       "      <td>Lexus</td>\n",
       "      <td>2011.0</td>\n",
       "      <td>Gray</td>\n",
       "      <td>4.95</td>\n",
       "      <td>Foreign Used</td>\n",
       "      <td>101038.321282</td>\n",
       "      <td>2</td>\n",
       "      <td>23</td>\n",
       "      <td>6</td>\n",
       "      <td>1</td>\n",
       "      <td>18</td>\n",
       "    </tr>\n",
       "    <tr>\n",
       "      <th>4</th>\n",
       "      <td>Ibadan</td>\n",
       "      <td>Toyota</td>\n",
       "      <td>2009.0</td>\n",
       "      <td>Silver</td>\n",
       "      <td>1.69</td>\n",
       "      <td>Nigerian Used</td>\n",
       "      <td>118906.000000</td>\n",
       "      <td>1</td>\n",
       "      <td>44</td>\n",
       "      <td>15</td>\n",
       "      <td>2</td>\n",
       "      <td>16</td>\n",
       "    </tr>\n",
       "  </tbody>\n",
       "</table>\n",
       "</div>"
      ],
      "text/plain": [
       "  Location          Maker    Year  Colour  Amount (Million ₦)           Type  \\\n",
       "0    Abuja  Mercedes-Benz  2015.0   Brown               14.50   Foreign Used   \n",
       "1    Abuja        Hyundai  2013.0     Red                1.55  Nigerian Used   \n",
       "2    Lagos          Lexus  2011.0   White               14.00   Foreign Used   \n",
       "3    Lagos          Lexus  2011.0    Gray                4.95   Foreign Used   \n",
       "4   Ibadan         Toyota  2009.0  Silver                1.69  Nigerian Used   \n",
       "\n",
       "     Distance_Km  Location_cat  Maker_cat  Colour_cat  Type_cat  Year_cat  \n",
       "0   50000.000000             0         26           3         1        22  \n",
       "1  101038.321282             0         14          14         2        20  \n",
       "2   85000.000000             2         23          17         1        18  \n",
       "3  101038.321282             2         23           6         1        18  \n",
       "4  118906.000000             1         44          15         2        16  "
      ]
     },
     "execution_count": 125,
     "metadata": {},
     "output_type": "execute_result"
    }
   ],
   "source": [
    "df.head()"
   ]
  },
  {
   "cell_type": "code",
   "execution_count": 126,
   "id": "d45617ab",
   "metadata": {},
   "outputs": [],
   "source": [
    "#df.drop(encFeatures, axis = 1, inplace = True)\n",
    "df.drop([\"Location\",\"Maker\",\"Year\",\"Colour\", \"Type\"], axis=1, inplace=True)"
   ]
  },
  {
   "cell_type": "code",
   "execution_count": 127,
   "id": "46ef69a0",
   "metadata": {},
   "outputs": [
    {
     "data": {
      "text/html": [
       "<div>\n",
       "<style scoped>\n",
       "    .dataframe tbody tr th:only-of-type {\n",
       "        vertical-align: middle;\n",
       "    }\n",
       "\n",
       "    .dataframe tbody tr th {\n",
       "        vertical-align: top;\n",
       "    }\n",
       "\n",
       "    .dataframe thead th {\n",
       "        text-align: right;\n",
       "    }\n",
       "</style>\n",
       "<table border=\"1\" class=\"dataframe\">\n",
       "  <thead>\n",
       "    <tr style=\"text-align: right;\">\n",
       "      <th></th>\n",
       "      <th>Amount (Million ₦)</th>\n",
       "      <th>Distance_Km</th>\n",
       "      <th>Location_cat</th>\n",
       "      <th>Maker_cat</th>\n",
       "      <th>Colour_cat</th>\n",
       "      <th>Type_cat</th>\n",
       "      <th>Year_cat</th>\n",
       "    </tr>\n",
       "  </thead>\n",
       "  <tbody>\n",
       "    <tr>\n",
       "      <th>0</th>\n",
       "      <td>14.50</td>\n",
       "      <td>50000.000000</td>\n",
       "      <td>0</td>\n",
       "      <td>26</td>\n",
       "      <td>3</td>\n",
       "      <td>1</td>\n",
       "      <td>22</td>\n",
       "    </tr>\n",
       "    <tr>\n",
       "      <th>1</th>\n",
       "      <td>1.55</td>\n",
       "      <td>101038.321282</td>\n",
       "      <td>0</td>\n",
       "      <td>14</td>\n",
       "      <td>14</td>\n",
       "      <td>2</td>\n",
       "      <td>20</td>\n",
       "    </tr>\n",
       "    <tr>\n",
       "      <th>2</th>\n",
       "      <td>14.00</td>\n",
       "      <td>85000.000000</td>\n",
       "      <td>2</td>\n",
       "      <td>23</td>\n",
       "      <td>17</td>\n",
       "      <td>1</td>\n",
       "      <td>18</td>\n",
       "    </tr>\n",
       "    <tr>\n",
       "      <th>3</th>\n",
       "      <td>4.95</td>\n",
       "      <td>101038.321282</td>\n",
       "      <td>2</td>\n",
       "      <td>23</td>\n",
       "      <td>6</td>\n",
       "      <td>1</td>\n",
       "      <td>18</td>\n",
       "    </tr>\n",
       "    <tr>\n",
       "      <th>4</th>\n",
       "      <td>1.69</td>\n",
       "      <td>118906.000000</td>\n",
       "      <td>1</td>\n",
       "      <td>44</td>\n",
       "      <td>15</td>\n",
       "      <td>2</td>\n",
       "      <td>16</td>\n",
       "    </tr>\n",
       "  </tbody>\n",
       "</table>\n",
       "</div>"
      ],
      "text/plain": [
       "   Amount (Million ₦)    Distance_Km  Location_cat  Maker_cat  Colour_cat  \\\n",
       "0               14.50   50000.000000             0         26           3   \n",
       "1                1.55  101038.321282             0         14          14   \n",
       "2               14.00   85000.000000             2         23          17   \n",
       "3                4.95  101038.321282             2         23           6   \n",
       "4                1.69  118906.000000             1         44          15   \n",
       "\n",
       "   Type_cat  Year_cat  \n",
       "0         1        22  \n",
       "1         2        20  \n",
       "2         1        18  \n",
       "3         1        18  \n",
       "4         2        16  "
      ]
     },
     "execution_count": 127,
     "metadata": {},
     "output_type": "execute_result"
    }
   ],
   "source": [
    "df.head()"
   ]
  },
  {
   "cell_type": "code",
   "execution_count": 128,
   "id": "0cd571e7",
   "metadata": {},
   "outputs": [
    {
     "name": "stdout",
     "output_type": "stream",
     "text": [
      "<class 'pandas.core.frame.DataFrame'>\n",
      "RangeIndex: 4487 entries, 0 to 4486\n",
      "Data columns (total 7 columns):\n",
      " #   Column              Non-Null Count  Dtype  \n",
      "---  ------              --------------  -----  \n",
      " 0   Amount (Million ₦)  4487 non-null   float64\n",
      " 1   Distance_Km         4487 non-null   float64\n",
      " 2   Location_cat        4487 non-null   int8   \n",
      " 3   Maker_cat           4487 non-null   int8   \n",
      " 4   Colour_cat          4487 non-null   int8   \n",
      " 5   Type_cat            4487 non-null   int8   \n",
      " 6   Year_cat            4487 non-null   int8   \n",
      "dtypes: float64(2), int8(5)\n",
      "memory usage: 92.1 KB\n"
     ]
    }
   ],
   "source": [
    "df.info()"
   ]
  },
  {
   "cell_type": "markdown",
   "id": "8a11b4fe",
   "metadata": {},
   "source": [
    "# Performing Data Segmentation"
   ]
  },
  {
   "cell_type": "code",
   "execution_count": 129,
   "id": "3e9da100",
   "metadata": {},
   "outputs": [],
   "source": [
    "X = df.drop(\"Amount (Million ₦)\", axis = \"columns\")"
   ]
  },
  {
   "cell_type": "code",
   "execution_count": 130,
   "id": "eeadaf25",
   "metadata": {
    "scrolled": true
   },
   "outputs": [
    {
     "data": {
      "text/html": [
       "<div>\n",
       "<style scoped>\n",
       "    .dataframe tbody tr th:only-of-type {\n",
       "        vertical-align: middle;\n",
       "    }\n",
       "\n",
       "    .dataframe tbody tr th {\n",
       "        vertical-align: top;\n",
       "    }\n",
       "\n",
       "    .dataframe thead th {\n",
       "        text-align: right;\n",
       "    }\n",
       "</style>\n",
       "<table border=\"1\" class=\"dataframe\">\n",
       "  <thead>\n",
       "    <tr style=\"text-align: right;\">\n",
       "      <th></th>\n",
       "      <th>Distance_Km</th>\n",
       "      <th>Location_cat</th>\n",
       "      <th>Maker_cat</th>\n",
       "      <th>Colour_cat</th>\n",
       "      <th>Type_cat</th>\n",
       "      <th>Year_cat</th>\n",
       "    </tr>\n",
       "  </thead>\n",
       "  <tbody>\n",
       "    <tr>\n",
       "      <th>0</th>\n",
       "      <td>50000.000000</td>\n",
       "      <td>0</td>\n",
       "      <td>26</td>\n",
       "      <td>3</td>\n",
       "      <td>1</td>\n",
       "      <td>22</td>\n",
       "    </tr>\n",
       "    <tr>\n",
       "      <th>1</th>\n",
       "      <td>101038.321282</td>\n",
       "      <td>0</td>\n",
       "      <td>14</td>\n",
       "      <td>14</td>\n",
       "      <td>2</td>\n",
       "      <td>20</td>\n",
       "    </tr>\n",
       "    <tr>\n",
       "      <th>2</th>\n",
       "      <td>85000.000000</td>\n",
       "      <td>2</td>\n",
       "      <td>23</td>\n",
       "      <td>17</td>\n",
       "      <td>1</td>\n",
       "      <td>18</td>\n",
       "    </tr>\n",
       "    <tr>\n",
       "      <th>3</th>\n",
       "      <td>101038.321282</td>\n",
       "      <td>2</td>\n",
       "      <td>23</td>\n",
       "      <td>6</td>\n",
       "      <td>1</td>\n",
       "      <td>18</td>\n",
       "    </tr>\n",
       "    <tr>\n",
       "      <th>4</th>\n",
       "      <td>118906.000000</td>\n",
       "      <td>1</td>\n",
       "      <td>44</td>\n",
       "      <td>15</td>\n",
       "      <td>2</td>\n",
       "      <td>16</td>\n",
       "    </tr>\n",
       "    <tr>\n",
       "      <th>...</th>\n",
       "      <td>...</td>\n",
       "      <td>...</td>\n",
       "      <td>...</td>\n",
       "      <td>...</td>\n",
       "      <td>...</td>\n",
       "      <td>...</td>\n",
       "    </tr>\n",
       "    <tr>\n",
       "      <th>4482</th>\n",
       "      <td>90282.000000</td>\n",
       "      <td>2</td>\n",
       "      <td>23</td>\n",
       "      <td>2</td>\n",
       "      <td>1</td>\n",
       "      <td>13</td>\n",
       "    </tr>\n",
       "    <tr>\n",
       "      <th>4483</th>\n",
       "      <td>85000.000000</td>\n",
       "      <td>2</td>\n",
       "      <td>23</td>\n",
       "      <td>2</td>\n",
       "      <td>1</td>\n",
       "      <td>14</td>\n",
       "    </tr>\n",
       "    <tr>\n",
       "      <th>4484</th>\n",
       "      <td>65214.000000</td>\n",
       "      <td>0</td>\n",
       "      <td>26</td>\n",
       "      <td>7</td>\n",
       "      <td>1</td>\n",
       "      <td>21</td>\n",
       "    </tr>\n",
       "    <tr>\n",
       "      <th>4485</th>\n",
       "      <td>45000.000000</td>\n",
       "      <td>2</td>\n",
       "      <td>23</td>\n",
       "      <td>1</td>\n",
       "      <td>1</td>\n",
       "      <td>27</td>\n",
       "    </tr>\n",
       "    <tr>\n",
       "      <th>4486</th>\n",
       "      <td>55000.000000</td>\n",
       "      <td>2</td>\n",
       "      <td>23</td>\n",
       "      <td>15</td>\n",
       "      <td>1</td>\n",
       "      <td>22</td>\n",
       "    </tr>\n",
       "  </tbody>\n",
       "</table>\n",
       "<p>4487 rows × 6 columns</p>\n",
       "</div>"
      ],
      "text/plain": [
       "        Distance_Km  Location_cat  Maker_cat  Colour_cat  Type_cat  Year_cat\n",
       "0      50000.000000             0         26           3         1        22\n",
       "1     101038.321282             0         14          14         2        20\n",
       "2      85000.000000             2         23          17         1        18\n",
       "3     101038.321282             2         23           6         1        18\n",
       "4     118906.000000             1         44          15         2        16\n",
       "...             ...           ...        ...         ...       ...       ...\n",
       "4482   90282.000000             2         23           2         1        13\n",
       "4483   85000.000000             2         23           2         1        14\n",
       "4484   65214.000000             0         26           7         1        21\n",
       "4485   45000.000000             2         23           1         1        27\n",
       "4486   55000.000000             2         23          15         1        22\n",
       "\n",
       "[4487 rows x 6 columns]"
      ]
     },
     "execution_count": 130,
     "metadata": {},
     "output_type": "execute_result"
    }
   ],
   "source": [
    "X"
   ]
  },
  {
   "cell_type": "code",
   "execution_count": 131,
   "id": "5b857a3e",
   "metadata": {},
   "outputs": [
    {
     "data": {
      "text/plain": [
       "0       14.50\n",
       "1        1.55\n",
       "2       14.00\n",
       "3        4.95\n",
       "4        1.69\n",
       "        ...  \n",
       "4482     4.60\n",
       "4483     4.50\n",
       "4484    10.45\n",
       "4485    31.00\n",
       "4486    14.00\n",
       "Name: Amount (Million ₦), Length: 4487, dtype: float64"
      ]
     },
     "execution_count": 131,
     "metadata": {},
     "output_type": "execute_result"
    }
   ],
   "source": [
    "y"
   ]
  },
  {
   "cell_type": "code",
   "execution_count": 82,
   "id": "9a699c73",
   "metadata": {
    "scrolled": true
   },
   "outputs": [
    {
     "data": {
      "text/plain": [
       "101038.321282    1555\n",
       "75000.000000       39\n",
       "65000.000000       38\n",
       "85000.000000       35\n",
       "80000.000000       32\n",
       "                 ... \n",
       "62385.000000        1\n",
       "61515.000000        1\n",
       "62527.000000        1\n",
       "19736.000000        1\n",
       "90282.000000        1\n",
       "Name: Distance_Km, Length: 1933, dtype: int64"
      ]
     },
     "execution_count": 82,
     "metadata": {},
     "output_type": "execute_result"
    }
   ],
   "source": [
    "df[\"Distance_Km\"].value_counts()"
   ]
  },
  {
   "cell_type": "code",
   "execution_count": 92,
   "id": "228e3bdf",
   "metadata": {
    "scrolled": true
   },
   "outputs": [
    {
     "data": {
      "text/plain": [
       "array([ 3, 14, 17,  6, 15,  1,  2,  5,  7,  0, 13, 10,  4,  8, 12, 11, 18,\n",
       "        9, 16], dtype=int8)"
      ]
     },
     "execution_count": 92,
     "metadata": {},
     "output_type": "execute_result"
    }
   ],
   "source": [
    "df[\"Colour_cat\"].unique()"
   ]
  },
  {
   "cell_type": "code",
   "execution_count": 93,
   "id": "b463e519",
   "metadata": {},
   "outputs": [
    {
     "data": {
      "text/plain": [
       "array([1, 2, 0], dtype=int8)"
      ]
     },
     "execution_count": 93,
     "metadata": {},
     "output_type": "execute_result"
    }
   ],
   "source": [
    "df[\"Type_cat\"].unique()"
   ]
  },
  {
   "cell_type": "code",
   "execution_count": 26,
   "id": "d9554395",
   "metadata": {},
   "outputs": [],
   "source": [
    "y = df[\"Amount (Million ₦)\"]"
   ]
  },
  {
   "cell_type": "code",
   "execution_count": 27,
   "id": "133dc972",
   "metadata": {},
   "outputs": [
    {
     "data": {
      "text/plain": [
       "0       14.50\n",
       "1        1.55\n",
       "2       14.00\n",
       "3        4.95\n",
       "4        1.69\n",
       "        ...  \n",
       "4482     4.60\n",
       "4483     4.50\n",
       "4484    10.45\n",
       "4485    31.00\n",
       "4486    14.00\n",
       "Name: Amount (Million ₦), Length: 4487, dtype: float64"
      ]
     },
     "execution_count": 27,
     "metadata": {},
     "output_type": "execute_result"
    }
   ],
   "source": [
    "y"
   ]
  },
  {
   "cell_type": "code",
   "execution_count": 132,
   "id": "1c005db5",
   "metadata": {},
   "outputs": [],
   "source": [
    "X_train, X_test, y_train, y_test = train_test_split(X, y, test_size = 0.3, random_state=1234, shuffle=True)"
   ]
  },
  {
   "cell_type": "code",
   "execution_count": 133,
   "id": "1e3048ab",
   "metadata": {},
   "outputs": [
    {
     "name": "stdout",
     "output_type": "stream",
     "text": [
      "<class 'pandas.core.frame.DataFrame'>\n",
      "RangeIndex: 4487 entries, 0 to 4486\n",
      "Data columns (total 6 columns):\n",
      " #   Column        Non-Null Count  Dtype  \n",
      "---  ------        --------------  -----  \n",
      " 0   Distance_Km   4487 non-null   float64\n",
      " 1   Location_cat  4487 non-null   int8   \n",
      " 2   Maker_cat     4487 non-null   int8   \n",
      " 3   Colour_cat    4487 non-null   int8   \n",
      " 4   Type_cat      4487 non-null   int8   \n",
      " 5   Year_cat      4487 non-null   int8   \n",
      "dtypes: float64(1), int8(5)\n",
      "memory usage: 57.1 KB\n"
     ]
    }
   ],
   "source": [
    "X.info()"
   ]
  },
  {
   "cell_type": "code",
   "execution_count": 30,
   "id": "1ff14a18",
   "metadata": {
    "scrolled": false
   },
   "outputs": [
    {
     "name": "stdout",
     "output_type": "stream",
     "text": [
      "(3140, 6)\n",
      "(1347, 6)\n",
      "(3140,)\n",
      "(1347,)\n"
     ]
    }
   ],
   "source": [
    "print(X_train.shape)\n",
    "print(X_test.shape)\n",
    "print(y_train.shape)\n",
    "print(y_test.shape)"
   ]
  },
  {
   "cell_type": "code",
   "execution_count": 31,
   "id": "f8ff78b1",
   "metadata": {},
   "outputs": [
    {
     "data": {
      "text/plain": [
       "1070     1.45\n",
       "4173     6.80\n",
       "3186    10.50\n",
       "3854     4.00\n",
       "3910    12.90\n",
       "        ...  \n",
       "2055     4.00\n",
       "1619     5.35\n",
       "3019     5.40\n",
       "2664     3.75\n",
       "912      3.40\n",
       "Name: Amount (Million ₦), Length: 1347, dtype: float64"
      ]
     },
     "execution_count": 31,
     "metadata": {},
     "output_type": "execute_result"
    }
   ],
   "source": [
    "y_test"
   ]
  },
  {
   "cell_type": "code",
   "execution_count": 134,
   "id": "851f5e0b",
   "metadata": {},
   "outputs": [],
   "source": [
    "linear = LinearRegression()"
   ]
  },
  {
   "cell_type": "code",
   "execution_count": 135,
   "id": "eaf515b2",
   "metadata": {},
   "outputs": [
    {
     "data": {
      "text/plain": [
       "LinearRegression()"
      ]
     },
     "execution_count": 135,
     "metadata": {},
     "output_type": "execute_result"
    }
   ],
   "source": [
    "linear.fit(X_train, y_train)"
   ]
  },
  {
   "cell_type": "code",
   "execution_count": 136,
   "id": "97942053",
   "metadata": {},
   "outputs": [
    {
     "data": {
      "text/plain": [
       "array([-10.32917044,  11.7652606 ,  21.93416557, ...,   9.31520146,\n",
       "         7.6200497 ,   9.85098018])"
      ]
     },
     "execution_count": 136,
     "metadata": {},
     "output_type": "execute_result"
    }
   ],
   "source": [
    "linear.predict(X_test)"
   ]
  },
  {
   "cell_type": "markdown",
   "id": "c77574d4",
   "metadata": {},
   "source": [
    "# Evaluating Model\n",
    "### Absolute Error"
   ]
  },
  {
   "cell_type": "code",
   "execution_count": 137,
   "id": "92f2b009",
   "metadata": {},
   "outputs": [],
   "source": [
    "linearPred = linear.predict(X_test)"
   ]
  },
  {
   "cell_type": "code",
   "execution_count": 138,
   "id": "4c3b53d8",
   "metadata": {},
   "outputs": [
    {
     "data": {
      "text/plain": [
       "7.94593449242345"
      ]
     },
     "execution_count": 138,
     "metadata": {},
     "output_type": "execute_result"
    }
   ],
   "source": [
    "mean_absolute_error(y_test, linearPred)"
   ]
  },
  {
   "cell_type": "markdown",
   "id": "1d4623d2",
   "metadata": {},
   "source": [
    "# Other Regressors"
   ]
  },
  {
   "cell_type": "markdown",
   "id": "a74ac822",
   "metadata": {},
   "source": [
    "## Gamma Regressor"
   ]
  },
  {
   "cell_type": "code",
   "execution_count": 37,
   "id": "9943fca7",
   "metadata": {},
   "outputs": [],
   "source": [
    "gamma = GammaRegressor()"
   ]
  },
  {
   "cell_type": "code",
   "execution_count": 38,
   "id": "b04cebb4",
   "metadata": {},
   "outputs": [
    {
     "name": "stderr",
     "output_type": "stream",
     "text": [
      "C:\\Users\\mojja\\anaconda3\\lib\\site-packages\\sklearn\\_loss\\glm_distribution.py:132: RuntimeWarning: divide by zero encountered in true_divide\n",
      "  return -2 * (y - y_pred) / self.unit_variance(y_pred)\n",
      "C:\\Users\\mojja\\anaconda3\\lib\\site-packages\\sklearn\\linear_model\\_glm\\glm.py:42: RuntimeWarning: invalid value encountered in multiply\n",
      "  temp = d1 * family.deviance_derivative(y, y_pred, weights)\n",
      "C:\\Users\\mojja\\anaconda3\\lib\\site-packages\\sklearn\\linear_model\\_glm\\glm.py:44: RuntimeWarning: invalid value encountered in matmul\n",
      "  devp = np.concatenate(([temp.sum()], temp @ X))\n",
      "C:\\Users\\mojja\\anaconda3\\lib\\site-packages\\sklearn\\_loss\\glm_distribution.py:326: RuntimeWarning: divide by zero encountered in log\n",
      "  dev = 2 * (np.log(y_pred / y) + y / y_pred - 1)\n",
      "C:\\Users\\mojja\\anaconda3\\lib\\site-packages\\sklearn\\_loss\\glm_distribution.py:326: RuntimeWarning: divide by zero encountered in true_divide\n",
      "  dev = 2 * (np.log(y_pred / y) + y / y_pred - 1)\n",
      "C:\\Users\\mojja\\anaconda3\\lib\\site-packages\\sklearn\\_loss\\glm_distribution.py:326: RuntimeWarning: invalid value encountered in add\n",
      "  dev = 2 * (np.log(y_pred / y) + y / y_pred - 1)\n",
      "C:\\Users\\mojja\\anaconda3\\lib\\site-packages\\sklearn\\_loss\\glm_distribution.py:326: RuntimeWarning: overflow encountered in true_divide\n",
      "  dev = 2 * (np.log(y_pred / y) + y / y_pred - 1)\n",
      "C:\\Users\\mojja\\anaconda3\\lib\\site-packages\\sklearn\\linear_model\\_glm\\glm.py:323: ConvergenceWarning: lbfgs failed to converge (status=2):\n",
      "ABNORMAL_TERMINATION_IN_LNSRCH.\n",
      "\n",
      "Increase the number of iterations (max_iter) or scale the data as shown in:\n",
      "    https://scikit-learn.org/stable/modules/preprocessing.html\n",
      "  self.n_iter_ = _check_optimize_result(\"lbfgs\", opt_res)\n"
     ]
    },
    {
     "data": {
      "text/plain": [
       "GammaRegressor()"
      ]
     },
     "execution_count": 38,
     "metadata": {},
     "output_type": "execute_result"
    }
   ],
   "source": [
    "gamma.fit(X_train, y_train)"
   ]
  },
  {
   "cell_type": "code",
   "execution_count": 39,
   "id": "a0283668",
   "metadata": {},
   "outputs": [
    {
     "data": {
      "text/plain": [
       "array([11.26406602, 11.26406602, 11.26406602, ..., 11.26406602,\n",
       "       11.26406602, 11.26406602])"
      ]
     },
     "execution_count": 39,
     "metadata": {},
     "output_type": "execute_result"
    }
   ],
   "source": [
    "gamma.predict(X_test)"
   ]
  },
  {
   "cell_type": "code",
   "execution_count": 40,
   "id": "fde0ebe2",
   "metadata": {},
   "outputs": [],
   "source": [
    "gammaPred = gamma.predict(X_test)"
   ]
  },
  {
   "cell_type": "code",
   "execution_count": 41,
   "id": "e4062411",
   "metadata": {},
   "outputs": [
    {
     "data": {
      "text/plain": [
       "9.571488888333118"
      ]
     },
     "execution_count": 41,
     "metadata": {},
     "output_type": "execute_result"
    }
   ],
   "source": [
    "mean_absolute_error(y_test, gammaPred)"
   ]
  },
  {
   "cell_type": "markdown",
   "id": "ae3361df",
   "metadata": {},
   "source": [
    "# HuberRegressor"
   ]
  },
  {
   "cell_type": "code",
   "execution_count": 42,
   "id": "b1a2c9b3",
   "metadata": {},
   "outputs": [],
   "source": [
    "huber = HuberRegressor()"
   ]
  },
  {
   "cell_type": "code",
   "execution_count": 43,
   "id": "af735402",
   "metadata": {},
   "outputs": [
    {
     "data": {
      "text/plain": [
       "HuberRegressor()"
      ]
     },
     "execution_count": 43,
     "metadata": {},
     "output_type": "execute_result"
    }
   ],
   "source": [
    "huber.fit(X_train, y_train)"
   ]
  },
  {
   "cell_type": "code",
   "execution_count": 44,
   "id": "09351e27",
   "metadata": {},
   "outputs": [
    {
     "data": {
      "text/plain": [
       "array([ 0.58230236,  8.31099242, 10.95063323, ...,  7.12934138,\n",
       "        5.54231209,  6.63405118])"
      ]
     },
     "execution_count": 44,
     "metadata": {},
     "output_type": "execute_result"
    }
   ],
   "source": [
    "huber.predict(X_test)"
   ]
  },
  {
   "cell_type": "code",
   "execution_count": 45,
   "id": "8c4c9527",
   "metadata": {},
   "outputs": [],
   "source": [
    "huberPred = huber.predict(X_test)"
   ]
  },
  {
   "cell_type": "code",
   "execution_count": 46,
   "id": "98fca998",
   "metadata": {},
   "outputs": [
    {
     "data": {
      "text/plain": [
       "6.385831027536613"
      ]
     },
     "execution_count": 46,
     "metadata": {},
     "output_type": "execute_result"
    }
   ],
   "source": [
    "mean_absolute_error(y_test, huberPred)"
   ]
  },
  {
   "cell_type": "markdown",
   "id": "1fecd850",
   "metadata": {},
   "source": [
    "## PoissonRegressor"
   ]
  },
  {
   "cell_type": "code",
   "execution_count": 47,
   "id": "19e1b5b9",
   "metadata": {},
   "outputs": [],
   "source": [
    "poison = PoissonRegressor()"
   ]
  },
  {
   "cell_type": "code",
   "execution_count": 48,
   "id": "c0231119",
   "metadata": {},
   "outputs": [
    {
     "name": "stderr",
     "output_type": "stream",
     "text": [
      "C:\\Users\\mojja\\anaconda3\\lib\\site-packages\\sklearn\\_loss\\glm_distribution.py:132: RuntimeWarning: divide by zero encountered in true_divide\n",
      "  return -2 * (y - y_pred) / self.unit_variance(y_pred)\n",
      "C:\\Users\\mojja\\anaconda3\\lib\\site-packages\\sklearn\\linear_model\\_glm\\glm.py:42: RuntimeWarning: invalid value encountered in multiply\n",
      "  temp = d1 * family.deviance_derivative(y, y_pred, weights)\n",
      "C:\\Users\\mojja\\anaconda3\\lib\\site-packages\\sklearn\\_loss\\glm_distribution.py:323: RuntimeWarning: divide by zero encountered in true_divide\n",
      "  dev = 2 * (xlogy(y, y / y_pred) - y + y_pred)\n"
     ]
    },
    {
     "data": {
      "text/plain": [
       "PoissonRegressor()"
      ]
     },
     "execution_count": 48,
     "metadata": {},
     "output_type": "execute_result"
    }
   ],
   "source": [
    "poison.fit(X_train, y_train)"
   ]
  },
  {
   "cell_type": "code",
   "execution_count": 49,
   "id": "70a48438",
   "metadata": {},
   "outputs": [
    {
     "data": {
      "text/plain": [
       "array([11.26406602, 11.26406602, 11.26406602, ..., 11.26406602,\n",
       "       11.26406602, 11.26406602])"
      ]
     },
     "execution_count": 49,
     "metadata": {},
     "output_type": "execute_result"
    }
   ],
   "source": [
    "poison.predict(X_test)"
   ]
  },
  {
   "cell_type": "code",
   "execution_count": 50,
   "id": "31de2a47",
   "metadata": {},
   "outputs": [],
   "source": [
    "poisonPred = poison.predict(X_test)"
   ]
  },
  {
   "cell_type": "code",
   "execution_count": 51,
   "id": "cbe55e8d",
   "metadata": {},
   "outputs": [
    {
     "data": {
      "text/plain": [
       "9.571488888333118"
      ]
     },
     "execution_count": 51,
     "metadata": {},
     "output_type": "execute_result"
    }
   ],
   "source": [
    "mean_absolute_error(y_test, poisonPred)"
   ]
  },
  {
   "cell_type": "markdown",
   "id": "d6ab95c7",
   "metadata": {},
   "source": [
    "## AdaBoostRegressor"
   ]
  },
  {
   "cell_type": "code",
   "execution_count": 52,
   "id": "95694839",
   "metadata": {},
   "outputs": [],
   "source": [
    "ada = AdaBoostRegressor()"
   ]
  },
  {
   "cell_type": "code",
   "execution_count": 53,
   "id": "e36904ec",
   "metadata": {},
   "outputs": [
    {
     "data": {
      "text/plain": [
       "AdaBoostRegressor()"
      ]
     },
     "execution_count": 53,
     "metadata": {},
     "output_type": "execute_result"
    }
   ],
   "source": [
    "ada.fit(X_train, y_train)"
   ]
  },
  {
   "cell_type": "code",
   "execution_count": 54,
   "id": "41154038",
   "metadata": {},
   "outputs": [
    {
     "data": {
      "text/plain": [
       "array([14.36301354, 32.71411776, 36.66129032, ..., 28.60184391,\n",
       "       14.36301354, 12.53466781])"
      ]
     },
     "execution_count": 54,
     "metadata": {},
     "output_type": "execute_result"
    }
   ],
   "source": [
    "ada.predict(X_test)"
   ]
  },
  {
   "cell_type": "code",
   "execution_count": 55,
   "id": "cba8516d",
   "metadata": {},
   "outputs": [],
   "source": [
    "adaPred = ada.predict(X_test)"
   ]
  },
  {
   "cell_type": "code",
   "execution_count": 56,
   "id": "2e50bcf7",
   "metadata": {},
   "outputs": [
    {
     "data": {
      "text/plain": [
       "20.79512160351856"
      ]
     },
     "execution_count": 56,
     "metadata": {},
     "output_type": "execute_result"
    }
   ],
   "source": [
    "mean_absolute_error(y_test, adaPred)"
   ]
  },
  {
   "cell_type": "markdown",
   "id": "dfe987d4",
   "metadata": {},
   "source": [
    "## GradientBoostingRegressor"
   ]
  },
  {
   "cell_type": "code",
   "execution_count": 139,
   "id": "b8fe6db1",
   "metadata": {},
   "outputs": [],
   "source": [
    "grad = GradientBoostingRegressor()"
   ]
  },
  {
   "cell_type": "code",
   "execution_count": 140,
   "id": "0952bb5a",
   "metadata": {},
   "outputs": [
    {
     "data": {
      "text/plain": [
       "GradientBoostingRegressor()"
      ]
     },
     "execution_count": 140,
     "metadata": {},
     "output_type": "execute_result"
    }
   ],
   "source": [
    "grad.fit(X_train, y_train)"
   ]
  },
  {
   "cell_type": "code",
   "execution_count": 141,
   "id": "47f71127",
   "metadata": {},
   "outputs": [
    {
     "data": {
      "text/plain": [
       "array([ 1.62859943,  7.50274722, 14.42774657, ...,  7.03947282,\n",
       "        4.73458257,  2.52282439])"
      ]
     },
     "execution_count": 141,
     "metadata": {},
     "output_type": "execute_result"
    }
   ],
   "source": [
    "grad.predict(X_test)"
   ]
  },
  {
   "cell_type": "code",
   "execution_count": 142,
   "id": "5d69fd6a",
   "metadata": {},
   "outputs": [],
   "source": [
    "gradPred = grad.predict(X_test)"
   ]
  },
  {
   "cell_type": "code",
   "execution_count": 143,
   "id": "09918c56",
   "metadata": {
    "scrolled": true
   },
   "outputs": [
    {
     "data": {
      "text/plain": [
       "4.022826846434734"
      ]
     },
     "execution_count": 143,
     "metadata": {},
     "output_type": "execute_result"
    }
   ],
   "source": [
    "mean_absolute_error(y_test, gradPred)"
   ]
  },
  {
   "cell_type": "code",
   "execution_count": 106,
   "id": "ed30b545",
   "metadata": {},
   "outputs": [
    {
     "data": {
      "text/plain": [
       "array([ 1.62859943,  7.50274722, 14.42774657, ...,  7.03947282,\n",
       "        4.73458257,  2.52282439])"
      ]
     },
     "execution_count": 106,
     "metadata": {},
     "output_type": "execute_result"
    }
   ],
   "source": [
    "gradPred"
   ]
  },
  {
   "cell_type": "markdown",
   "id": "4dc7b3b8",
   "metadata": {},
   "source": [
    "## ExtraTreesRegressor"
   ]
  },
  {
   "cell_type": "code",
   "execution_count": 62,
   "id": "35345648",
   "metadata": {},
   "outputs": [],
   "source": [
    "extra = ExtraTreesRegressor()"
   ]
  },
  {
   "cell_type": "code",
   "execution_count": 63,
   "id": "f54acc1c",
   "metadata": {},
   "outputs": [
    {
     "data": {
      "text/plain": [
       "ExtraTreesRegressor()"
      ]
     },
     "execution_count": 63,
     "metadata": {},
     "output_type": "execute_result"
    }
   ],
   "source": [
    "extra.fit(X_train, y_train)"
   ]
  },
  {
   "cell_type": "code",
   "execution_count": 64,
   "id": "8f4aa8f2",
   "metadata": {},
   "outputs": [
    {
     "data": {
      "text/plain": [
       "array([ 1.744475  ,  6.9869    , 10.40466667, ...,  7.90083333,\n",
       "        3.85      ,  3.7       ])"
      ]
     },
     "execution_count": 64,
     "metadata": {},
     "output_type": "execute_result"
    }
   ],
   "source": [
    "extra.predict(X_test)"
   ]
  },
  {
   "cell_type": "code",
   "execution_count": 65,
   "id": "48debb5d",
   "metadata": {},
   "outputs": [],
   "source": [
    "extraPred = extra.predict(X_test)"
   ]
  },
  {
   "cell_type": "code",
   "execution_count": 66,
   "id": "ca75070b",
   "metadata": {},
   "outputs": [
    {
     "data": {
      "text/plain": [
       "4.611022033366741"
      ]
     },
     "execution_count": 66,
     "metadata": {},
     "output_type": "execute_result"
    }
   ],
   "source": [
    "mean_absolute_error(y_test, extraPred)"
   ]
  },
  {
   "cell_type": "markdown",
   "id": "23a582c6",
   "metadata": {},
   "source": [
    "## RadiusNeighborsRegressor"
   ]
  },
  {
   "cell_type": "code",
   "execution_count": 67,
   "id": "a463ef6c",
   "metadata": {},
   "outputs": [],
   "source": [
    "rad = RadiusNeighborsRegressor()"
   ]
  },
  {
   "cell_type": "code",
   "execution_count": 68,
   "id": "6ef2b5bb",
   "metadata": {},
   "outputs": [
    {
     "data": {
      "text/plain": [
       "RadiusNeighborsRegressor()"
      ]
     },
     "execution_count": 68,
     "metadata": {},
     "output_type": "execute_result"
    }
   ],
   "source": [
    "rad.fit(X_train, y_train)"
   ]
  },
  {
   "cell_type": "code",
   "execution_count": 69,
   "id": "6100b5d4",
   "metadata": {},
   "outputs": [
    {
     "name": "stderr",
     "output_type": "stream",
     "text": [
      "C:\\Users\\mojja\\anaconda3\\lib\\site-packages\\sklearn\\neighbors\\_regression.py:470: UserWarning: One or more samples have no neighbors within specified radius; predicting NaN.\n",
      "  warnings.warn(empty_warning_msg)\n"
     ]
    },
    {
     "data": {
      "text/plain": [
       "array([       nan,        nan,        nan, ..., 9.58333333, 5.23857143,\n",
       "       3.46666667])"
      ]
     },
     "execution_count": 69,
     "metadata": {},
     "output_type": "execute_result"
    }
   ],
   "source": [
    "rad.predict(X_test)"
   ]
  },
  {
   "cell_type": "code",
   "execution_count": 70,
   "id": "1e67814d",
   "metadata": {},
   "outputs": [
    {
     "name": "stderr",
     "output_type": "stream",
     "text": [
      "C:\\Users\\mojja\\anaconda3\\lib\\site-packages\\sklearn\\neighbors\\_regression.py:470: UserWarning: One or more samples have no neighbors within specified radius; predicting NaN.\n",
      "  warnings.warn(empty_warning_msg)\n"
     ]
    }
   ],
   "source": [
    "radPred = rad.predict(X_test)"
   ]
  },
  {
   "cell_type": "markdown",
   "id": "f89e0419",
   "metadata": {},
   "source": [
    "## RandomForestRegressor"
   ]
  },
  {
   "cell_type": "code",
   "execution_count": 71,
   "id": "a2c7a533",
   "metadata": {},
   "outputs": [],
   "source": [
    "random = RandomForestRegressor()"
   ]
  },
  {
   "cell_type": "code",
   "execution_count": 72,
   "id": "96e92594",
   "metadata": {},
   "outputs": [
    {
     "data": {
      "text/plain": [
       "RandomForestRegressor()"
      ]
     },
     "execution_count": 72,
     "metadata": {},
     "output_type": "execute_result"
    }
   ],
   "source": [
    "random.fit(X_train, y_train)"
   ]
  },
  {
   "cell_type": "code",
   "execution_count": 73,
   "id": "9dadb2c3",
   "metadata": {},
   "outputs": [
    {
     "data": {
      "text/plain": [
       "array([ 1.947775  ,  6.67414996, 10.08233333, ...,  7.78190833,\n",
       "        4.221417  ,  3.62483333])"
      ]
     },
     "execution_count": 73,
     "metadata": {},
     "output_type": "execute_result"
    }
   ],
   "source": [
    "random.predict(X_test)"
   ]
  },
  {
   "cell_type": "code",
   "execution_count": 74,
   "id": "4f6c6bf4",
   "metadata": {},
   "outputs": [],
   "source": [
    "randomPred = random.predict(X_test)"
   ]
  },
  {
   "cell_type": "code",
   "execution_count": 75,
   "id": "f1c0aad9",
   "metadata": {},
   "outputs": [
    {
     "data": {
      "text/plain": [
       "4.2835035880504995"
      ]
     },
     "execution_count": 75,
     "metadata": {},
     "output_type": "execute_result"
    }
   ],
   "source": [
    "mean_absolute_error(y_test, randomPred)"
   ]
  },
  {
   "cell_type": "code",
   "execution_count": null,
   "id": "612e9048",
   "metadata": {},
   "outputs": [],
   "source": []
  },
  {
   "cell_type": "code",
   "execution_count": null,
   "id": "b27ba2dc",
   "metadata": {},
   "outputs": [],
   "source": []
  },
  {
   "cell_type": "markdown",
   "id": "9454d0fa",
   "metadata": {},
   "source": [
    "# Exporting for Model Deployment"
   ]
  },
  {
   "cell_type": "code",
   "execution_count": 76,
   "id": "c1fa100d",
   "metadata": {},
   "outputs": [],
   "source": [
    "grad = GradientBoostingRegressor()"
   ]
  },
  {
   "cell_type": "code",
   "execution_count": 77,
   "id": "ab0582f2",
   "metadata": {},
   "outputs": [],
   "source": [
    "import pickle"
   ]
  },
  {
   "cell_type": "code",
   "execution_count": 145,
   "id": "e80fc16e",
   "metadata": {},
   "outputs": [],
   "source": [
    "filename = \"vehicle.sav\"\n",
    "pickle.dump(grad, open(filename, \"wb\"))"
   ]
  },
  {
   "cell_type": "code",
   "execution_count": 95,
   "id": "6cd72f18",
   "metadata": {},
   "outputs": [
    {
     "data": {
      "text/html": [
       "<div>\n",
       "<style scoped>\n",
       "    .dataframe tbody tr th:only-of-type {\n",
       "        vertical-align: middle;\n",
       "    }\n",
       "\n",
       "    .dataframe tbody tr th {\n",
       "        vertical-align: top;\n",
       "    }\n",
       "\n",
       "    .dataframe thead th {\n",
       "        text-align: right;\n",
       "    }\n",
       "</style>\n",
       "<table border=\"1\" class=\"dataframe\">\n",
       "  <thead>\n",
       "    <tr style=\"text-align: right;\">\n",
       "      <th></th>\n",
       "      <th>Distance_Km</th>\n",
       "      <th>Location_cat</th>\n",
       "      <th>Maker_cat</th>\n",
       "      <th>Colour_cat</th>\n",
       "      <th>Type_cat</th>\n",
       "      <th>Year_cat</th>\n",
       "    </tr>\n",
       "  </thead>\n",
       "  <tbody>\n",
       "    <tr>\n",
       "      <th>0</th>\n",
       "      <td>50000.000000</td>\n",
       "      <td>0</td>\n",
       "      <td>26</td>\n",
       "      <td>3</td>\n",
       "      <td>1</td>\n",
       "      <td>22</td>\n",
       "    </tr>\n",
       "    <tr>\n",
       "      <th>1</th>\n",
       "      <td>101038.321282</td>\n",
       "      <td>0</td>\n",
       "      <td>14</td>\n",
       "      <td>14</td>\n",
       "      <td>2</td>\n",
       "      <td>20</td>\n",
       "    </tr>\n",
       "    <tr>\n",
       "      <th>2</th>\n",
       "      <td>85000.000000</td>\n",
       "      <td>2</td>\n",
       "      <td>23</td>\n",
       "      <td>17</td>\n",
       "      <td>1</td>\n",
       "      <td>18</td>\n",
       "    </tr>\n",
       "    <tr>\n",
       "      <th>3</th>\n",
       "      <td>101038.321282</td>\n",
       "      <td>2</td>\n",
       "      <td>23</td>\n",
       "      <td>6</td>\n",
       "      <td>1</td>\n",
       "      <td>18</td>\n",
       "    </tr>\n",
       "    <tr>\n",
       "      <th>4</th>\n",
       "      <td>118906.000000</td>\n",
       "      <td>1</td>\n",
       "      <td>44</td>\n",
       "      <td>15</td>\n",
       "      <td>2</td>\n",
       "      <td>16</td>\n",
       "    </tr>\n",
       "    <tr>\n",
       "      <th>...</th>\n",
       "      <td>...</td>\n",
       "      <td>...</td>\n",
       "      <td>...</td>\n",
       "      <td>...</td>\n",
       "      <td>...</td>\n",
       "      <td>...</td>\n",
       "    </tr>\n",
       "    <tr>\n",
       "      <th>4482</th>\n",
       "      <td>90282.000000</td>\n",
       "      <td>2</td>\n",
       "      <td>23</td>\n",
       "      <td>2</td>\n",
       "      <td>1</td>\n",
       "      <td>13</td>\n",
       "    </tr>\n",
       "    <tr>\n",
       "      <th>4483</th>\n",
       "      <td>85000.000000</td>\n",
       "      <td>2</td>\n",
       "      <td>23</td>\n",
       "      <td>2</td>\n",
       "      <td>1</td>\n",
       "      <td>14</td>\n",
       "    </tr>\n",
       "    <tr>\n",
       "      <th>4484</th>\n",
       "      <td>65214.000000</td>\n",
       "      <td>0</td>\n",
       "      <td>26</td>\n",
       "      <td>7</td>\n",
       "      <td>1</td>\n",
       "      <td>21</td>\n",
       "    </tr>\n",
       "    <tr>\n",
       "      <th>4485</th>\n",
       "      <td>45000.000000</td>\n",
       "      <td>2</td>\n",
       "      <td>23</td>\n",
       "      <td>1</td>\n",
       "      <td>1</td>\n",
       "      <td>27</td>\n",
       "    </tr>\n",
       "    <tr>\n",
       "      <th>4486</th>\n",
       "      <td>55000.000000</td>\n",
       "      <td>2</td>\n",
       "      <td>23</td>\n",
       "      <td>15</td>\n",
       "      <td>1</td>\n",
       "      <td>22</td>\n",
       "    </tr>\n",
       "  </tbody>\n",
       "</table>\n",
       "<p>4487 rows × 6 columns</p>\n",
       "</div>"
      ],
      "text/plain": [
       "        Distance_Km  Location_cat  Maker_cat  Colour_cat  Type_cat  Year_cat\n",
       "0      50000.000000             0         26           3         1        22\n",
       "1     101038.321282             0         14          14         2        20\n",
       "2      85000.000000             2         23          17         1        18\n",
       "3     101038.321282             2         23           6         1        18\n",
       "4     118906.000000             1         44          15         2        16\n",
       "...             ...           ...        ...         ...       ...       ...\n",
       "4482   90282.000000             2         23           2         1        13\n",
       "4483   85000.000000             2         23           2         1        14\n",
       "4484   65214.000000             0         26           7         1        21\n",
       "4485   45000.000000             2         23           1         1        27\n",
       "4486   55000.000000             2         23          15         1        22\n",
       "\n",
       "[4487 rows x 6 columns]"
      ]
     },
     "execution_count": 95,
     "metadata": {},
     "output_type": "execute_result"
    }
   ],
   "source": [
    "X"
   ]
  },
  {
   "cell_type": "code",
   "execution_count": 107,
   "id": "df75f1ed",
   "metadata": {},
   "outputs": [],
   "source": [
    "linear = LinearRegression()"
   ]
  },
  {
   "cell_type": "code",
   "execution_count": 144,
   "id": "d702212d",
   "metadata": {},
   "outputs": [],
   "source": [
    "filename = \"mypred.sav\"\n",
    "pickle.dump(grad, open(filename, \"wb\"))"
   ]
  },
  {
   "cell_type": "code",
   "execution_count": null,
   "id": "d9b06018",
   "metadata": {},
   "outputs": [],
   "source": []
  }
 ],
 "metadata": {
  "kernelspec": {
   "display_name": "Python 3 (ipykernel)",
   "language": "python",
   "name": "python3"
  },
  "language_info": {
   "codemirror_mode": {
    "name": "ipython",
    "version": 3
   },
   "file_extension": ".py",
   "mimetype": "text/x-python",
   "name": "python",
   "nbconvert_exporter": "python",
   "pygments_lexer": "ipython3",
   "version": "3.9.12"
  }
 },
 "nbformat": 4,
 "nbformat_minor": 5
}
