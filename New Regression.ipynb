{
 "cells": [
  {
   "cell_type": "code",
   "execution_count": 200,
   "id": "a9b25ab0",
   "metadata": {},
   "outputs": [],
   "source": [
    "import pandas as pd\n",
    "import numpy as np\n",
    "import matplotlib.pyplot as plt\n",
    "import seaborn\n",
    "import sklearn\n",
    "\n",
    "from sklearn.preprocessing import OneHotEncoder\n",
    "from sklearn.model_selection import train_test_split\n",
    "from sklearn import metrics\n",
    "from sklearn.linear_model import LogisticRegression\n",
    "from sklearn.naive_bayes import GaussianNB\n",
    "from sklearn.ensemble import RandomForestClassifier, AdaBoostRegressor\n",
    "from sklearn.ensemble import GradientBoostingClassifier, AdaBoostRegressor, ExtraTreesRegressor\n",
    "from sklearn.svm import SVC\n",
    "from sklearn.neighbors import KNeighborsClassifier\n",
    "from sklearn.tree import DecisionTreeClassifier\n",
    "from sklearn.metrics import accuracy_score, f1_score\n",
    "from sklearn.preprocessing import LabelEncoder, LabelBinarizer"
   ]
  },
  {
   "cell_type": "code",
   "execution_count": 201,
   "id": "f33e1d40",
   "metadata": {},
   "outputs": [],
   "source": [
    "df = pd.read_excel(\"AI_Invasion_In-Class_Dataset.xlsx\") "
   ]
  },
  {
   "cell_type": "code",
   "execution_count": 202,
   "id": "3bfd4982",
   "metadata": {},
   "outputs": [
    {
     "data": {
      "text/plain": [
       "(4487, 8)"
      ]
     },
     "execution_count": 202,
     "metadata": {},
     "output_type": "execute_result"
    }
   ],
   "source": [
    "df.shape"
   ]
  },
  {
   "cell_type": "code",
   "execution_count": 203,
   "id": "ad0f6ca4",
   "metadata": {},
   "outputs": [
    {
     "data": {
      "text/html": [
       "<div>\n",
       "<style scoped>\n",
       "    .dataframe tbody tr th:only-of-type {\n",
       "        vertical-align: middle;\n",
       "    }\n",
       "\n",
       "    .dataframe tbody tr th {\n",
       "        vertical-align: top;\n",
       "    }\n",
       "\n",
       "    .dataframe thead th {\n",
       "        text-align: right;\n",
       "    }\n",
       "</style>\n",
       "<table border=\"1\" class=\"dataframe\">\n",
       "  <thead>\n",
       "    <tr style=\"text-align: right;\">\n",
       "      <th></th>\n",
       "      <th>Location</th>\n",
       "      <th>Maker</th>\n",
       "      <th>Model</th>\n",
       "      <th>Year</th>\n",
       "      <th>Colour</th>\n",
       "      <th>Amount (Million ₦)</th>\n",
       "      <th>Type</th>\n",
       "      <th>Distance_Km</th>\n",
       "    </tr>\n",
       "  </thead>\n",
       "  <tbody>\n",
       "    <tr>\n",
       "      <th>0</th>\n",
       "      <td>Abuja</td>\n",
       "      <td>Mercedes-Benz</td>\n",
       "      <td>GLA 250</td>\n",
       "      <td>2015.0</td>\n",
       "      <td>Brown</td>\n",
       "      <td>14.50</td>\n",
       "      <td>Foreign Used</td>\n",
       "      <td>50000.0</td>\n",
       "    </tr>\n",
       "    <tr>\n",
       "      <th>1</th>\n",
       "      <td>Abuja</td>\n",
       "      <td>Hyundai</td>\n",
       "      <td>Accent</td>\n",
       "      <td>2013.0</td>\n",
       "      <td>Red</td>\n",
       "      <td>1.55</td>\n",
       "      <td>Nigerian Used</td>\n",
       "      <td>NaN</td>\n",
       "    </tr>\n",
       "    <tr>\n",
       "      <th>2</th>\n",
       "      <td>Lagos</td>\n",
       "      <td>Lexus</td>\n",
       "      <td>GX 460 Premium</td>\n",
       "      <td>2011.0</td>\n",
       "      <td>White</td>\n",
       "      <td>14.00</td>\n",
       "      <td>Foreign Used</td>\n",
       "      <td>85000.0</td>\n",
       "    </tr>\n",
       "    <tr>\n",
       "      <th>3</th>\n",
       "      <td>Lagos</td>\n",
       "      <td>Lexus</td>\n",
       "      <td>ES 350</td>\n",
       "      <td>2011.0</td>\n",
       "      <td>Gray</td>\n",
       "      <td>4.95</td>\n",
       "      <td>Foreign Used</td>\n",
       "      <td>NaN</td>\n",
       "    </tr>\n",
       "    <tr>\n",
       "      <th>4</th>\n",
       "      <td>Ibadan</td>\n",
       "      <td>Toyota</td>\n",
       "      <td>Verso 1.6</td>\n",
       "      <td>2009.0</td>\n",
       "      <td>Silver</td>\n",
       "      <td>1.69</td>\n",
       "      <td>Nigerian Used</td>\n",
       "      <td>118906.0</td>\n",
       "    </tr>\n",
       "  </tbody>\n",
       "</table>\n",
       "</div>"
      ],
      "text/plain": [
       "  Location          Maker           Model    Year  Colour  Amount (Million ₦)  \\\n",
       "0    Abuja  Mercedes-Benz         GLA 250  2015.0   Brown               14.50   \n",
       "1    Abuja        Hyundai          Accent  2013.0     Red                1.55   \n",
       "2    Lagos          Lexus  GX 460 Premium  2011.0   White               14.00   \n",
       "3    Lagos          Lexus          ES 350  2011.0    Gray                4.95   \n",
       "4   Ibadan         Toyota       Verso 1.6  2009.0  Silver                1.69   \n",
       "\n",
       "            Type  Distance_Km  \n",
       "0   Foreign Used      50000.0  \n",
       "1  Nigerian Used          NaN  \n",
       "2   Foreign Used      85000.0  \n",
       "3   Foreign Used          NaN  \n",
       "4  Nigerian Used     118906.0  "
      ]
     },
     "execution_count": 203,
     "metadata": {},
     "output_type": "execute_result"
    }
   ],
   "source": [
    "df.head(5)"
   ]
  },
  {
   "cell_type": "code",
   "execution_count": 204,
   "id": "5bebe7bb",
   "metadata": {},
   "outputs": [
    {
     "data": {
      "text/plain": [
       "Index(['Location', 'Maker', 'Model', 'Year', 'Colour', 'Amount (Million ₦)',\n",
       "       'Type', 'Distance_Km'],\n",
       "      dtype='object')"
      ]
     },
     "execution_count": 204,
     "metadata": {},
     "output_type": "execute_result"
    }
   ],
   "source": [
    "df.columns"
   ]
  },
  {
   "cell_type": "code",
   "execution_count": 205,
   "id": "0a84dbb3",
   "metadata": {},
   "outputs": [
    {
     "data": {
      "text/plain": [
       "Location                 0\n",
       "Maker                    0\n",
       "Model                    0\n",
       "Year                     0\n",
       "Colour                   0\n",
       "Amount (Million ₦)       0\n",
       "Type                     0\n",
       "Distance_Km           1555\n",
       "dtype: int64"
      ]
     },
     "execution_count": 205,
     "metadata": {},
     "output_type": "execute_result"
    }
   ],
   "source": [
    "df.isnull().sum()"
   ]
  },
  {
   "cell_type": "code",
   "execution_count": 206,
   "id": "2df02666",
   "metadata": {},
   "outputs": [],
   "source": [
    "meanValue = df[\"Distance_Km\"].mean()"
   ]
  },
  {
   "cell_type": "code",
   "execution_count": 207,
   "id": "14f87403",
   "metadata": {},
   "outputs": [
    {
     "data": {
      "text/plain": [
       "101038.32128240108"
      ]
     },
     "execution_count": 207,
     "metadata": {},
     "output_type": "execute_result"
    }
   ],
   "source": [
    "meanValue"
   ]
  },
  {
   "cell_type": "code",
   "execution_count": 208,
   "id": "b96b28e6",
   "metadata": {},
   "outputs": [],
   "source": [
    "df[\"Distance_Km\"] = df[\"Distance_Km\"].fillna( df[\"Distance_Km\"].mean())"
   ]
  },
  {
   "cell_type": "code",
   "execution_count": 209,
   "id": "7b64d73c",
   "metadata": {},
   "outputs": [
    {
     "data": {
      "text/plain": [
       "Location              0\n",
       "Maker                 0\n",
       "Model                 0\n",
       "Year                  0\n",
       "Colour                0\n",
       "Amount (Million ₦)    0\n",
       "Type                  0\n",
       "Distance_Km           0\n",
       "dtype: int64"
      ]
     },
     "execution_count": 209,
     "metadata": {},
     "output_type": "execute_result"
    }
   ],
   "source": [
    "df.isnull().sum()"
   ]
  },
  {
   "cell_type": "code",
   "execution_count": 210,
   "id": "ad0f2421",
   "metadata": {},
   "outputs": [
    {
     "name": "stdout",
     "output_type": "stream",
     "text": [
      "<class 'pandas.core.frame.DataFrame'>\n",
      "RangeIndex: 4487 entries, 0 to 4486\n",
      "Data columns (total 8 columns):\n",
      " #   Column              Non-Null Count  Dtype  \n",
      "---  ------              --------------  -----  \n",
      " 0   Location            4487 non-null   object \n",
      " 1   Maker               4487 non-null   object \n",
      " 2   Model               4487 non-null   object \n",
      " 3   Year                4487 non-null   float64\n",
      " 4   Colour              4487 non-null   object \n",
      " 5   Amount (Million ₦)  4487 non-null   float64\n",
      " 6   Type                4487 non-null   object \n",
      " 7   Distance_Km         4487 non-null   float64\n",
      "dtypes: float64(3), object(5)\n",
      "memory usage: 280.6+ KB\n"
     ]
    }
   ],
   "source": [
    "df.info()"
   ]
  },
  {
   "cell_type": "code",
   "execution_count": 211,
   "id": "b8db9710",
   "metadata": {},
   "outputs": [],
   "source": [
    "catFeatures = {\"Location\", \"Maker\", \"Model\", \"Colour\", \"Type\", \"Year\"}"
   ]
  },
  {
   "cell_type": "code",
   "execution_count": 212,
   "id": "2cc34c50",
   "metadata": {},
   "outputs": [
    {
     "name": "stdout",
     "output_type": "stream",
     "text": [
      "Maker:['Mercedes-Benz' 'Hyundai' 'Lexus' 'Toyota' 'Mazda' 'Honda' 'Land Rover'\n",
      " 'Porsche' 'Acura' 'Nissan' 'Pontiac' 'Ford' 'Jeep' 'Kia' 'Peugeot' 'BMW'\n",
      " 'Mitsubishi' 'Dodge' 'Chevrolet' 'Scion' 'Audi' 'Infiniti' 'Mini'\n",
      " 'Volkswagen' 'Suzuki' 'Chrysler' 'Volvo' 'Rolls-Royce' 'JAC' 'Subaru'\n",
      " 'Renault' 'GMC' 'Rover' 'IVM' 'Bentley' 'Opel' 'Lincoln' 'Hummer'\n",
      " 'Saturn' 'Cadillac' 'Lamborghini' 'Buick' 'Smart' 'Jaguar' 'Ferrari'\n",
      " 'Tata' 'Skoda']\n",
      "##################################################\n",
      "Type:['Foreign Used' 'Nigerian Used' 'Brand New']\n",
      "##################################################\n",
      "Location:['Abuja' 'Lagos' 'Ibadan']\n",
      "##################################################\n",
      "Year:[2015. 2013. 2011. 2009. 2008. 2010. 2014. 2012. 2022. 2006. 2021. 2017.\n",
      " 2007. 2002. 2016. 2019. 2020. 2004. 2018. 2005. 2003. 2000. 1999. 2001.\n",
      " 1989. 1998. 1982. 1994. 1993. 1997.]\n",
      "##################################################\n",
      "Model:['GLA 250' 'Accent' 'GX 460 Premium' 'ES 350' 'Verso 1.6' 'Corolla 1.8 LE'\n",
      " 'E350' 'GL-Class' 'RX 350 AWD' 'Land Cruiser 3.5 V6' 'Matrix'\n",
      " 'Land Cruiser' 'C350' 'Corolla' 'IS 250 4WD' 'Venza V6' 'CX-7' 'RX 350'\n",
      " 'Highlander Limited 4x4' 'RX' 'RX 350 F Sport AWD' 'Camry'\n",
      " 'Land Cruiser 5.7 V8 VX-S' 'GLK-Class' 'Avalon' 'GS 300' 'Accord'\n",
      " '4-Runner' 'Civic' 'ES 330 Sedan' 'Corolla LE (1.8L 4cyl 2A)' 'Santa Fe'\n",
      " 'Highlander' 'Elantra' '4-Runner Limited V6' 'Venza Limited FWD V6'\n",
      " 'M Class ML 350 4Matic' 'M Class' 'Hyundai Kona' 'C300'\n",
      " 'Camry XLE V6 FWD' 'Range Rover Velar' 'IS 250' 'Highlander Limited'\n",
      " 'RAV4 Limited FWD' 'Cayenne' 'RX 330' 'RDX' 'Corolla XSE (1.8L 4cyl 2A)'\n",
      " 'Micra' 'Vibe 2.4L' 'Tacoma TRD Sport' 'Focus 1.8 TDDi Viva' 'GX 460'\n",
      " 'RAV4 Limited V6 4x4' 'Commander Limited 4x4' 'Tundra' 'Sonata' 'RAV4'\n",
      " 'F-150' 'GX' 'GS 300 Automatic' 'Sienna' 'Altima' 'Hyundai Ioniq'\n",
      " 'Tacoma' 'CLA-Class' 'Venza V6 AWD' 'MDX SUV 4dr AWD (3.7 6cyl 5A)'\n",
      " 'Optima' 'Highlander V6 AWD' 'C250' 206.0 'GLK-Class 350 4MATIC'\n",
      " 'ES 350 FWD' 'LX 450d' 'F-150 SuperCab 4x4' 'Avensis' 'Equus' 'ES'\n",
      " 'Camry XSE (2.5L 4cyl 8A)' 'GLE-Class' 'CR-V' 'C43' 'Sienna LE 4WD'\n",
      " 'RX 300 4WD' 'Accord 2.4 EX' 'Highlander Sport' 'Venza AWD'\n",
      " 'Pilot EX-L 4x4 (3.5L 6cyl 5A)' 'Camry SE FWD (2.5L 4cyl 8AM)'\n",
      " '6 I Sport' 'Range Rover' 'RX 350 4WD' 'GX 460 Base' 'E550'\n",
      " 'Pilot EX 4x4 (3.5L 6cyl 5A)' '528i' 'Venza LE AWD V6' 'CR-V LX AWD'\n",
      " '5 Series' 'Morning' '328i' 'Edge SE 4dr FWD (3.5L 6cyl 6A)' 'GLA-Class'\n",
      " 'A-Class a 220 4MATIC' 'RX 350L Luxury FWD' 'Highlander Limited V6 4x4'\n",
      " 'Highlander Limited V6' 'Accord Sport 2.0T' 'Hilux'\n",
      " 'GX 470 Sport Utility' 508.0 'RX 330 AWD' '4-Runner Limited V6 4x4'\n",
      " 'LX 570 (5 Seats) AWD' 'Land Cruiser Prado 2.8' 'E55' 'Almera'\n",
      " 'Corolla S' 'Venza' 'Outlander XLS' 'Accord Sedan LX 3 V6 Automatic'\n",
      " 'Land Cruiser Prado 4 I' 'GL-Class GL 450' 307.0 'Sportage 2 2WD LX'\n",
      " 'Vibe' 'RAM' 'Titan Crew Cab SE 4x4' 'LX' 'X Class'\n",
      " 'Range Rover Evoque Pure Plus AWD' 'Camry XSE FWD (2.5L 4cyl 8AM)'\n",
      " 'Highlander Sport 4x4' 'Element LX Automatic' 'Genesis 5 RWD'\n",
      " 'RAV4 Limited V6' 'Odyssey' 'E300' 'LX 570 AWD' 'ES 330' 'Sequoia'\n",
      " 'Accord EX-L 2.0T' 'MDX' 'Aveo' 'RAV4 2.5 Sport 4x4' 'Explorer' 'iM Base'\n",
      " 'H300' 'Elantra Limited' 'SLK-Class' 'Highlander 4x4' 'Avalon Limited'\n",
      " 'X3' '307 2 CC' 'Tacoma TRD Off Road' 'ES 300'\n",
      " 'Civic 1.4i Sport Automatic' 'Escape' 'A4' '128i' 'Edge' 'C320'\n",
      " 'G-Class G 65 AMG 4MATIC' 'RX 330 AWD Off' 'RX 330 4WD'\n",
      " 'Corolla L 4-Speed Automatic' 'Land Cruiser Prado 2.7' 'Wrangler' '535i'\n",
      " 'Camaro' 'Quest 3.5' 'Challenger' 'IS' 'GS 350' 'LS'\n",
      " 'Land Cruiser 5.7 V8 VXR' 'RAV4 XLE FWD' 'Venza XLE AWD V6' 'GX 470'\n",
      " 'RAV4 2 4x4' 'Dyna' 'Corolla Verso 1.8' 'Corolla LE Eco (1.8L 4cyl 2A)'\n",
      " 'Avensis 2 D Verso' 'Tacoma 4x4 Double Cab'\n",
      " '4-Runner Sport Edition 4x4 V6' 'G-Class Base G 550 AWD'\n",
      " 'S-Class S 500 4MATIC L (V221)' 'Camry XLE FWD'\n",
      " 'Sienna LE AWD (3.3L V6 5A)' 'G-Class Base G 500 AWD' 'GX 460 Luxury'\n",
      " 'Land Cruiser Prado' 'CR-V 200i i-VTEC 4x4' 'A6 Avant 2.5 D'\n",
      " 'Tacoma Limited' '4-Runner Limited 4WD' 'C-Hr Limited FWD' 'NP300'\n",
      " 'LX 570' 'RAV4 Adventure AWD' 'G35' 'Camry 2.4 LE' 'GL-Class GL 550'\n",
      " 'RAV4 Sport V6 4x4' 'Solara 3.3 Coupe' 'Clubman Cooper' 'Yaris'\n",
      " 'RAV4 3.5 Limited 4x4' 'Passat 2 Sedan' 'GLK-Class 350'\n",
      " 'Highlander XLE AWD' 'RAV4 Limited' 'Corolla Verso 1.8 Luna' 'SX'\n",
      " 'Land Cruiser Prado 4' 'S-Class S 500 (W222)' 'Fusion SE AWD'\n",
      " 'RX 350L Luxury AWD' 'X5 xDrive40i AWD' 'E430' 'GS' 'Civic HF Sedan EX'\n",
      " 'Honda HR-V' 'GL Class' '300 300C RWD' 'Corolla LE'\n",
      " 'Range Rover Evoque Matt' 'Camry LE FWD (2.5L 4cyl 8AM)' 'GX 470 Off'\n",
      " 'G-Class' 'Hilux 2 VVT-i' 'Xterra SE' 'Trailrunner'\n",
      " 'Land Cruiser 4.5 V8 GXR' 'RX 300 2WD' 'C240' 'C400'\n",
      " 'RAV4 XLE Premium AWD' 'Hilux SR 4x4' '230E' 'CL' 'Almera Tino' 'Passat'\n",
      " 'S-Class Off' 'Range Rover Evoque' 'C-Class C 300 CDI 4MATIC (W204)'\n",
      " '4-Runner Limited 4x4 V6' 'Avalon XLS' 'Land Cruiser HDJ 100'\n",
      " 'Sharan 1.8 T' 'C70 Automatic' 'RX 450h' 'Veloster Automatic' 'GLS-Class'\n",
      " 'Ridgeline RTX' 'ZDX Base AWD' 'Pilot' 'Sienna CE AWD'\n",
      " 'Land Cruiser Prado 2.7 VVT-i' 'ES 250' 'Corolla Liftback'\n",
      " 'Tacoma Access Cab' 'Cooper Cabriolet' 'Sportage 2.0L Automatic'\n",
      " 'Edge SE 4dr AWD (3.5L 6cyl 6A) Off' 'Venza Limited AWD V6' 'CLS'\n",
      " 'Sentra 2 SL' 'B-Class' 'CR-V Touring AWD' 'X5 3.0i' 'Range Rover Vogue'\n",
      " 'Almera 1.6 Lux Automatic' 'Venza XLE AWD' 'Rolls-Royce Ghost Matt'\n",
      " 'S-Class S 550' 'Sienna XLE 7 Passenger' 'TL Automatic' 'Corolla SE'\n",
      " 'Altima 2.5' 'Sentra' 'X-Trail' 'Accord Sedan LX'\n",
      " 'Land Cruiser 5.7 V8 VX-S Matt' 'RAV4 2 VVT-i' '4-Runner Limited'\n",
      " 'G-Class G 63 AMG' 3008.0 'Range Rover Sport HSE 4x4 (5.0L 8cyl 6A)'\n",
      " 'RX 300' 'Hilux WORKMATE 4x4' 'Sharan' 'Genesis 3.8' 'TL SH-AWD'\n",
      " 'Rover Discovery' 'MDX 3.5L 4x4' 'MDX Tech & A-Spec Pkgs SH-AWD'\n",
      " 'RX 450hL Luxury AWD' 'Cruze' 'Sienna CE' 'Golf' '7 Series'\n",
      " 'Highlander Limited V6 FWD' 'LX 570 Three-Row' 'Aveo 1LT' 'SpaceWagon'\n",
      " 406.0 'GLC-Class' 'A4 3 TDI Automatic' 'JAC S2' 'Yaris 1.3 VVT-i'\n",
      " 'Corolla 1.4' 'Tiida' 'Highlander Limited 3.5l 4WD' 'Genesis 4.6'\n",
      " 'Corolla 1.8 VVTL-i TS' 'L200 Double Cab 2.5 180hp 4WD' 'Highlander V6'\n",
      " 'RX 350 FWD' 'Avalon 3' 'Carens' 'RAV4 2.2 D-4D GX' 'F-150 SuperCrew'\n",
      " 'Odyssey 2.4 4WD' 'RAV4 Sport' 'Elantra 1.6 GL' 'Ridgeline'\n",
      " 'Golf 2 GL 3-Door' 'Camry XSE V6 (3.5L V6 8A)' 'Sienna XLE'\n",
      " 'Accord 2 Comfort Automatic' 'Forester 2.5X Limited' '4-Runner Off'\n",
      " 'HS 250h' 'A6 2' 'JX 35' 'CR-V EX-L 4WD Automatic' 'Duster' 'Jetta'\n",
      " 'Highlander SE 3.5L 4WD' 'Sienna CE FWD (3.3L V6 5A)'\n",
      " 'Rolls-Royce Cullinan Base' 'Accord Sedan EX Automatic'\n",
      " 'CR-V 2.4 EX Automatic' 'Hilux 2.4 Diesel' 'RX 400h'\n",
      " 'M Class ML350 AWD 4MATIC' 'Sienna LE 7 Passenger' 'IS 350'\n",
      " 'Hilux 2.7 VVT-i 4X4 SRX' 'RC 350 AWD' 'C63' 'M Class ML 320'\n",
      " 'Freestar Wagon SE' 'M Class ML 350' 'IS 250 AWD'\n",
      " 'Solara 3.3 Convertible' 'Camry 2.4 SE Automatic' 'Land Cruiser 3.3 DT'\n",
      " 'RX 200t 2WD' 'Tacoma X Runner' 'CR-V EX Automatic' 'Elantra GLS'\n",
      " 'Acadia SLE AWD' 'Rio' '3 Series' 'Fortuner' 'RAV4 3.5 Sport 4x4'\n",
      " 'Mustang' 'IS 350 C' 'RAV4 3.5 Limited' 'Tacoma Access Cab V6 Automatic'\n",
      " 'RAV4 LE AWD' 'M Class ML 350 4x2' 'Tucson' 'GS 250'\n",
      " 'Corolla 1.4 D Automatic' 'Tacoma SR5' 'Sorento' 'Almera 1.6 Comfort'\n",
      " 'Grand Caravan' 'A3' 'Corolla SE (1.8L 4cyl 2A)'\n",
      " 'Highlander XLE 4x4 V6 (3.5L 6cyl 8A)' 'Corsa' 'S-Class' 'GL-Class 450'\n",
      " 'RAV4 LE AWD (2.5L 4cyl 6A)' 'Highlander Limited 3.5l 4WD Off'\n",
      " '407 2 Esplanade' 'RX 350L 4WD' 'Vibe 1.8L Off' 'X5' 'Fuga' 'RX 450H AWD'\n",
      " 'S Class S 63 AMG (W222)' 'EX 35' '75 2 Automatic' 407.0 'RAV4 XLE AWD'\n",
      " 'Prius' 'IS 200t' 'X6' 'Cooper' 'Quest S' 'Yaris 1.3' 'E63'\n",
      " 'Picnic 2 FWD' 'Camry SE FWD' 'Highlander SE' 'IVM 1021A'\n",
      " 'GL Class GL 450' 'C180' 'Vibe Automatic' 'Highlander 3.5L 4WD'\n",
      " 'Sienna XLE AWD (3.3L V6 5A)' 'Accord Sedan EX-L Automatic'\n",
      " 'Accord Coupe 3.5 EX-L Automatic' 'Montero 3.5 AWD' 'Forte EX'\n",
      " 'X4 xDrive28i Off' 'C200' 'Sienna SE 8 Passenger' 'CT' 'S Class'\n",
      " 'Highlander XLE FWD' 'IS 200 Limited' 'Challenger R/T Scat Pack RWD'\n",
      " 'Camry XSE FWD' 'Sienna LE & 1 Hatch' 'Accord Crosstour EX-L' 'Focus'\n",
      " 'Pathfinder LE RWD SUV (3.5L 6cyl 4A)' 'Camry 3.5 LE'\n",
      " 'Continental Mulliner R' 5008.0 'M Class ML 350 TEC 4Matic' 'RAV4 2.4'\n",
      " 'E320' '307 X-Line 1.6' 'Gx300' 'Cerato' 'Lite-Ace' '206 1.6 Automatic'\n",
      " 'Titan Crew Cab XE 4x4' 'Santa Fe 2.7 V6 4WD' 'QX'\n",
      " 'G-Class Base G 55 AMG 4x4' 'FJ Cruiser Base 4x4' 3.0\n",
      " 'Land Cruiser 4 V6 GXR' 'Zafira' 'Corolla 1.4 D-4d' 'Civic 1.8i VTEC'\n",
      " 'Corolla CE' '4-Runner SR5 4WD' 'C-Hr' 'Beetle' 626.0\n",
      " 'G-Class G 63 AMG 4MATIC' 'IS 250 AWD Automatic' 'Accord Sedan LX SE'\n",
      " 'Corolla 1.8 Exclusive Automatic' 'X5 3.0i Sport' 'Sienna XLE AWD'\n",
      " 'Traverse 1LT' 'Odyssey 2.4 2WD' 'MDX Base FWD' 'SL-Class'\n",
      " 'Tacoma Double Cab V6 4WD' 'Accord Automatic' 'Ranger XL' 'S40 a'\n",
      " 'Civic 1.8 DX' 'Qashqai' 'Cerato 1.6 LX Automatic'\n",
      " 'GX 470 Sport Utility Off' 'Bentley Continental' 'Sienna LE AWD'\n",
      " 'Sportage' 'Land Cruiser 5.7 V8 EXR' 'Highlander V6 4x4'\n",
      " 'Santa Fe Limited' 'Pathfinder' 'RX 350 XE 4x4' 'Honda Accord' 'Picanto'\n",
      " '6 Wagon' 'RX 350 4x4' 'A7' 'Accord Crosstour EX'\n",
      " 'Highlander Limited 3.5L 2WD' 'Tucson Limited AWD' 'Countryman S All4'\n",
      " 'MKS EcoBoost' 'Land Cruiser Prado 3 D-4d (190 Hp)' 'Maxima' 'tC Base'\n",
      " 'Pathfinder Automatic' 'Outlander' 'Rondo EX' 'Accord Sedan DX'\n",
      " 'M Class ML320 TEC AWD 4MATIC' datetime.datetime(2022, 5, 2, 0, 0) '550i'\n",
      " 'Camry XLE V6 (3.5L V6 8A)' 'Tucson GLS FWD' 'Jeep'\n",
      " 'Highlander XLE 4x2 V6 (3.5L 6cyl 8A)' 'xB Base' 'Accord Crosstour'\n",
      " 'Tacoma Double Cab V6 Automatic' 'CLA-Class Base CLA 250 FWD' '508 GT'\n",
      " 'IS 250 Automatic' 'E400' 'Highlander LE 4x4 V6 (3.5L 6cyl 8A)'\n",
      " 'IS 350 AWD' 'Soul Automatic' 'Xterra Automatic' 'Corolla Off'\n",
      " 'IS 250 SE' 'Sentra 2 CVT' 'Venza XLE FWD' 'Quest 3.5 SE'\n",
      " 'Range Rover Sport' 'RAV4 XLE AWD (2.5L 4cyl 6A)' 'Pick-Up'\n",
      " 'Tacoma Cab 4WD' 'Civic LX Sedan' 'Sentra SL' 'C230' 'R-Class'\n",
      " 'Avalon XLS W/ Bucket Seats' 'A-Class' 'IS 250 SE AWD'\n",
      " 'H2 SUV Sport Utility' 'Sorento 3.3L SXL FWD' 200.0 'Baja Automatic' 'I8'\n",
      " 'M Class ML 550 4Matic' 'Camry Automatic' 'Camry XLE FWD (2.5L 4cyl 8AM)'\n",
      " 'M Class Edition 10 ML 350 4Matic' 'Civic EX-L W/Navi Hatchback'\n",
      " 'Attrage' 'FX35 Base 4x2 (3.5L 6cyl 5A)' 'ES 350 F Sport FWD' 'H1'\n",
      " 'Land Cruiser 4.6 V8 GXR' 'Vue' '4-Runner Limited 4x4' 'GLE-Class Matt'\n",
      " 'CR-V EX-L FWD' 'Cadillac Escalade' 'Highlander LE 4x2 (2.7L 4cyl 6A)'\n",
      " 'RDX Base SH-AWD' 'Highlander Limited V6 AWD' 'Golf GTI'\n",
      " 'Challenger R/T CLASSIC' '206 GTi 180' 'Cooper S' 'CR-V 2 Automatic'\n",
      " 'Elantra 1.6 Automatic' 'Hyundai Sonata SEL Plus' 'GLK-Class 350 SUV'\n",
      " 'Accord Coupe 3.5 EX-L V6' 'MDX Base SH-AWD' 'Lamborghini Urus'\n",
      " 'CX-9 Sport' 'Micra Visia 1.2' 'Mustang V6 Premium' 'RAV4 V6'\n",
      " 'Land Cruiser Prado 3.4 5dr' 'F-150 SuperCab' 'Primera' 'Rogue' 'A8'\n",
      " 'Avalon XSE' 'Pilot EX 4dr SUV (3.5L 6cyl 5A)' 'Sienna LE'\n",
      " 'MDX Touring Package' 'CR-V 2 RVi' 'Corolla 140i GLE F-Lift'\n",
      " 'CR-V 2.4 EX-L Automatic' 'Vibe AWD' 'L400' 'M6 Coupe' 'Venza LE AWD'\n",
      " 'RAV4 2.5 Limited 4x4' 'LS 460 Luxury Sedan' 'QX56' 'M3 Coupe'\n",
      " 'Sienna XLE FWD' 'GLS-Class GLS450 4MATIC' 'Murano' '3 1.6i' '330i'\n",
      " 'Camry Hybrid' 'Pathfinder Platinum 4x4' 'Yaris 1.8 TS' 'Ranger'\n",
      " 'Escape XLS 4WD Automatic' 'Q30' 'Avensis 2 Advanced' '406 2.2 Coupe'\n",
      " 'Highlander XLE V6 4x2 (3.5L 6cyl 6A)' 'Sienna LE 7 Passenger Mobility'\n",
      " 'RAV4 Base AWD' 'Corolla 1.6 VVT-i' 'Hyundai Creta' 'Rover Lr3'\n",
      " '4-Runner Sport Edition' 'X3 3.0i' 'Tundra 4x4 SR5 Access Cab'\n",
      " 'A6 2.0T Premium FWD' 'RAV4 2 Automatic' 'RAV4 2.5 Limited'\n",
      " 'Enclave CXL AWD' 'Hilux 2 VVTi SRX'\n",
      " 'Land Cruiser Prado 3 D-4d (190 Hp) 7 Seats' 'RX 450H 4WD'\n",
      " 'CTS Automatic' 'Venza LE FWD' 'Range Rover Sport SE' 'Picnic'\n",
      " 'Sienna XLE Limited 4WD' 'Xterra' 'Legend 3.7 V6' 'Kia Rio'\n",
      " 'Edge SE 4dr AWD (3.5L 6cyl 6A)' 'Frontier SVE V6 King Cab 4WD'\n",
      " 'S-Class S 63 AMG 4MATIC (W222)' 'Navigator Luxury' 'Corolla 1.8 TS'\n",
      " '406 2' 'RX 350 F Sport AWD Off' 'Accord 3.5 EX-L Automatic'\n",
      " 'A-Class A 220 4MATIC' 'Sonata 2.4 GL' 'Golf 1.4' 'Accord 2.4 Executive'\n",
      " 'Cooper Clubman Classic' 'HiAce' 'Mustang EcoBoost Fastback' 'C450'\n",
      " 'LS 460 L RWD' 'Accord Sedan EX-L' 'Tribute s Grand Touring' 'RAV4 1.8'\n",
      " 'A8 4.2 Quattro' 'Avalon XLE' 'XC90 T6 AWD' 'NX 200t AWD'\n",
      " 'X-Trail SV Premium' 'X6 xDrive35i AWD' 'Noah 2 FWD (8 Seater)'\n",
      " 'RAV4 Sport 4x4' 'GS 450h' 'Ix35' 'Range Rover Sport HST MHEV 4x4'\n",
      " 'Tacoma 4dr Double Cab' 'Focus 2.5 ST' 'S-Class S 450 4MATIC (W222)'\n",
      " 'Land Cruiser 4.5 V8 VXR' 'S60' 'RAV4 2.5 4x4'\n",
      " 'Highlander Hybrid Limited' 'Highlander LE Plus' 'Odyssey EX-L'\n",
      " 'Corolla Sedan' '318i' 'Range Rover Sport 4.2 V8 SC' 'Vibe 1.8L'\n",
      " 'Tucson GLS AWD' 'RX 350 4x4 Matt' 'Clubman' 'E500 500 Sedan' 'ForTwo 1'\n",
      " 'Accord Crosstour EX-L W/Navigation AWD' 'XF 2.7'\n",
      " 'Land Cruiser 100 4.2 TD' 'Accord 2.4 EX Automatic' 'F-150 XLT'\n",
      " 'RX 350 F Sport FWD' '6 Series' 'NX' 'CR-V EX AWD' 'Vibe 1.8 AWD' '540i'\n",
      " 'Highlander V6 FWD' 'Accord 2.2 DTEC Estate' 'Countryman S'\n",
      " 'Land Cruiser J300 4' 300.0 'CLC' 'S-Class S 500 4MATIC L (V222)'\n",
      " 'Enclave CX AWD' 'Tribute 3.0s 4WD Automatic' 'S-Class S 63 AMG (W222)'\n",
      " 'Premacy' 'Rogue SL' 'FF' '320i' 'Traverse LTZ'\n",
      " 'L200 Double Cab 2.4 181hp 4WD' 'Tacoma PreRunner Access Cab'\n",
      " 'Phantom Coupe' '335i' 'ES 330 Off' 'Accord 2 Comfort' 'Urus'\n",
      " 'RAV4 2 4x4 VX Automatic' 'Camry LE (2.5L 4cyl 8A)' 'Frontier King Cab'\n",
      " 'Routan SEL' 'Land Cruiser Prado 3 TD' 'Terrain SLT-2 AWD'\n",
      " 'RAV4 3.5 Sport' 'Sentra 2' 'LX 570 Base' 'Highlander Hybrid 4x4'\n",
      " 'GLS-Class GLS550 4Matic' 'TL SH-AWD Automatic' '240SX' 'Land'\n",
      " 'Venza Off' 'Accord 2.4 Type S Automatic' 'Frontier' 'RC' 'Infiniti QX80'\n",
      " 'Accord 2.4 i-VTEC Exec Automatic' 'GS 350 4WD Matt' 'Fusion'\n",
      " 'RAV4 SE AWD (2.5L 4cyl 6A)' 'L200 Single Cab 2.5 TD 4WD' '300C SRT8 RWD'\n",
      " 'X5 xDrive50i AWD' 'Cayenne GTS' 'A6 3.2 FSI Quattro Automatic'\n",
      " 'Corolla L (1.8L 4cyl 2A)' 'LX 570 (5 seats) AWD' 'Traverse'\n",
      " 'Acadia SLE-1 AWD' 'Lincoln Navigator' 'S Class S 450 L (V222)'\n",
      " 'Torrent Base AWD' 'Corona' 'F-650' 'Sienna CE FWD'\n",
      " 'Accord Coupe 2.4ex-L Automatic' 'Escalade Off'\n",
      " 'Range Rover Velar P250 SE R-Dynamic 4x4' 'RAV4 LE FWD (2.5L 4cyl 6A)'\n",
      " 'TSX Automatic' 'Cooper John Cooper Works' 'Previa' 'Accord 2.4'\n",
      " 'Land Cruiser 5.7 V8 GXR' 'Creta' 'ILX' 'GLS-Class GLS450 4Matic'\n",
      " 'Camry 2.4 SE' 'Sienna XLE 7 Passenger Mobility' 'Corolla 1.8'\n",
      " 'CX-9 Grand Touring AWD' 'CR-V 2.0i LS Automatic' 'Serena'\n",
      " 'Accord 2 I-Vtec' 'Beetle 1.8 T' 'Sumo Victa Turbo DI' 'Avensis Sedan'\n",
      " 'Land Cruiser Prado 3 190hp' 'Tribute' 'Hilux 2.5 D-4d 4X4 SRX'\n",
      " 'Caliber 2.4 R/T' 'CLK' 'Highlander SE 4x4 V6 (3.5L 6cyl 8A)'\n",
      " '3 2.5 S Grand Touring Sedan' 'Ridgeline RTL'\n",
      " 'Range Rover Velar P380 HSE R-Dynamic 4x4' 'F-150 SuperCrew 4x4'\n",
      " 'Hyundai Palisade' 'Civic LX Hatchback' 'Camry SE (2.5L 4cyl 8A)' 'Sunny'\n",
      " 'Beetle 2.5' 'ES 350 Luxury FWD' 'Sienna XLE Limited'\n",
      " 'Accord 3.5 EX Automatic' 'Forte SX Hatchback' 'Express Cargo Van 1500'\n",
      " 'Explorer Sport Track Automatic' 'Hilux SR5+ 4x4'\n",
      " 'FJ Cruiser 4x4 Automatic' 'Sorento EX 4dr SUV (3.3L 6cyl 6A)' 1117.0\n",
      " 'Santa Fe Sport 2.0T Off' 'Outlander 2.4' 'Avanza'\n",
      " 'GLS-Class GLS63 AMG Base' 'M Class ML350 4x2' 'X5 3.0si Activity'\n",
      " 'Tacoma Double Cab V6' 'Escalade' 'Corolla 1.8 CE'\n",
      " 'Sienna XLE 7-Passenger AWD' '4-Runner Limited 2WD' 'C280' 'E-350'\n",
      " 'GL Class GL 550' 'Peugeot 5008 2 HDi 180 GT' 'Nissan Armada' 'M6' 'TL'\n",
      " 'C-HR' 'Accord Coupe EX-L' 'Range Rover Evoque HSE Dynamic 4x4 5-Door'\n",
      " 'RAV4 Automatic' 'CX-9 Grand Touring' 'Charger' 'Camry Off'\n",
      " '407 2 HDi ST Comfort' 'Versa 1.8 SL Hatchback' 'Land Cruiser Matt'\n",
      " 'Yaris Sedan' 'Camry 2.4 WT-i' '323i' 'Galaxy' '407 SW 3 V6 ST Sport'\n",
      " 'Frontier Crew Cab SE' 'Rush 1.5 RWD' 'Range Rover Sport Autobiography'\n",
      " 'CR-V EX 4dr SUV (2.4L 4cyl 5A)' '4-Runner Sport Edition 4x4 V8'\n",
      " 'Camry 2.4 XLE' 'Vibe 2.4 4WD' 'Altima Sedan 3.5 S'\n",
      " 'Camry 2.4 XLi Automatic' 'i8 1.5 Roadster' 'Highlander XLE' 'A5'\n",
      " 'Sienna LE FWD' 'ES 350 Luxury' 'RX 350L AWD' 'ES 350 Off' '206 1.4 D'\n",
      " 'RX 350 F SPORT AWD' 'CTS' 'RAV4 Limited AWD' '4-Runner Limited 4X4'\n",
      " 'Elantra Touring SE Automatic' 'TSX Sport Sedan' 'Passat 2' 'GLE43'\n",
      " '406 Break 1.8i' 'Pathfinder 4' 'Solara' 'CC' 'Charger RT'\n",
      " 'S-Class S 500 (W220)' 'Sorento EX'\n",
      " 'Highlander XLE V6 4x4 (3.5L 6cyl 6A)' 'Highlander Base FWD' 'Passat SE'\n",
      " 'IS 300 AWD' 'RX 350 2WD' 'Dart' 'Granvia' 'Fabia' 'Veloster' 'L200'\n",
      " 'Sienna 7 Passenger' 'A4 4.2' 220.0 'Highlander SE 3.5L 2WD' 'X5 4.8is'\n",
      " 'Pathfinder 4 V6 Automatic' 'C-Class C 300 (W204)' 'Malibu LS'\n",
      " 'C-HR Limited FWD' 'XC90' 'Frontier Automatic'\n",
      " 'Range Rover Velar P380 S 4x4' 'Santa Fe SE' 'Tucson Limited FWD'\n",
      " 'X5 4.8i Sports Activity' 'Elantra 2' 'F-150 Super Cab 4x4' 'Navigator'\n",
      " 'CX-9' 'CR-V LX 4WD Automatic' 'Outback']\n",
      "##################################################\n",
      "Colour:['Brown' 'Red' 'White' 'Gray' 'Silver' 'Black' 'Blue' 'Gold' 'Green'\n",
      " 'Beige' 'Purple' 'Orange' 'Burgandy' 'Ivory' 'Pink' 'Pearl' 'Yellow'\n",
      " 'Luury' 'Teal']\n",
      "##################################################\n"
     ]
    }
   ],
   "source": [
    "for catFeature in catFeatures:\n",
    "    print(catFeature,  df[catFeature].unique(), sep= \":\")\n",
    "    print(\"#\" * 50)"
   ]
  },
  {
   "cell_type": "code",
   "execution_count": 213,
   "id": "79213c95",
   "metadata": {},
   "outputs": [
    {
     "data": {
      "text/plain": [
       "Camry              437\n",
       "Corolla            202\n",
       "ES 350             188\n",
       "C300               133\n",
       "Accord             104\n",
       "                  ... \n",
       "Ranger XL            1\n",
       "MDX Base FWD         1\n",
       "Odyssey 2.4 2WD      1\n",
       "Traverse 1LT         1\n",
       "Outback              1\n",
       "Name: Model, Length: 897, dtype: int64"
      ]
     },
     "execution_count": 213,
     "metadata": {},
     "output_type": "execute_result"
    }
   ],
   "source": [
    "df[\"Model\"].value_counts()"
   ]
  },
  {
   "cell_type": "code",
   "execution_count": 214,
   "id": "65f5239f",
   "metadata": {},
   "outputs": [],
   "source": [
    "df.drop(\"Model\", axis = \"columns\", inplace = True)"
   ]
  },
  {
   "cell_type": "code",
   "execution_count": 215,
   "id": "e6819dcb",
   "metadata": {},
   "outputs": [],
   "source": [
    "encFeatures = [\"Location\", \"Maker\", \"Colour\", \"Type\", \"Year\"]"
   ]
  },
  {
   "cell_type": "code",
   "execution_count": 216,
   "id": "0dce6bb7",
   "metadata": {},
   "outputs": [],
   "source": [
    "# Creating a for loop to encode\n",
    "for encFeature in encFeatures:\n",
    "    # Giving each \"encFeature\" i.e each column, a value\n",
    "    df[f\"{encFeature}_cat\"] = df[encFeature].astype(\"category\")\n",
    "    # Converting the categorized datapoints into integers\n",
    "    df[f\"{encFeature}_cat\"].cat.codes\n",
    "    # instantiating the converted datapoints into new series/ separate from the original series\n",
    "    df[f\"{encFeature}_cat\"] = df[f\"{encFeature}_cat\"].cat.codes\n",
    "    \n",
    "\n",
    "     \n",
    "    "
   ]
  },
  {
   "cell_type": "code",
   "execution_count": 217,
   "id": "410d4ac7",
   "metadata": {
    "scrolled": true
   },
   "outputs": [
    {
     "data": {
      "text/html": [
       "<div>\n",
       "<style scoped>\n",
       "    .dataframe tbody tr th:only-of-type {\n",
       "        vertical-align: middle;\n",
       "    }\n",
       "\n",
       "    .dataframe tbody tr th {\n",
       "        vertical-align: top;\n",
       "    }\n",
       "\n",
       "    .dataframe thead th {\n",
       "        text-align: right;\n",
       "    }\n",
       "</style>\n",
       "<table border=\"1\" class=\"dataframe\">\n",
       "  <thead>\n",
       "    <tr style=\"text-align: right;\">\n",
       "      <th></th>\n",
       "      <th>Location</th>\n",
       "      <th>Maker</th>\n",
       "      <th>Year</th>\n",
       "      <th>Colour</th>\n",
       "      <th>Amount (Million ₦)</th>\n",
       "      <th>Type</th>\n",
       "      <th>Distance_Km</th>\n",
       "      <th>Location_cat</th>\n",
       "      <th>Maker_cat</th>\n",
       "      <th>Colour_cat</th>\n",
       "      <th>Type_cat</th>\n",
       "      <th>Year_cat</th>\n",
       "    </tr>\n",
       "  </thead>\n",
       "  <tbody>\n",
       "    <tr>\n",
       "      <th>0</th>\n",
       "      <td>Abuja</td>\n",
       "      <td>Mercedes-Benz</td>\n",
       "      <td>2015.0</td>\n",
       "      <td>Brown</td>\n",
       "      <td>14.50</td>\n",
       "      <td>Foreign Used</td>\n",
       "      <td>50000.000000</td>\n",
       "      <td>0</td>\n",
       "      <td>26</td>\n",
       "      <td>3</td>\n",
       "      <td>1</td>\n",
       "      <td>22</td>\n",
       "    </tr>\n",
       "    <tr>\n",
       "      <th>1</th>\n",
       "      <td>Abuja</td>\n",
       "      <td>Hyundai</td>\n",
       "      <td>2013.0</td>\n",
       "      <td>Red</td>\n",
       "      <td>1.55</td>\n",
       "      <td>Nigerian Used</td>\n",
       "      <td>101038.321282</td>\n",
       "      <td>0</td>\n",
       "      <td>14</td>\n",
       "      <td>14</td>\n",
       "      <td>2</td>\n",
       "      <td>20</td>\n",
       "    </tr>\n",
       "    <tr>\n",
       "      <th>2</th>\n",
       "      <td>Lagos</td>\n",
       "      <td>Lexus</td>\n",
       "      <td>2011.0</td>\n",
       "      <td>White</td>\n",
       "      <td>14.00</td>\n",
       "      <td>Foreign Used</td>\n",
       "      <td>85000.000000</td>\n",
       "      <td>2</td>\n",
       "      <td>23</td>\n",
       "      <td>17</td>\n",
       "      <td>1</td>\n",
       "      <td>18</td>\n",
       "    </tr>\n",
       "    <tr>\n",
       "      <th>3</th>\n",
       "      <td>Lagos</td>\n",
       "      <td>Lexus</td>\n",
       "      <td>2011.0</td>\n",
       "      <td>Gray</td>\n",
       "      <td>4.95</td>\n",
       "      <td>Foreign Used</td>\n",
       "      <td>101038.321282</td>\n",
       "      <td>2</td>\n",
       "      <td>23</td>\n",
       "      <td>6</td>\n",
       "      <td>1</td>\n",
       "      <td>18</td>\n",
       "    </tr>\n",
       "    <tr>\n",
       "      <th>4</th>\n",
       "      <td>Ibadan</td>\n",
       "      <td>Toyota</td>\n",
       "      <td>2009.0</td>\n",
       "      <td>Silver</td>\n",
       "      <td>1.69</td>\n",
       "      <td>Nigerian Used</td>\n",
       "      <td>118906.000000</td>\n",
       "      <td>1</td>\n",
       "      <td>44</td>\n",
       "      <td>15</td>\n",
       "      <td>2</td>\n",
       "      <td>16</td>\n",
       "    </tr>\n",
       "  </tbody>\n",
       "</table>\n",
       "</div>"
      ],
      "text/plain": [
       "  Location          Maker    Year  Colour  Amount (Million ₦)           Type  \\\n",
       "0    Abuja  Mercedes-Benz  2015.0   Brown               14.50   Foreign Used   \n",
       "1    Abuja        Hyundai  2013.0     Red                1.55  Nigerian Used   \n",
       "2    Lagos          Lexus  2011.0   White               14.00   Foreign Used   \n",
       "3    Lagos          Lexus  2011.0    Gray                4.95   Foreign Used   \n",
       "4   Ibadan         Toyota  2009.0  Silver                1.69  Nigerian Used   \n",
       "\n",
       "     Distance_Km  Location_cat  Maker_cat  Colour_cat  Type_cat  Year_cat  \n",
       "0   50000.000000             0         26           3         1        22  \n",
       "1  101038.321282             0         14          14         2        20  \n",
       "2   85000.000000             2         23          17         1        18  \n",
       "3  101038.321282             2         23           6         1        18  \n",
       "4  118906.000000             1         44          15         2        16  "
      ]
     },
     "execution_count": 217,
     "metadata": {},
     "output_type": "execute_result"
    }
   ],
   "source": [
    "df.head()"
   ]
  },
  {
   "cell_type": "code",
   "execution_count": 218,
   "id": "d45617ab",
   "metadata": {},
   "outputs": [],
   "source": [
    "#df.drop(encFeatures, axis = 1, inplace = True)\n",
    "df.drop([\"Location\",\"Maker\",\"Year\",\"Colour\", \"Type\"], axis=1, inplace=True)"
   ]
  },
  {
   "cell_type": "code",
   "execution_count": 219,
   "id": "46ef69a0",
   "metadata": {},
   "outputs": [
    {
     "data": {
      "text/html": [
       "<div>\n",
       "<style scoped>\n",
       "    .dataframe tbody tr th:only-of-type {\n",
       "        vertical-align: middle;\n",
       "    }\n",
       "\n",
       "    .dataframe tbody tr th {\n",
       "        vertical-align: top;\n",
       "    }\n",
       "\n",
       "    .dataframe thead th {\n",
       "        text-align: right;\n",
       "    }\n",
       "</style>\n",
       "<table border=\"1\" class=\"dataframe\">\n",
       "  <thead>\n",
       "    <tr style=\"text-align: right;\">\n",
       "      <th></th>\n",
       "      <th>Amount (Million ₦)</th>\n",
       "      <th>Distance_Km</th>\n",
       "      <th>Location_cat</th>\n",
       "      <th>Maker_cat</th>\n",
       "      <th>Colour_cat</th>\n",
       "      <th>Type_cat</th>\n",
       "      <th>Year_cat</th>\n",
       "    </tr>\n",
       "  </thead>\n",
       "  <tbody>\n",
       "    <tr>\n",
       "      <th>0</th>\n",
       "      <td>14.50</td>\n",
       "      <td>50000.000000</td>\n",
       "      <td>0</td>\n",
       "      <td>26</td>\n",
       "      <td>3</td>\n",
       "      <td>1</td>\n",
       "      <td>22</td>\n",
       "    </tr>\n",
       "    <tr>\n",
       "      <th>1</th>\n",
       "      <td>1.55</td>\n",
       "      <td>101038.321282</td>\n",
       "      <td>0</td>\n",
       "      <td>14</td>\n",
       "      <td>14</td>\n",
       "      <td>2</td>\n",
       "      <td>20</td>\n",
       "    </tr>\n",
       "    <tr>\n",
       "      <th>2</th>\n",
       "      <td>14.00</td>\n",
       "      <td>85000.000000</td>\n",
       "      <td>2</td>\n",
       "      <td>23</td>\n",
       "      <td>17</td>\n",
       "      <td>1</td>\n",
       "      <td>18</td>\n",
       "    </tr>\n",
       "    <tr>\n",
       "      <th>3</th>\n",
       "      <td>4.95</td>\n",
       "      <td>101038.321282</td>\n",
       "      <td>2</td>\n",
       "      <td>23</td>\n",
       "      <td>6</td>\n",
       "      <td>1</td>\n",
       "      <td>18</td>\n",
       "    </tr>\n",
       "    <tr>\n",
       "      <th>4</th>\n",
       "      <td>1.69</td>\n",
       "      <td>118906.000000</td>\n",
       "      <td>1</td>\n",
       "      <td>44</td>\n",
       "      <td>15</td>\n",
       "      <td>2</td>\n",
       "      <td>16</td>\n",
       "    </tr>\n",
       "  </tbody>\n",
       "</table>\n",
       "</div>"
      ],
      "text/plain": [
       "   Amount (Million ₦)    Distance_Km  Location_cat  Maker_cat  Colour_cat  \\\n",
       "0               14.50   50000.000000             0         26           3   \n",
       "1                1.55  101038.321282             0         14          14   \n",
       "2               14.00   85000.000000             2         23          17   \n",
       "3                4.95  101038.321282             2         23           6   \n",
       "4                1.69  118906.000000             1         44          15   \n",
       "\n",
       "   Type_cat  Year_cat  \n",
       "0         1        22  \n",
       "1         2        20  \n",
       "2         1        18  \n",
       "3         1        18  \n",
       "4         2        16  "
      ]
     },
     "execution_count": 219,
     "metadata": {},
     "output_type": "execute_result"
    }
   ],
   "source": [
    "df.head()"
   ]
  },
  {
   "cell_type": "code",
   "execution_count": 220,
   "id": "0cd571e7",
   "metadata": {},
   "outputs": [
    {
     "name": "stdout",
     "output_type": "stream",
     "text": [
      "<class 'pandas.core.frame.DataFrame'>\n",
      "RangeIndex: 4487 entries, 0 to 4486\n",
      "Data columns (total 7 columns):\n",
      " #   Column              Non-Null Count  Dtype  \n",
      "---  ------              --------------  -----  \n",
      " 0   Amount (Million ₦)  4487 non-null   float64\n",
      " 1   Distance_Km         4487 non-null   float64\n",
      " 2   Location_cat        4487 non-null   int8   \n",
      " 3   Maker_cat           4487 non-null   int8   \n",
      " 4   Colour_cat          4487 non-null   int8   \n",
      " 5   Type_cat            4487 non-null   int8   \n",
      " 6   Year_cat            4487 non-null   int8   \n",
      "dtypes: float64(2), int8(5)\n",
      "memory usage: 92.1 KB\n"
     ]
    }
   ],
   "source": [
    "df.info()"
   ]
  },
  {
   "cell_type": "markdown",
   "id": "8a11b4fe",
   "metadata": {},
   "source": [
    "# Performing Data Segmentation"
   ]
  },
  {
   "cell_type": "code",
   "execution_count": 231,
   "id": "3e9da100",
   "metadata": {},
   "outputs": [],
   "source": [
    "X = df.drop(\"Amount (Million ₦)\", axis = \"columns\")"
   ]
  },
  {
   "cell_type": "code",
   "execution_count": 232,
   "id": "eeadaf25",
   "metadata": {},
   "outputs": [
    {
     "data": {
      "text/html": [
       "<div>\n",
       "<style scoped>\n",
       "    .dataframe tbody tr th:only-of-type {\n",
       "        vertical-align: middle;\n",
       "    }\n",
       "\n",
       "    .dataframe tbody tr th {\n",
       "        vertical-align: top;\n",
       "    }\n",
       "\n",
       "    .dataframe thead th {\n",
       "        text-align: right;\n",
       "    }\n",
       "</style>\n",
       "<table border=\"1\" class=\"dataframe\">\n",
       "  <thead>\n",
       "    <tr style=\"text-align: right;\">\n",
       "      <th></th>\n",
       "      <th>Distance_Km</th>\n",
       "      <th>Location_cat</th>\n",
       "      <th>Maker_cat</th>\n",
       "      <th>Colour_cat</th>\n",
       "      <th>Type_cat</th>\n",
       "      <th>Year_cat</th>\n",
       "    </tr>\n",
       "  </thead>\n",
       "  <tbody>\n",
       "    <tr>\n",
       "      <th>0</th>\n",
       "      <td>50000.000000</td>\n",
       "      <td>0</td>\n",
       "      <td>26</td>\n",
       "      <td>3</td>\n",
       "      <td>1</td>\n",
       "      <td>22</td>\n",
       "    </tr>\n",
       "    <tr>\n",
       "      <th>1</th>\n",
       "      <td>101038.321282</td>\n",
       "      <td>0</td>\n",
       "      <td>14</td>\n",
       "      <td>14</td>\n",
       "      <td>2</td>\n",
       "      <td>20</td>\n",
       "    </tr>\n",
       "    <tr>\n",
       "      <th>2</th>\n",
       "      <td>85000.000000</td>\n",
       "      <td>2</td>\n",
       "      <td>23</td>\n",
       "      <td>17</td>\n",
       "      <td>1</td>\n",
       "      <td>18</td>\n",
       "    </tr>\n",
       "    <tr>\n",
       "      <th>3</th>\n",
       "      <td>101038.321282</td>\n",
       "      <td>2</td>\n",
       "      <td>23</td>\n",
       "      <td>6</td>\n",
       "      <td>1</td>\n",
       "      <td>18</td>\n",
       "    </tr>\n",
       "    <tr>\n",
       "      <th>4</th>\n",
       "      <td>118906.000000</td>\n",
       "      <td>1</td>\n",
       "      <td>44</td>\n",
       "      <td>15</td>\n",
       "      <td>2</td>\n",
       "      <td>16</td>\n",
       "    </tr>\n",
       "    <tr>\n",
       "      <th>...</th>\n",
       "      <td>...</td>\n",
       "      <td>...</td>\n",
       "      <td>...</td>\n",
       "      <td>...</td>\n",
       "      <td>...</td>\n",
       "      <td>...</td>\n",
       "    </tr>\n",
       "    <tr>\n",
       "      <th>4482</th>\n",
       "      <td>90282.000000</td>\n",
       "      <td>2</td>\n",
       "      <td>23</td>\n",
       "      <td>2</td>\n",
       "      <td>1</td>\n",
       "      <td>13</td>\n",
       "    </tr>\n",
       "    <tr>\n",
       "      <th>4483</th>\n",
       "      <td>85000.000000</td>\n",
       "      <td>2</td>\n",
       "      <td>23</td>\n",
       "      <td>2</td>\n",
       "      <td>1</td>\n",
       "      <td>14</td>\n",
       "    </tr>\n",
       "    <tr>\n",
       "      <th>4484</th>\n",
       "      <td>65214.000000</td>\n",
       "      <td>0</td>\n",
       "      <td>26</td>\n",
       "      <td>7</td>\n",
       "      <td>1</td>\n",
       "      <td>21</td>\n",
       "    </tr>\n",
       "    <tr>\n",
       "      <th>4485</th>\n",
       "      <td>45000.000000</td>\n",
       "      <td>2</td>\n",
       "      <td>23</td>\n",
       "      <td>1</td>\n",
       "      <td>1</td>\n",
       "      <td>27</td>\n",
       "    </tr>\n",
       "    <tr>\n",
       "      <th>4486</th>\n",
       "      <td>55000.000000</td>\n",
       "      <td>2</td>\n",
       "      <td>23</td>\n",
       "      <td>15</td>\n",
       "      <td>1</td>\n",
       "      <td>22</td>\n",
       "    </tr>\n",
       "  </tbody>\n",
       "</table>\n",
       "<p>4487 rows × 6 columns</p>\n",
       "</div>"
      ],
      "text/plain": [
       "        Distance_Km  Location_cat  Maker_cat  Colour_cat  Type_cat  Year_cat\n",
       "0      50000.000000             0         26           3         1        22\n",
       "1     101038.321282             0         14          14         2        20\n",
       "2      85000.000000             2         23          17         1        18\n",
       "3     101038.321282             2         23           6         1        18\n",
       "4     118906.000000             1         44          15         2        16\n",
       "...             ...           ...        ...         ...       ...       ...\n",
       "4482   90282.000000             2         23           2         1        13\n",
       "4483   85000.000000             2         23           2         1        14\n",
       "4484   65214.000000             0         26           7         1        21\n",
       "4485   45000.000000             2         23           1         1        27\n",
       "4486   55000.000000             2         23          15         1        22\n",
       "\n",
       "[4487 rows x 6 columns]"
      ]
     },
     "execution_count": 232,
     "metadata": {},
     "output_type": "execute_result"
    }
   ],
   "source": [
    "X"
   ]
  },
  {
   "cell_type": "code",
   "execution_count": 233,
   "id": "d9554395",
   "metadata": {},
   "outputs": [],
   "source": [
    "y = df[\"Amount (Million ₦)\"]"
   ]
  },
  {
   "cell_type": "code",
   "execution_count": 234,
   "id": "133dc972",
   "metadata": {},
   "outputs": [
    {
     "data": {
      "text/plain": [
       "0       14.50\n",
       "1        1.55\n",
       "2       14.00\n",
       "3        4.95\n",
       "4        1.69\n",
       "        ...  \n",
       "4482     4.60\n",
       "4483     4.50\n",
       "4484    10.45\n",
       "4485    31.00\n",
       "4486    14.00\n",
       "Name: Amount (Million ₦), Length: 4487, dtype: float64"
      ]
     },
     "execution_count": 234,
     "metadata": {},
     "output_type": "execute_result"
    }
   ],
   "source": [
    "y"
   ]
  },
  {
   "cell_type": "code",
   "execution_count": 235,
   "id": "1c005db5",
   "metadata": {},
   "outputs": [],
   "source": [
    "X_train, X_test, y_train, y_test = train_test_split(X, y, test_size = 0.3, random_state=1234, shuffle=True)"
   ]
  },
  {
   "cell_type": "code",
   "execution_count": 236,
   "id": "1e3048ab",
   "metadata": {},
   "outputs": [
    {
     "name": "stdout",
     "output_type": "stream",
     "text": [
      "<class 'pandas.core.frame.DataFrame'>\n",
      "RangeIndex: 4487 entries, 0 to 4486\n",
      "Data columns (total 6 columns):\n",
      " #   Column        Non-Null Count  Dtype  \n",
      "---  ------        --------------  -----  \n",
      " 0   Distance_Km   4487 non-null   float64\n",
      " 1   Location_cat  4487 non-null   int8   \n",
      " 2   Maker_cat     4487 non-null   int8   \n",
      " 3   Colour_cat    4487 non-null   int8   \n",
      " 4   Type_cat      4487 non-null   int8   \n",
      " 5   Year_cat      4487 non-null   int8   \n",
      "dtypes: float64(1), int8(5)\n",
      "memory usage: 57.1 KB\n"
     ]
    }
   ],
   "source": [
    "X.info()"
   ]
  },
  {
   "cell_type": "code",
   "execution_count": 237,
   "id": "1ff14a18",
   "metadata": {
    "scrolled": false
   },
   "outputs": [
    {
     "name": "stdout",
     "output_type": "stream",
     "text": [
      "(3140, 6)\n",
      "(1347, 6)\n",
      "(3140,)\n",
      "(1347,)\n"
     ]
    }
   ],
   "source": [
    "print(X_train.shape)\n",
    "print(X_test.shape)\n",
    "print(y_train.shape)\n",
    "print(y_test.shape)"
   ]
  },
  {
   "cell_type": "code",
   "execution_count": 238,
   "id": "f8ff78b1",
   "metadata": {},
   "outputs": [
    {
     "data": {
      "text/plain": [
       "1070     1.45\n",
       "4173     6.80\n",
       "3186    10.50\n",
       "3854     4.00\n",
       "3910    12.90\n",
       "        ...  \n",
       "2055     4.00\n",
       "1619     5.35\n",
       "3019     5.40\n",
       "2664     3.75\n",
       "912      3.40\n",
       "Name: Amount (Million ₦), Length: 1347, dtype: float64"
      ]
     },
     "execution_count": 238,
     "metadata": {},
     "output_type": "execute_result"
    }
   ],
   "source": [
    "y_test"
   ]
  },
  {
   "cell_type": "code",
   "execution_count": 239,
   "id": "851f5e0b",
   "metadata": {},
   "outputs": [],
   "source": [
    "logist = LogisticRegression()"
   ]
  },
  {
   "cell_type": "code",
   "execution_count": 240,
   "id": "eaf515b2",
   "metadata": {},
   "outputs": [
    {
     "ename": "ValueError",
     "evalue": "Unknown label type: 'continuous'",
     "output_type": "error",
     "traceback": [
      "\u001b[1;31m---------------------------------------------------------------------------\u001b[0m",
      "\u001b[1;31mValueError\u001b[0m                                Traceback (most recent call last)",
      "Input \u001b[1;32mIn [240]\u001b[0m, in \u001b[0;36m<cell line: 1>\u001b[1;34m()\u001b[0m\n\u001b[1;32m----> 1\u001b[0m \u001b[43mlogist\u001b[49m\u001b[38;5;241;43m.\u001b[39;49m\u001b[43mfit\u001b[49m\u001b[43m(\u001b[49m\u001b[43mX_train\u001b[49m\u001b[43m,\u001b[49m\u001b[43m \u001b[49m\u001b[43my_train\u001b[49m\u001b[43m)\u001b[49m\n",
      "File \u001b[1;32m~\\anaconda3\\lib\\site-packages\\sklearn\\linear_model\\_logistic.py:1516\u001b[0m, in \u001b[0;36mLogisticRegression.fit\u001b[1;34m(self, X, y, sample_weight)\u001b[0m\n\u001b[0;32m   1506\u001b[0m     _dtype \u001b[38;5;241m=\u001b[39m [np\u001b[38;5;241m.\u001b[39mfloat64, np\u001b[38;5;241m.\u001b[39mfloat32]\n\u001b[0;32m   1508\u001b[0m X, y \u001b[38;5;241m=\u001b[39m \u001b[38;5;28mself\u001b[39m\u001b[38;5;241m.\u001b[39m_validate_data(\n\u001b[0;32m   1509\u001b[0m     X,\n\u001b[0;32m   1510\u001b[0m     y,\n\u001b[1;32m   (...)\u001b[0m\n\u001b[0;32m   1514\u001b[0m     accept_large_sparse\u001b[38;5;241m=\u001b[39msolver \u001b[38;5;129;01mnot\u001b[39;00m \u001b[38;5;129;01min\u001b[39;00m [\u001b[38;5;124m\"\u001b[39m\u001b[38;5;124mliblinear\u001b[39m\u001b[38;5;124m\"\u001b[39m, \u001b[38;5;124m\"\u001b[39m\u001b[38;5;124msag\u001b[39m\u001b[38;5;124m\"\u001b[39m, \u001b[38;5;124m\"\u001b[39m\u001b[38;5;124msaga\u001b[39m\u001b[38;5;124m\"\u001b[39m],\n\u001b[0;32m   1515\u001b[0m )\n\u001b[1;32m-> 1516\u001b[0m \u001b[43mcheck_classification_targets\u001b[49m\u001b[43m(\u001b[49m\u001b[43my\u001b[49m\u001b[43m)\u001b[49m\n\u001b[0;32m   1517\u001b[0m \u001b[38;5;28mself\u001b[39m\u001b[38;5;241m.\u001b[39mclasses_ \u001b[38;5;241m=\u001b[39m np\u001b[38;5;241m.\u001b[39munique(y)\n\u001b[0;32m   1519\u001b[0m multi_class \u001b[38;5;241m=\u001b[39m _check_multi_class(\u001b[38;5;28mself\u001b[39m\u001b[38;5;241m.\u001b[39mmulti_class, solver, \u001b[38;5;28mlen\u001b[39m(\u001b[38;5;28mself\u001b[39m\u001b[38;5;241m.\u001b[39mclasses_))\n",
      "File \u001b[1;32m~\\anaconda3\\lib\\site-packages\\sklearn\\utils\\multiclass.py:197\u001b[0m, in \u001b[0;36mcheck_classification_targets\u001b[1;34m(y)\u001b[0m\n\u001b[0;32m    189\u001b[0m y_type \u001b[38;5;241m=\u001b[39m type_of_target(y)\n\u001b[0;32m    190\u001b[0m \u001b[38;5;28;01mif\u001b[39;00m y_type \u001b[38;5;129;01mnot\u001b[39;00m \u001b[38;5;129;01min\u001b[39;00m [\n\u001b[0;32m    191\u001b[0m     \u001b[38;5;124m\"\u001b[39m\u001b[38;5;124mbinary\u001b[39m\u001b[38;5;124m\"\u001b[39m,\n\u001b[0;32m    192\u001b[0m     \u001b[38;5;124m\"\u001b[39m\u001b[38;5;124mmulticlass\u001b[39m\u001b[38;5;124m\"\u001b[39m,\n\u001b[1;32m   (...)\u001b[0m\n\u001b[0;32m    195\u001b[0m     \u001b[38;5;124m\"\u001b[39m\u001b[38;5;124mmultilabel-sequences\u001b[39m\u001b[38;5;124m\"\u001b[39m,\n\u001b[0;32m    196\u001b[0m ]:\n\u001b[1;32m--> 197\u001b[0m     \u001b[38;5;28;01mraise\u001b[39;00m \u001b[38;5;167;01mValueError\u001b[39;00m(\u001b[38;5;124m\"\u001b[39m\u001b[38;5;124mUnknown label type: \u001b[39m\u001b[38;5;132;01m%r\u001b[39;00m\u001b[38;5;124m\"\u001b[39m \u001b[38;5;241m%\u001b[39m y_type)\n",
      "\u001b[1;31mValueError\u001b[0m: Unknown label type: 'continuous'"
     ]
    }
   ],
   "source": [
    "logist.fit(X_train, y_train)"
   ]
  },
  {
   "cell_type": "code",
   "execution_count": 241,
   "id": "97942053",
   "metadata": {},
   "outputs": [],
   "source": [
    "one = OneHotEncoder()"
   ]
  },
  {
   "cell_type": "code",
   "execution_count": 242,
   "id": "82f9ed8b",
   "metadata": {
    "scrolled": true
   },
   "outputs": [
    {
     "data": {
      "text/plain": [
       "OneHotEncoder()"
      ]
     },
     "execution_count": 242,
     "metadata": {},
     "output_type": "execute_result"
    }
   ],
   "source": [
    "one.fit(X_train, y_train)"
   ]
  },
  {
   "cell_type": "code",
   "execution_count": 243,
   "id": "c0554cd2",
   "metadata": {},
   "outputs": [
    {
     "ename": "AttributeError",
     "evalue": "'OneHotEncoder' object has no attribute 'predict'",
     "output_type": "error",
     "traceback": [
      "\u001b[1;31m---------------------------------------------------------------------------\u001b[0m",
      "\u001b[1;31mAttributeError\u001b[0m                            Traceback (most recent call last)",
      "Input \u001b[1;32mIn [243]\u001b[0m, in \u001b[0;36m<cell line: 1>\u001b[1;34m()\u001b[0m\n\u001b[1;32m----> 1\u001b[0m \u001b[43mone\u001b[49m\u001b[38;5;241;43m.\u001b[39;49m\u001b[43mpredict\u001b[49m(X_test)\n",
      "\u001b[1;31mAttributeError\u001b[0m: 'OneHotEncoder' object has no attribute 'predict'"
     ]
    }
   ],
   "source": [
    "one.predict(X_test)"
   ]
  },
  {
   "cell_type": "code",
   "execution_count": 244,
   "id": "72e5977a",
   "metadata": {},
   "outputs": [],
   "source": [
    "gaus = GaussianNB()"
   ]
  },
  {
   "cell_type": "code",
   "execution_count": 245,
   "id": "691d4b0d",
   "metadata": {},
   "outputs": [
    {
     "ename": "ValueError",
     "evalue": "Unknown label type: (array([4.20000000e-01, 4.50000000e-01, 6.70000000e-01, 6.75000000e-01,\n       6.80000000e-01, 6.90000000e-01, 7.87500000e-01, 8.00000000e-01,\n       8.50000000e-01, 9.00000000e-01, 9.50000000e-01, 9.56250000e-01,\n       9.80000000e-01, 9.90000000e-01, 1.01250000e+00, 1.05000000e+00,\n       1.06875000e+00, 1.10000000e+00, 1.12500000e+00, 1.15000000e+00,\n       1.18000000e+00, 1.20000000e+00, 1.23750000e+00, 1.25000000e+00,\n       1.29000000e+00, 1.30000000e+00, 1.35000000e+00, 1.40000000e+00,\n       1.43000000e+00, 1.45000000e+00, 1.46250000e+00, 1.47000000e+00,\n       1.48000000e+00, 1.50000000e+00, 1.51875000e+00, 1.55000000e+00,\n       1.57500000e+00, 1.58000000e+00, 1.59000000e+00, 1.60000000e+00,\n       1.65000000e+00, 1.68750000e+00, 1.69000000e+00, 1.70000000e+00,\n       1.72000000e+00, 1.74375000e+00, 1.75000000e+00, 1.78000000e+00,\n       1.80000000e+00, 1.85000000e+00, 1.87000000e+00, 1.90000000e+00,\n       1.91250000e+00, 1.92000000e+00, 1.95000000e+00, 1.98000000e+00,\n       2.00000000e+00, 2.00812500e+00, 2.02500000e+00, 2.05000000e+00,\n       2.10000000e+00, 2.13750000e+00, 2.15000000e+00, 2.20000000e+00,\n       2.25000000e+00, 2.28000000e+00, 2.29500000e+00, 2.30000000e+00,\n       2.32000000e+00, 2.35000000e+00, 2.36250000e+00, 2.38000000e+00,\n       2.39000000e+00, 2.40000000e+00, 2.45000000e+00, 2.47500000e+00,\n       2.50000000e+00, 2.53125000e+00, 2.55000000e+00, 2.58750000e+00,\n       2.60000000e+00, 2.62000000e+00, 2.64375000e+00, 2.65000000e+00,\n       2.66000000e+00, 2.68000000e+00, 2.69000000e+00, 2.69999900e+00,\n       2.70000000e+00, 2.75000000e+00, 2.75625000e+00, 2.78000000e+00,\n       2.80000000e+00, 2.81250000e+00, 2.85000000e+00, 2.86875000e+00,\n       2.90000000e+00, 2.92500000e+00, 2.95000000e+00, 2.95312500e+00,\n       2.98125000e+00, 3.00000000e+00, 3.03750000e+00, 3.05000000e+00,\n       3.09375000e+00, 3.10000000e+00, 3.15000000e+00, 3.18000000e+00,\n       3.19000000e+00, 3.20000000e+00, 3.25000000e+00, 3.26250000e+00,\n       3.30000000e+00, 3.32000000e+00, 3.35000000e+00, 3.37500000e+00,\n       3.38000000e+00, 3.40000000e+00, 3.45000000e+00, 3.48750000e+00,\n       3.49999900e+00, 3.50000000e+00, 3.54000000e+00, 3.55000000e+00,\n       3.60000000e+00, 3.65000000e+00, 3.69999900e+00, 3.70000000e+00,\n       3.71250000e+00, 3.75000000e+00, 3.79000000e+00, 3.79999900e+00,\n       3.80000000e+00, 3.82500000e+00, 3.85000000e+00, 3.86500000e+00,\n       3.88000000e+00, 3.90000000e+00, 3.93750000e+00, 3.95000000e+00,\n       3.99000000e+00, 3.99999900e+00, 4.00000000e+00, 4.01000000e+00,\n       4.05000000e+00, 4.10000000e+00, 4.10625000e+00, 4.15000000e+00,\n       4.20000000e+00, 4.25000000e+00, 4.27500000e+00, 4.30000000e+00,\n       4.33000000e+00, 4.33125000e+00, 4.35000000e+00, 4.38750000e+00,\n       4.40000000e+00, 4.40020000e+00, 4.45000000e+00, 4.46000000e+00,\n       4.47000000e+00, 4.48000000e+00, 4.49999900e+00, 4.50000000e+00,\n       4.55000000e+00, 4.59000000e+00, 4.60000000e+00, 4.62000000e+00,\n       4.65000000e+00, 4.68000000e+00, 4.70000000e+00, 4.72500000e+00,\n       4.75000000e+00, 4.78000000e+00, 4.79900000e+00, 4.80000000e+00,\n       4.85000000e+00, 4.86000000e+00, 4.89000000e+00, 4.90000000e+00,\n       4.95000000e+00, 4.99999900e+00, 5.00000000e+00, 5.05000000e+00,\n       5.06250000e+00, 5.10000000e+00, 5.15000000e+00, 5.17000000e+00,\n       5.17500000e+00, 5.20000000e+00, 5.25000000e+00, 5.30000000e+00,\n       5.34999900e+00, 5.35000000e+00, 5.39900000e+00, 5.40000000e+00,\n       5.45000000e+00, 5.50000000e+00, 5.55000000e+00, 5.60000000e+00,\n       5.62500000e+00, 5.65000000e+00, 5.70000000e+00, 5.75000000e+00,\n       5.80000000e+00, 5.85000000e+00, 5.86011100e+00, 5.90000000e+00,\n       5.95000000e+00, 5.99999900e+00, 6.00000000e+00, 6.07500000e+00,\n       6.10000000e+00, 6.15000000e+00, 6.18000000e+00, 6.18750000e+00,\n       6.20000000e+00, 6.25000000e+00, 6.30000000e+00, 6.35000000e+00,\n       6.40000000e+00, 6.41250000e+00, 6.45000000e+00, 6.48000000e+00,\n       6.50000000e+00, 6.52500000e+00, 6.55000000e+00, 6.60000000e+00,\n       6.65000000e+00, 6.70000000e+00, 6.75000000e+00, 6.79999900e+00,\n       6.80000000e+00, 6.83000000e+00, 6.85000000e+00, 6.89999900e+00,\n       6.90000000e+00, 6.95000000e+00, 6.97500000e+00, 7.00000000e+00,\n       7.10000000e+00, 7.15000000e+00, 7.20000000e+00, 7.25000000e+00,\n       7.30000000e+00, 7.31000000e+00, 7.31250000e+00, 7.35000000e+00,\n       7.40000000e+00, 7.45000000e+00, 7.50000000e+00, 7.52000000e+00,\n       7.55000000e+00, 7.60000000e+00, 7.65000000e+00, 7.70000000e+00,\n       7.75000000e+00, 7.80000000e+00, 7.85000000e+00, 7.87500000e+00,\n       7.90000000e+00, 7.95000000e+00, 7.99999900e+00, 8.00000000e+00,\n       8.05000000e+00, 8.10000000e+00, 8.20000000e+00, 8.25000000e+00,\n       8.30000000e+00, 8.35000000e+00, 8.40000000e+00, 8.43750000e+00,\n       8.49000000e+00, 8.50000000e+00, 8.55000000e+00, 8.60000000e+00,\n       8.65000000e+00, 8.70000000e+00, 8.75000000e+00, 8.80000000e+00,\n       8.85000000e+00, 8.90000000e+00, 8.99000000e+00, 9.00000000e+00,\n       9.05000000e+00, 9.20000000e+00, 9.22500000e+00, 9.25000000e+00,\n       9.30000000e+00, 9.33750000e+00, 9.40000000e+00, 9.45000000e+00,\n       9.50000000e+00, 9.56250000e+00, 9.60000000e+00, 9.65000000e+00,\n       9.70000000e+00, 9.80000000e+00, 9.85000000e+00, 9.90000000e+00,\n       9.99999900e+00, 1.00000000e+01, 1.01250000e+01, 1.01500000e+01,\n       1.02000000e+01, 1.04000000e+01, 1.04500000e+01, 1.05000000e+01,\n       1.05500000e+01, 1.06000000e+01, 1.07000000e+01, 1.08000000e+01,\n       1.09000000e+01, 1.10000000e+01, 1.10250000e+01, 1.12000000e+01,\n       1.12500000e+01, 1.13000000e+01, 1.15000000e+01, 1.16000000e+01,\n       1.17000000e+01, 1.17500000e+01, 1.18000000e+01, 1.18125000e+01,\n       1.18500000e+01, 1.19000000e+01, 1.20000000e+01, 1.20500000e+01,\n       1.21000000e+01, 1.22000000e+01, 1.22500000e+01, 1.23000000e+01,\n       1.23500000e+01, 1.23750000e+01, 1.24000000e+01, 1.25000000e+01,\n       1.27000000e+01, 1.28000000e+01, 1.28500000e+01, 1.29000000e+01,\n       1.29990000e+01, 1.30000000e+01, 1.32000000e+01, 1.34000000e+01,\n       1.35000000e+01, 1.36000000e+01, 1.37000000e+01, 1.37500000e+01,\n       1.38000000e+01, 1.38500000e+01, 1.39000000e+01, 1.39999990e+01,\n       1.40000000e+01, 1.42000000e+01, 1.42500000e+01, 1.42999990e+01,\n       1.43000000e+01, 1.45000000e+01, 1.46000000e+01, 1.46250000e+01,\n       1.46500000e+01, 1.47000000e+01, 1.47500000e+01, 1.48000000e+01,\n       1.49000000e+01, 1.50000000e+01, 1.52000000e+01, 1.53000000e+01,\n       1.54700000e+01, 1.55000000e+01, 1.57500000e+01, 1.58000000e+01,\n       1.60000000e+01, 1.63500000e+01, 1.65000000e+01, 1.65500000e+01,\n       1.66000000e+01, 1.68000000e+01, 1.68750000e+01, 1.69000000e+01,\n       1.69500000e+01, 1.70000000e+01, 1.72000000e+01, 1.73000000e+01,\n       1.74000000e+01, 1.74375000e+01, 1.75000000e+01, 1.76000000e+01,\n       1.77000000e+01, 1.78000000e+01, 1.79000000e+01, 1.79500000e+01,\n       1.80000000e+01, 1.82000000e+01, 1.83000000e+01, 1.85000000e+01,\n       1.87000000e+01, 1.87500000e+01, 1.88000000e+01, 1.89000000e+01,\n       1.89999990e+01, 1.90000000e+01, 1.91250000e+01, 1.92000000e+01,\n       1.95000000e+01, 1.97500000e+01, 1.98000000e+01, 1.99500000e+01,\n       2.00000000e+01, 2.03000000e+01, 2.05000000e+01, 2.08000000e+01,\n       2.08500000e+01, 2.10000000e+01, 2.15000000e+01, 2.17000000e+01,\n       2.18500000e+01, 2.19999990e+01, 2.20000000e+01, 2.25000000e+01,\n       2.29500000e+01, 2.30000000e+01, 2.35000000e+01, 2.36250000e+01,\n       2.36500000e+01, 2.38000000e+01, 2.38500000e+01, 2.40000000e+01,\n       2.45000000e+01, 2.47500000e+01, 2.50000000e+01, 2.53000000e+01,\n       2.55000000e+01, 2.58000000e+01, 2.60000000e+01, 2.64000000e+01,\n       2.65000000e+01, 2.67000000e+01, 2.70000000e+01, 2.75000000e+01,\n       2.80000000e+01, 2.81250000e+01, 2.85000000e+01, 2.85500000e+01,\n       2.90000000e+01, 2.95000000e+01, 2.99999990e+01, 3.00000000e+01,\n       3.05000000e+01, 3.10000000e+01, 3.15000000e+01, 3.20000000e+01,\n       3.25000000e+01, 3.30000000e+01, 3.35000000e+01, 3.40000000e+01,\n       3.41000000e+01, 3.45000000e+01, 3.50000000e+01, 3.55000000e+01,\n       3.60000000e+01, 3.68000000e+01, 3.70000000e+01, 3.75000000e+01,\n       3.80000000e+01, 3.85000000e+01, 3.88000000e+01, 3.90000000e+01,\n       3.95000000e+01, 4.00000000e+01, 4.20000000e+01, 4.30000000e+01,\n       4.33500000e+01, 4.35000000e+01, 4.38000000e+01, 4.40000000e+01,\n       4.50000000e+01, 4.60000000e+01, 4.70000000e+01, 4.80000000e+01,\n       4.85000000e+01, 4.94000000e+01, 4.95000000e+01, 5.00000000e+01,\n       5.06250000e+01, 5.10000000e+01, 5.35000000e+01, 5.40000000e+01,\n       5.45000000e+01, 5.49000000e+01, 5.50000000e+01, 5.60000000e+01,\n       5.65000000e+01, 5.70000000e+01, 5.80000000e+01, 5.90000000e+01,\n       5.95000000e+01, 6.00000000e+01, 6.30000000e+01, 6.50000000e+01,\n       6.80000000e+01, 6.90000000e+01, 7.00000000e+01, 7.10000000e+01,\n       7.45000000e+01, 7.50000000e+01, 7.70000000e+01, 7.80000000e+01,\n       7.90000000e+01, 8.00000000e+01, 8.20000000e+01, 8.50000000e+01,\n       8.90000000e+01, 9.50000000e+01, 9.60000000e+01, 9.80000000e+01,\n       9.90000000e+01, 1.00000000e+02, 1.20000000e+02, 1.25000000e+02,\n       1.35000000e+02, 1.48000000e+02, 1.55000000e+02, 1.70000000e+02,\n       1.75000000e+02, 1.80000000e+02, 1.90000000e+02, 1.98000000e+02,\n       2.10000000e+02, 2.20000000e+02, 2.69999999e+02, 3.60000000e+02,\n       4.54000000e+02]),)",
     "output_type": "error",
     "traceback": [
      "\u001b[1;31m---------------------------------------------------------------------------\u001b[0m",
      "\u001b[1;31mValueError\u001b[0m                                Traceback (most recent call last)",
      "Input \u001b[1;32mIn [245]\u001b[0m, in \u001b[0;36m<cell line: 1>\u001b[1;34m()\u001b[0m\n\u001b[1;32m----> 1\u001b[0m \u001b[43mgaus\u001b[49m\u001b[38;5;241;43m.\u001b[39;49m\u001b[43mfit\u001b[49m\u001b[43m(\u001b[49m\u001b[43mX_train\u001b[49m\u001b[43m,\u001b[49m\u001b[43m \u001b[49m\u001b[43my_train\u001b[49m\u001b[43m)\u001b[49m\n",
      "File \u001b[1;32m~\\anaconda3\\lib\\site-packages\\sklearn\\naive_bayes.py:245\u001b[0m, in \u001b[0;36mGaussianNB.fit\u001b[1;34m(self, X, y, sample_weight)\u001b[0m\n\u001b[0;32m    222\u001b[0m \u001b[38;5;124;03m\"\"\"Fit Gaussian Naive Bayes according to X, y.\u001b[39;00m\n\u001b[0;32m    223\u001b[0m \n\u001b[0;32m    224\u001b[0m \u001b[38;5;124;03mParameters\u001b[39;00m\n\u001b[1;32m   (...)\u001b[0m\n\u001b[0;32m    242\u001b[0m \u001b[38;5;124;03m    Returns the instance itself.\u001b[39;00m\n\u001b[0;32m    243\u001b[0m \u001b[38;5;124;03m\"\"\"\u001b[39;00m\n\u001b[0;32m    244\u001b[0m y \u001b[38;5;241m=\u001b[39m \u001b[38;5;28mself\u001b[39m\u001b[38;5;241m.\u001b[39m_validate_data(y\u001b[38;5;241m=\u001b[39my)\n\u001b[1;32m--> 245\u001b[0m \u001b[38;5;28;01mreturn\u001b[39;00m \u001b[38;5;28;43mself\u001b[39;49m\u001b[38;5;241;43m.\u001b[39;49m\u001b[43m_partial_fit\u001b[49m\u001b[43m(\u001b[49m\n\u001b[0;32m    246\u001b[0m \u001b[43m    \u001b[49m\u001b[43mX\u001b[49m\u001b[43m,\u001b[49m\u001b[43m \u001b[49m\u001b[43my\u001b[49m\u001b[43m,\u001b[49m\u001b[43m \u001b[49m\u001b[43mnp\u001b[49m\u001b[38;5;241;43m.\u001b[39;49m\u001b[43munique\u001b[49m\u001b[43m(\u001b[49m\u001b[43my\u001b[49m\u001b[43m)\u001b[49m\u001b[43m,\u001b[49m\u001b[43m \u001b[49m\u001b[43m_refit\u001b[49m\u001b[38;5;241;43m=\u001b[39;49m\u001b[38;5;28;43;01mTrue\u001b[39;49;00m\u001b[43m,\u001b[49m\u001b[43m \u001b[49m\u001b[43msample_weight\u001b[49m\u001b[38;5;241;43m=\u001b[39;49m\u001b[43msample_weight\u001b[49m\n\u001b[0;32m    247\u001b[0m \u001b[43m\u001b[49m\u001b[43m)\u001b[49m\n",
      "File \u001b[1;32m~\\anaconda3\\lib\\site-packages\\sklearn\\naive_bayes.py:401\u001b[0m, in \u001b[0;36mGaussianNB._partial_fit\u001b[1;34m(self, X, y, classes, _refit, sample_weight)\u001b[0m\n\u001b[0;32m    398\u001b[0m \u001b[38;5;28;01mif\u001b[39;00m _refit:\n\u001b[0;32m    399\u001b[0m     \u001b[38;5;28mself\u001b[39m\u001b[38;5;241m.\u001b[39mclasses_ \u001b[38;5;241m=\u001b[39m \u001b[38;5;28;01mNone\u001b[39;00m\n\u001b[1;32m--> 401\u001b[0m first_call \u001b[38;5;241m=\u001b[39m \u001b[43m_check_partial_fit_first_call\u001b[49m\u001b[43m(\u001b[49m\u001b[38;5;28;43mself\u001b[39;49m\u001b[43m,\u001b[49m\u001b[43m \u001b[49m\u001b[43mclasses\u001b[49m\u001b[43m)\u001b[49m\n\u001b[0;32m    402\u001b[0m X, y \u001b[38;5;241m=\u001b[39m \u001b[38;5;28mself\u001b[39m\u001b[38;5;241m.\u001b[39m_validate_data(X, y, reset\u001b[38;5;241m=\u001b[39mfirst_call)\n\u001b[0;32m    403\u001b[0m \u001b[38;5;28;01mif\u001b[39;00m sample_weight \u001b[38;5;129;01mis\u001b[39;00m \u001b[38;5;129;01mnot\u001b[39;00m \u001b[38;5;28;01mNone\u001b[39;00m:\n",
      "File \u001b[1;32m~\\anaconda3\\lib\\site-packages\\sklearn\\utils\\multiclass.py:360\u001b[0m, in \u001b[0;36m_check_partial_fit_first_call\u001b[1;34m(clf, classes)\u001b[0m\n\u001b[0;32m    353\u001b[0m             \u001b[38;5;28;01mraise\u001b[39;00m \u001b[38;5;167;01mValueError\u001b[39;00m(\n\u001b[0;32m    354\u001b[0m                 \u001b[38;5;124m\"\u001b[39m\u001b[38;5;124m`classes=\u001b[39m\u001b[38;5;132;01m%r\u001b[39;00m\u001b[38;5;124m` is not the same as on last call \u001b[39m\u001b[38;5;124m\"\u001b[39m\n\u001b[0;32m    355\u001b[0m                 \u001b[38;5;124m\"\u001b[39m\u001b[38;5;124mto partial_fit, was: \u001b[39m\u001b[38;5;132;01m%r\u001b[39;00m\u001b[38;5;124m\"\u001b[39m \u001b[38;5;241m%\u001b[39m (classes, clf\u001b[38;5;241m.\u001b[39mclasses_)\n\u001b[0;32m    356\u001b[0m             )\n\u001b[0;32m    358\u001b[0m     \u001b[38;5;28;01melse\u001b[39;00m:\n\u001b[0;32m    359\u001b[0m         \u001b[38;5;66;03m# This is the first call to partial_fit\u001b[39;00m\n\u001b[1;32m--> 360\u001b[0m         clf\u001b[38;5;241m.\u001b[39mclasses_ \u001b[38;5;241m=\u001b[39m \u001b[43munique_labels\u001b[49m\u001b[43m(\u001b[49m\u001b[43mclasses\u001b[49m\u001b[43m)\u001b[49m\n\u001b[0;32m    361\u001b[0m         \u001b[38;5;28;01mreturn\u001b[39;00m \u001b[38;5;28;01mTrue\u001b[39;00m\n\u001b[0;32m    363\u001b[0m \u001b[38;5;66;03m# classes is None and clf.classes_ has already previously been set:\u001b[39;00m\n\u001b[0;32m    364\u001b[0m \u001b[38;5;66;03m# nothing to do\u001b[39;00m\n",
      "File \u001b[1;32m~\\anaconda3\\lib\\site-packages\\sklearn\\utils\\multiclass.py:101\u001b[0m, in \u001b[0;36munique_labels\u001b[1;34m(*ys)\u001b[0m\n\u001b[0;32m     99\u001b[0m _unique_labels \u001b[38;5;241m=\u001b[39m _FN_UNIQUE_LABELS\u001b[38;5;241m.\u001b[39mget(label_type, \u001b[38;5;28;01mNone\u001b[39;00m)\n\u001b[0;32m    100\u001b[0m \u001b[38;5;28;01mif\u001b[39;00m \u001b[38;5;129;01mnot\u001b[39;00m _unique_labels:\n\u001b[1;32m--> 101\u001b[0m     \u001b[38;5;28;01mraise\u001b[39;00m \u001b[38;5;167;01mValueError\u001b[39;00m(\u001b[38;5;124m\"\u001b[39m\u001b[38;5;124mUnknown label type: \u001b[39m\u001b[38;5;132;01m%s\u001b[39;00m\u001b[38;5;124m\"\u001b[39m \u001b[38;5;241m%\u001b[39m \u001b[38;5;28mrepr\u001b[39m(ys))\n\u001b[0;32m    103\u001b[0m ys_labels \u001b[38;5;241m=\u001b[39m \u001b[38;5;28mset\u001b[39m(chain\u001b[38;5;241m.\u001b[39mfrom_iterable(_unique_labels(y) \u001b[38;5;28;01mfor\u001b[39;00m y \u001b[38;5;129;01min\u001b[39;00m ys))\n\u001b[0;32m    105\u001b[0m \u001b[38;5;66;03m# Check that we don't mix string type with number type\u001b[39;00m\n",
      "\u001b[1;31mValueError\u001b[0m: Unknown label type: (array([4.20000000e-01, 4.50000000e-01, 6.70000000e-01, 6.75000000e-01,\n       6.80000000e-01, 6.90000000e-01, 7.87500000e-01, 8.00000000e-01,\n       8.50000000e-01, 9.00000000e-01, 9.50000000e-01, 9.56250000e-01,\n       9.80000000e-01, 9.90000000e-01, 1.01250000e+00, 1.05000000e+00,\n       1.06875000e+00, 1.10000000e+00, 1.12500000e+00, 1.15000000e+00,\n       1.18000000e+00, 1.20000000e+00, 1.23750000e+00, 1.25000000e+00,\n       1.29000000e+00, 1.30000000e+00, 1.35000000e+00, 1.40000000e+00,\n       1.43000000e+00, 1.45000000e+00, 1.46250000e+00, 1.47000000e+00,\n       1.48000000e+00, 1.50000000e+00, 1.51875000e+00, 1.55000000e+00,\n       1.57500000e+00, 1.58000000e+00, 1.59000000e+00, 1.60000000e+00,\n       1.65000000e+00, 1.68750000e+00, 1.69000000e+00, 1.70000000e+00,\n       1.72000000e+00, 1.74375000e+00, 1.75000000e+00, 1.78000000e+00,\n       1.80000000e+00, 1.85000000e+00, 1.87000000e+00, 1.90000000e+00,\n       1.91250000e+00, 1.92000000e+00, 1.95000000e+00, 1.98000000e+00,\n       2.00000000e+00, 2.00812500e+00, 2.02500000e+00, 2.05000000e+00,\n       2.10000000e+00, 2.13750000e+00, 2.15000000e+00, 2.20000000e+00,\n       2.25000000e+00, 2.28000000e+00, 2.29500000e+00, 2.30000000e+00,\n       2.32000000e+00, 2.35000000e+00, 2.36250000e+00, 2.38000000e+00,\n       2.39000000e+00, 2.40000000e+00, 2.45000000e+00, 2.47500000e+00,\n       2.50000000e+00, 2.53125000e+00, 2.55000000e+00, 2.58750000e+00,\n       2.60000000e+00, 2.62000000e+00, 2.64375000e+00, 2.65000000e+00,\n       2.66000000e+00, 2.68000000e+00, 2.69000000e+00, 2.69999900e+00,\n       2.70000000e+00, 2.75000000e+00, 2.75625000e+00, 2.78000000e+00,\n       2.80000000e+00, 2.81250000e+00, 2.85000000e+00, 2.86875000e+00,\n       2.90000000e+00, 2.92500000e+00, 2.95000000e+00, 2.95312500e+00,\n       2.98125000e+00, 3.00000000e+00, 3.03750000e+00, 3.05000000e+00,\n       3.09375000e+00, 3.10000000e+00, 3.15000000e+00, 3.18000000e+00,\n       3.19000000e+00, 3.20000000e+00, 3.25000000e+00, 3.26250000e+00,\n       3.30000000e+00, 3.32000000e+00, 3.35000000e+00, 3.37500000e+00,\n       3.38000000e+00, 3.40000000e+00, 3.45000000e+00, 3.48750000e+00,\n       3.49999900e+00, 3.50000000e+00, 3.54000000e+00, 3.55000000e+00,\n       3.60000000e+00, 3.65000000e+00, 3.69999900e+00, 3.70000000e+00,\n       3.71250000e+00, 3.75000000e+00, 3.79000000e+00, 3.79999900e+00,\n       3.80000000e+00, 3.82500000e+00, 3.85000000e+00, 3.86500000e+00,\n       3.88000000e+00, 3.90000000e+00, 3.93750000e+00, 3.95000000e+00,\n       3.99000000e+00, 3.99999900e+00, 4.00000000e+00, 4.01000000e+00,\n       4.05000000e+00, 4.10000000e+00, 4.10625000e+00, 4.15000000e+00,\n       4.20000000e+00, 4.25000000e+00, 4.27500000e+00, 4.30000000e+00,\n       4.33000000e+00, 4.33125000e+00, 4.35000000e+00, 4.38750000e+00,\n       4.40000000e+00, 4.40020000e+00, 4.45000000e+00, 4.46000000e+00,\n       4.47000000e+00, 4.48000000e+00, 4.49999900e+00, 4.50000000e+00,\n       4.55000000e+00, 4.59000000e+00, 4.60000000e+00, 4.62000000e+00,\n       4.65000000e+00, 4.68000000e+00, 4.70000000e+00, 4.72500000e+00,\n       4.75000000e+00, 4.78000000e+00, 4.79900000e+00, 4.80000000e+00,\n       4.85000000e+00, 4.86000000e+00, 4.89000000e+00, 4.90000000e+00,\n       4.95000000e+00, 4.99999900e+00, 5.00000000e+00, 5.05000000e+00,\n       5.06250000e+00, 5.10000000e+00, 5.15000000e+00, 5.17000000e+00,\n       5.17500000e+00, 5.20000000e+00, 5.25000000e+00, 5.30000000e+00,\n       5.34999900e+00, 5.35000000e+00, 5.39900000e+00, 5.40000000e+00,\n       5.45000000e+00, 5.50000000e+00, 5.55000000e+00, 5.60000000e+00,\n       5.62500000e+00, 5.65000000e+00, 5.70000000e+00, 5.75000000e+00,\n       5.80000000e+00, 5.85000000e+00, 5.86011100e+00, 5.90000000e+00,\n       5.95000000e+00, 5.99999900e+00, 6.00000000e+00, 6.07500000e+00,\n       6.10000000e+00, 6.15000000e+00, 6.18000000e+00, 6.18750000e+00,\n       6.20000000e+00, 6.25000000e+00, 6.30000000e+00, 6.35000000e+00,\n       6.40000000e+00, 6.41250000e+00, 6.45000000e+00, 6.48000000e+00,\n       6.50000000e+00, 6.52500000e+00, 6.55000000e+00, 6.60000000e+00,\n       6.65000000e+00, 6.70000000e+00, 6.75000000e+00, 6.79999900e+00,\n       6.80000000e+00, 6.83000000e+00, 6.85000000e+00, 6.89999900e+00,\n       6.90000000e+00, 6.95000000e+00, 6.97500000e+00, 7.00000000e+00,\n       7.10000000e+00, 7.15000000e+00, 7.20000000e+00, 7.25000000e+00,\n       7.30000000e+00, 7.31000000e+00, 7.31250000e+00, 7.35000000e+00,\n       7.40000000e+00, 7.45000000e+00, 7.50000000e+00, 7.52000000e+00,\n       7.55000000e+00, 7.60000000e+00, 7.65000000e+00, 7.70000000e+00,\n       7.75000000e+00, 7.80000000e+00, 7.85000000e+00, 7.87500000e+00,\n       7.90000000e+00, 7.95000000e+00, 7.99999900e+00, 8.00000000e+00,\n       8.05000000e+00, 8.10000000e+00, 8.20000000e+00, 8.25000000e+00,\n       8.30000000e+00, 8.35000000e+00, 8.40000000e+00, 8.43750000e+00,\n       8.49000000e+00, 8.50000000e+00, 8.55000000e+00, 8.60000000e+00,\n       8.65000000e+00, 8.70000000e+00, 8.75000000e+00, 8.80000000e+00,\n       8.85000000e+00, 8.90000000e+00, 8.99000000e+00, 9.00000000e+00,\n       9.05000000e+00, 9.20000000e+00, 9.22500000e+00, 9.25000000e+00,\n       9.30000000e+00, 9.33750000e+00, 9.40000000e+00, 9.45000000e+00,\n       9.50000000e+00, 9.56250000e+00, 9.60000000e+00, 9.65000000e+00,\n       9.70000000e+00, 9.80000000e+00, 9.85000000e+00, 9.90000000e+00,\n       9.99999900e+00, 1.00000000e+01, 1.01250000e+01, 1.01500000e+01,\n       1.02000000e+01, 1.04000000e+01, 1.04500000e+01, 1.05000000e+01,\n       1.05500000e+01, 1.06000000e+01, 1.07000000e+01, 1.08000000e+01,\n       1.09000000e+01, 1.10000000e+01, 1.10250000e+01, 1.12000000e+01,\n       1.12500000e+01, 1.13000000e+01, 1.15000000e+01, 1.16000000e+01,\n       1.17000000e+01, 1.17500000e+01, 1.18000000e+01, 1.18125000e+01,\n       1.18500000e+01, 1.19000000e+01, 1.20000000e+01, 1.20500000e+01,\n       1.21000000e+01, 1.22000000e+01, 1.22500000e+01, 1.23000000e+01,\n       1.23500000e+01, 1.23750000e+01, 1.24000000e+01, 1.25000000e+01,\n       1.27000000e+01, 1.28000000e+01, 1.28500000e+01, 1.29000000e+01,\n       1.29990000e+01, 1.30000000e+01, 1.32000000e+01, 1.34000000e+01,\n       1.35000000e+01, 1.36000000e+01, 1.37000000e+01, 1.37500000e+01,\n       1.38000000e+01, 1.38500000e+01, 1.39000000e+01, 1.39999990e+01,\n       1.40000000e+01, 1.42000000e+01, 1.42500000e+01, 1.42999990e+01,\n       1.43000000e+01, 1.45000000e+01, 1.46000000e+01, 1.46250000e+01,\n       1.46500000e+01, 1.47000000e+01, 1.47500000e+01, 1.48000000e+01,\n       1.49000000e+01, 1.50000000e+01, 1.52000000e+01, 1.53000000e+01,\n       1.54700000e+01, 1.55000000e+01, 1.57500000e+01, 1.58000000e+01,\n       1.60000000e+01, 1.63500000e+01, 1.65000000e+01, 1.65500000e+01,\n       1.66000000e+01, 1.68000000e+01, 1.68750000e+01, 1.69000000e+01,\n       1.69500000e+01, 1.70000000e+01, 1.72000000e+01, 1.73000000e+01,\n       1.74000000e+01, 1.74375000e+01, 1.75000000e+01, 1.76000000e+01,\n       1.77000000e+01, 1.78000000e+01, 1.79000000e+01, 1.79500000e+01,\n       1.80000000e+01, 1.82000000e+01, 1.83000000e+01, 1.85000000e+01,\n       1.87000000e+01, 1.87500000e+01, 1.88000000e+01, 1.89000000e+01,\n       1.89999990e+01, 1.90000000e+01, 1.91250000e+01, 1.92000000e+01,\n       1.95000000e+01, 1.97500000e+01, 1.98000000e+01, 1.99500000e+01,\n       2.00000000e+01, 2.03000000e+01, 2.05000000e+01, 2.08000000e+01,\n       2.08500000e+01, 2.10000000e+01, 2.15000000e+01, 2.17000000e+01,\n       2.18500000e+01, 2.19999990e+01, 2.20000000e+01, 2.25000000e+01,\n       2.29500000e+01, 2.30000000e+01, 2.35000000e+01, 2.36250000e+01,\n       2.36500000e+01, 2.38000000e+01, 2.38500000e+01, 2.40000000e+01,\n       2.45000000e+01, 2.47500000e+01, 2.50000000e+01, 2.53000000e+01,\n       2.55000000e+01, 2.58000000e+01, 2.60000000e+01, 2.64000000e+01,\n       2.65000000e+01, 2.67000000e+01, 2.70000000e+01, 2.75000000e+01,\n       2.80000000e+01, 2.81250000e+01, 2.85000000e+01, 2.85500000e+01,\n       2.90000000e+01, 2.95000000e+01, 2.99999990e+01, 3.00000000e+01,\n       3.05000000e+01, 3.10000000e+01, 3.15000000e+01, 3.20000000e+01,\n       3.25000000e+01, 3.30000000e+01, 3.35000000e+01, 3.40000000e+01,\n       3.41000000e+01, 3.45000000e+01, 3.50000000e+01, 3.55000000e+01,\n       3.60000000e+01, 3.68000000e+01, 3.70000000e+01, 3.75000000e+01,\n       3.80000000e+01, 3.85000000e+01, 3.88000000e+01, 3.90000000e+01,\n       3.95000000e+01, 4.00000000e+01, 4.20000000e+01, 4.30000000e+01,\n       4.33500000e+01, 4.35000000e+01, 4.38000000e+01, 4.40000000e+01,\n       4.50000000e+01, 4.60000000e+01, 4.70000000e+01, 4.80000000e+01,\n       4.85000000e+01, 4.94000000e+01, 4.95000000e+01, 5.00000000e+01,\n       5.06250000e+01, 5.10000000e+01, 5.35000000e+01, 5.40000000e+01,\n       5.45000000e+01, 5.49000000e+01, 5.50000000e+01, 5.60000000e+01,\n       5.65000000e+01, 5.70000000e+01, 5.80000000e+01, 5.90000000e+01,\n       5.95000000e+01, 6.00000000e+01, 6.30000000e+01, 6.50000000e+01,\n       6.80000000e+01, 6.90000000e+01, 7.00000000e+01, 7.10000000e+01,\n       7.45000000e+01, 7.50000000e+01, 7.70000000e+01, 7.80000000e+01,\n       7.90000000e+01, 8.00000000e+01, 8.20000000e+01, 8.50000000e+01,\n       8.90000000e+01, 9.50000000e+01, 9.60000000e+01, 9.80000000e+01,\n       9.90000000e+01, 1.00000000e+02, 1.20000000e+02, 1.25000000e+02,\n       1.35000000e+02, 1.48000000e+02, 1.55000000e+02, 1.70000000e+02,\n       1.75000000e+02, 1.80000000e+02, 1.90000000e+02, 1.98000000e+02,\n       2.10000000e+02, 2.20000000e+02, 2.69999999e+02, 3.60000000e+02,\n       4.54000000e+02]),)"
     ]
    }
   ],
   "source": [
    "gaus.fit(X_train, y_train)"
   ]
  },
  {
   "cell_type": "markdown",
   "id": "c77574d4",
   "metadata": {},
   "source": [
    "# Evaluating Model\n",
    "### Absolute Error\n",
    "### Mean"
   ]
  },
  {
   "cell_type": "code",
   "execution_count": null,
   "id": "92f2b009",
   "metadata": {},
   "outputs": [],
   "source": [
    "from sklearn.metrics import mean_absolute_error, mean_squared_error"
   ]
  },
  {
   "cell_type": "code",
   "execution_count": null,
   "id": "4c3b53d8",
   "metadata": {},
   "outputs": [],
   "source": []
  }
 ],
 "metadata": {
  "kernelspec": {
   "display_name": "Python 3 (ipykernel)",
   "language": "python",
   "name": "python3"
  },
  "language_info": {
   "codemirror_mode": {
    "name": "ipython",
    "version": 3
   },
   "file_extension": ".py",
   "mimetype": "text/x-python",
   "name": "python",
   "nbconvert_exporter": "python",
   "pygments_lexer": "ipython3",
   "version": "3.9.12"
  }
 },
 "nbformat": 4,
 "nbformat_minor": 5
}
