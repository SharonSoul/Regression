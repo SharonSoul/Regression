{
 "cells": [
  {
   "cell_type": "markdown",
   "id": "a95b8ca4",
   "metadata": {},
   "source": [
    "# Importing the necessary packages and algorithms."
   ]
  },
  {
   "cell_type": "code",
   "execution_count": 198,
   "id": "08ec0832",
   "metadata": {},
   "outputs": [],
   "source": [
    "import pandas as pd\n",
    "import matplotlib.pyplot as plt\n",
    "import seaborn as sns\n",
    "import numpy as np"
   ]
  },
  {
   "cell_type": "code",
   "execution_count": 235,
   "id": "ccbe0b8a",
   "metadata": {},
   "outputs": [],
   "source": [
    "from sklearn.preprocessing import OneHotEncoder\n",
    "from sklearn.model_selection import train_test_split\n",
    "from sklearn import metrics\n",
    "from sklearn.linear_model import LinearRegression\n",
    "from sklearn.naive_bayes import GaussianNB\n",
    "from sklearn.ensemble import RandomForestClassifier, AdaBoostRegressor\n",
    "from sklearn.ensemble import GradientBoostingClassifier, AdaBoostRegressor, ExtraTreesRegressor\n",
    "from sklearn.svm import SVC\n",
    "from sklearn.neighbors import KNeighborsClassifier\n",
    "from sklearn.tree import DecisionTreeClassifier\n",
    "from sklearn.metrics import accuracy_score, f1_score\n",
    "from sklearn.preprocessing import LabelEncoder, LabelBinarizer\n",
    "from sklearn import preprocessing\n",
    "from sklearn import utils\n",
    "from sklearn.metrics import mean_absolute_error\n",
    "from sklearn.tree import DecisionTreeRegressor\n",
    "\n",
    "le = LabelEncoder()\n",
    "lab = preprocessing.LabelEncoder()"
   ]
  },
  {
   "cell_type": "markdown",
   "id": "ba9d0aff",
   "metadata": {},
   "source": [
    "# Importing the dataset"
   ]
  },
  {
   "cell_type": "code",
   "execution_count": 200,
   "id": "0cd17355",
   "metadata": {},
   "outputs": [],
   "source": [
    "df = pd.read_excel(\"AI_Invasion_In-Class_Dataset.xlsx\")"
   ]
  },
  {
   "cell_type": "code",
   "execution_count": 201,
   "id": "9508055d",
   "metadata": {},
   "outputs": [
    {
     "data": {
      "text/html": [
       "<div>\n",
       "<style scoped>\n",
       "    .dataframe tbody tr th:only-of-type {\n",
       "        vertical-align: middle;\n",
       "    }\n",
       "\n",
       "    .dataframe tbody tr th {\n",
       "        vertical-align: top;\n",
       "    }\n",
       "\n",
       "    .dataframe thead th {\n",
       "        text-align: right;\n",
       "    }\n",
       "</style>\n",
       "<table border=\"1\" class=\"dataframe\">\n",
       "  <thead>\n",
       "    <tr style=\"text-align: right;\">\n",
       "      <th></th>\n",
       "      <th>Location</th>\n",
       "      <th>Maker</th>\n",
       "      <th>Model</th>\n",
       "      <th>Year</th>\n",
       "      <th>Colour</th>\n",
       "      <th>Amount (Million ₦)</th>\n",
       "      <th>Type</th>\n",
       "      <th>Distance_Km</th>\n",
       "    </tr>\n",
       "  </thead>\n",
       "  <tbody>\n",
       "    <tr>\n",
       "      <th>0</th>\n",
       "      <td>Abuja</td>\n",
       "      <td>Mercedes-Benz</td>\n",
       "      <td>GLA 250</td>\n",
       "      <td>2015.0</td>\n",
       "      <td>Brown</td>\n",
       "      <td>14.50</td>\n",
       "      <td>Foreign Used</td>\n",
       "      <td>50000.0</td>\n",
       "    </tr>\n",
       "    <tr>\n",
       "      <th>1</th>\n",
       "      <td>Abuja</td>\n",
       "      <td>Hyundai</td>\n",
       "      <td>Accent</td>\n",
       "      <td>2013.0</td>\n",
       "      <td>Red</td>\n",
       "      <td>1.55</td>\n",
       "      <td>Nigerian Used</td>\n",
       "      <td>NaN</td>\n",
       "    </tr>\n",
       "  </tbody>\n",
       "</table>\n",
       "</div>"
      ],
      "text/plain": [
       "  Location          Maker    Model    Year Colour  Amount (Million ₦)  \\\n",
       "0    Abuja  Mercedes-Benz  GLA 250  2015.0  Brown               14.50   \n",
       "1    Abuja        Hyundai   Accent  2013.0    Red                1.55   \n",
       "\n",
       "            Type  Distance_Km  \n",
       "0   Foreign Used      50000.0  \n",
       "1  Nigerian Used          NaN  "
      ]
     },
     "execution_count": 201,
     "metadata": {},
     "output_type": "execute_result"
    }
   ],
   "source": [
    "df.head(2)"
   ]
  },
  {
   "cell_type": "markdown",
   "id": "2087d3dd",
   "metadata": {},
   "source": [
    "# Cleaning the dataset"
   ]
  },
  {
   "cell_type": "code",
   "execution_count": 202,
   "id": "a89ed509",
   "metadata": {
    "scrolled": true
   },
   "outputs": [
    {
     "data": {
      "text/plain": [
       "Location                 0\n",
       "Maker                    0\n",
       "Model                    0\n",
       "Year                     0\n",
       "Colour                   0\n",
       "Amount (Million ₦)       0\n",
       "Type                     0\n",
       "Distance_Km           1555\n",
       "dtype: int64"
      ]
     },
     "execution_count": 202,
     "metadata": {},
     "output_type": "execute_result"
    }
   ],
   "source": [
    "# Checking to see if there are null values in the dataset\n",
    "df.isnull().sum()"
   ]
  },
  {
   "cell_type": "code",
   "execution_count": 203,
   "id": "f71b9bf5",
   "metadata": {},
   "outputs": [],
   "source": [
    "# Filling the null values with the mean of the series\n",
    "df[\"Distance_Km\"] = df[\"Distance_Km\"].fillna(df[\"Distance_Km\"].mean())"
   ]
  },
  {
   "cell_type": "code",
   "execution_count": 204,
   "id": "66ca10d9",
   "metadata": {},
   "outputs": [
    {
     "data": {
      "text/plain": [
       "Location              0\n",
       "Maker                 0\n",
       "Model                 0\n",
       "Year                  0\n",
       "Colour                0\n",
       "Amount (Million ₦)    0\n",
       "Type                  0\n",
       "Distance_Km           0\n",
       "dtype: int64"
      ]
     },
     "execution_count": 204,
     "metadata": {},
     "output_type": "execute_result"
    }
   ],
   "source": [
    "df.isnull().sum()"
   ]
  },
  {
   "cell_type": "code",
   "execution_count": 205,
   "id": "f212a79b",
   "metadata": {},
   "outputs": [
    {
     "name": "stdout",
     "output_type": "stream",
     "text": [
      "<class 'pandas.core.frame.DataFrame'>\n",
      "RangeIndex: 4487 entries, 0 to 4486\n",
      "Data columns (total 8 columns):\n",
      " #   Column              Non-Null Count  Dtype  \n",
      "---  ------              --------------  -----  \n",
      " 0   Location            4487 non-null   object \n",
      " 1   Maker               4487 non-null   object \n",
      " 2   Model               4487 non-null   object \n",
      " 3   Year                4487 non-null   float64\n",
      " 4   Colour              4487 non-null   object \n",
      " 5   Amount (Million ₦)  4487 non-null   float64\n",
      " 6   Type                4487 non-null   object \n",
      " 7   Distance_Km         4487 non-null   float64\n",
      "dtypes: float64(3), object(5)\n",
      "memory usage: 280.6+ KB\n"
     ]
    }
   ],
   "source": [
    "df.info()"
   ]
  },
  {
   "cell_type": "markdown",
   "id": "242ed05a",
   "metadata": {},
   "source": [
    "# Encoding the dataset"
   ]
  },
  {
   "cell_type": "code",
   "execution_count": 208,
   "id": "31d78f7d",
   "metadata": {},
   "outputs": [],
   "source": [
    "df[\"Location\"] = lab.fit_transform(df[\"Location\"])"
   ]
  },
  {
   "cell_type": "code",
   "execution_count": 209,
   "id": "d49e62c4",
   "metadata": {},
   "outputs": [],
   "source": [
    "df[\"Maker\"] = lab.fit_transform(df[\"Maker\"])"
   ]
  },
  {
   "cell_type": "code",
   "execution_count": 211,
   "id": "5f03e4c5",
   "metadata": {},
   "outputs": [],
   "source": [
    "df[\"Year\"] = lab.fit_transform(df[\"Year\"])"
   ]
  },
  {
   "cell_type": "code",
   "execution_count": 212,
   "id": "6366f683",
   "metadata": {},
   "outputs": [],
   "source": [
    "df[\"Colour\"] = lab.fit_transform(df[\"Colour\"])"
   ]
  },
  {
   "cell_type": "code",
   "execution_count": 214,
   "id": "c0740578",
   "metadata": {},
   "outputs": [],
   "source": [
    "df[\"Type\"] = lab.fit_transform(df[\"Type\"])"
   ]
  },
  {
   "cell_type": "code",
   "execution_count": 215,
   "id": "be1776b7",
   "metadata": {},
   "outputs": [],
   "source": [
    "df[\"Distance_Km\"] = lab.fit_transform(df[\"Distance_Km\"])"
   ]
  },
  {
   "cell_type": "code",
   "execution_count": 216,
   "id": "45021d0f",
   "metadata": {},
   "outputs": [
    {
     "name": "stdout",
     "output_type": "stream",
     "text": [
      "<class 'pandas.core.frame.DataFrame'>\n",
      "RangeIndex: 4487 entries, 0 to 4486\n",
      "Data columns (total 8 columns):\n",
      " #   Column              Non-Null Count  Dtype  \n",
      "---  ------              --------------  -----  \n",
      " 0   Location            4487 non-null   int32  \n",
      " 1   Maker               4487 non-null   int32  \n",
      " 2   Model               4487 non-null   object \n",
      " 3   Year                4487 non-null   int64  \n",
      " 4   Colour              4487 non-null   int32  \n",
      " 5   Amount (Million ₦)  4487 non-null   float64\n",
      " 6   Type                4487 non-null   int32  \n",
      " 7   Distance_Km         4487 non-null   int64  \n",
      "dtypes: float64(1), int32(4), int64(2), object(1)\n",
      "memory usage: 210.5+ KB\n"
     ]
    }
   ],
   "source": [
    "df.info()"
   ]
  },
  {
   "cell_type": "code",
   "execution_count": 217,
   "id": "283fd488",
   "metadata": {},
   "outputs": [],
   "source": [
    "df.drop(\"Model\", axis = \"columns\", inplace = True)"
   ]
  },
  {
   "cell_type": "code",
   "execution_count": 218,
   "id": "e1aa4224",
   "metadata": {},
   "outputs": [
    {
     "data": {
      "text/html": [
       "<div>\n",
       "<style scoped>\n",
       "    .dataframe tbody tr th:only-of-type {\n",
       "        vertical-align: middle;\n",
       "    }\n",
       "\n",
       "    .dataframe tbody tr th {\n",
       "        vertical-align: top;\n",
       "    }\n",
       "\n",
       "    .dataframe thead th {\n",
       "        text-align: right;\n",
       "    }\n",
       "</style>\n",
       "<table border=\"1\" class=\"dataframe\">\n",
       "  <thead>\n",
       "    <tr style=\"text-align: right;\">\n",
       "      <th></th>\n",
       "      <th>Location</th>\n",
       "      <th>Maker</th>\n",
       "      <th>Year</th>\n",
       "      <th>Colour</th>\n",
       "      <th>Amount (Million ₦)</th>\n",
       "      <th>Type</th>\n",
       "      <th>Distance_Km</th>\n",
       "    </tr>\n",
       "  </thead>\n",
       "  <tbody>\n",
       "    <tr>\n",
       "      <th>0</th>\n",
       "      <td>0</td>\n",
       "      <td>26</td>\n",
       "      <td>22</td>\n",
       "      <td>3</td>\n",
       "      <td>14.50</td>\n",
       "      <td>1</td>\n",
       "      <td>426</td>\n",
       "    </tr>\n",
       "    <tr>\n",
       "      <th>1</th>\n",
       "      <td>0</td>\n",
       "      <td>14</td>\n",
       "      <td>20</td>\n",
       "      <td>14</td>\n",
       "      <td>1.55</td>\n",
       "      <td>2</td>\n",
       "      <td>1220</td>\n",
       "    </tr>\n",
       "  </tbody>\n",
       "</table>\n",
       "</div>"
      ],
      "text/plain": [
       "   Location  Maker  Year  Colour  Amount (Million ₦)  Type  Distance_Km\n",
       "0         0     26    22       3               14.50     1          426\n",
       "1         0     14    20      14                1.55     2         1220"
      ]
     },
     "execution_count": 218,
     "metadata": {},
     "output_type": "execute_result"
    }
   ],
   "source": [
    "df.head(2)"
   ]
  },
  {
   "cell_type": "code",
   "execution_count": 219,
   "id": "b8b8f5ca",
   "metadata": {},
   "outputs": [
    {
     "name": "stdout",
     "output_type": "stream",
     "text": [
      "<class 'pandas.core.frame.DataFrame'>\n",
      "RangeIndex: 4487 entries, 0 to 4486\n",
      "Data columns (total 7 columns):\n",
      " #   Column              Non-Null Count  Dtype  \n",
      "---  ------              --------------  -----  \n",
      " 0   Location            4487 non-null   int32  \n",
      " 1   Maker               4487 non-null   int32  \n",
      " 2   Year                4487 non-null   int64  \n",
      " 3   Colour              4487 non-null   int32  \n",
      " 4   Amount (Million ₦)  4487 non-null   float64\n",
      " 5   Type                4487 non-null   int32  \n",
      " 6   Distance_Km         4487 non-null   int64  \n",
      "dtypes: float64(1), int32(4), int64(2)\n",
      "memory usage: 175.4 KB\n"
     ]
    }
   ],
   "source": [
    "df.info()"
   ]
  },
  {
   "cell_type": "markdown",
   "id": "f628e8a6",
   "metadata": {},
   "source": [
    "# Splitting the dataset for training and testing"
   ]
  },
  {
   "cell_type": "code",
   "execution_count": 220,
   "id": "8dd86634",
   "metadata": {},
   "outputs": [],
   "source": [
    "#X = df.drop(\"Amount (Million ₦)\")\n",
    "y = df[\"Amount (Million ₦)\"]"
   ]
  },
  {
   "cell_type": "code",
   "execution_count": 221,
   "id": "b284bc61",
   "metadata": {},
   "outputs": [],
   "source": [
    "X = df.drop(\"Amount (Million ₦)\", axis = 1)"
   ]
  },
  {
   "cell_type": "markdown",
   "id": "04dde7e6",
   "metadata": {},
   "source": [
    "# Training and Predicting the dataset"
   ]
  },
  {
   "cell_type": "code",
   "execution_count": 253,
   "id": "32c92642",
   "metadata": {},
   "outputs": [],
   "source": [
    "X_train, X_test, y_train, y_test = train_test_split(X, y, test_size = 0.3)"
   ]
  },
  {
   "cell_type": "code",
   "execution_count": 254,
   "id": "780537e8",
   "metadata": {},
   "outputs": [],
   "source": [
    "ada = AdaBoostRegressor()"
   ]
  },
  {
   "cell_type": "code",
   "execution_count": 255,
   "id": "2f79046e",
   "metadata": {},
   "outputs": [],
   "source": [
    "lin = LinearRegression()"
   ]
  },
  {
   "cell_type": "code",
   "execution_count": 256,
   "id": "a0e5404b",
   "metadata": {
    "scrolled": true
   },
   "outputs": [
    {
     "data": {
      "text/plain": [
       "LinearRegression()"
      ]
     },
     "execution_count": 256,
     "metadata": {},
     "output_type": "execute_result"
    }
   ],
   "source": [
    "lin.fit(X_train, y_train)"
   ]
  },
  {
   "cell_type": "code",
   "execution_count": 257,
   "id": "da4bfa24",
   "metadata": {},
   "outputs": [
    {
     "data": {
      "text/plain": [
       "array([ 3.05795942, 27.9925128 , -2.36629564, ..., 29.9283362 ,\n",
       "        2.81007762, -8.64166691])"
      ]
     },
     "execution_count": 257,
     "metadata": {},
     "output_type": "execute_result"
    }
   ],
   "source": [
    "lin.predict(X_test)"
   ]
  },
  {
   "cell_type": "code",
   "execution_count": 258,
   "id": "0ae1106c",
   "metadata": {},
   "outputs": [
    {
     "data": {
      "text/plain": [
       "AdaBoostRegressor()"
      ]
     },
     "execution_count": 258,
     "metadata": {},
     "output_type": "execute_result"
    }
   ],
   "source": [
    "ada.fit(X_train, y_train)"
   ]
  },
  {
   "cell_type": "code",
   "execution_count": 259,
   "id": "7f4975a2",
   "metadata": {},
   "outputs": [
    {
     "data": {
      "text/plain": [
       "array([30.35323469, 46.52368421, 25.98387097, ..., 46.34126543,\n",
       "       25.98387097, 14.80933025])"
      ]
     },
     "execution_count": 259,
     "metadata": {},
     "output_type": "execute_result"
    }
   ],
   "source": [
    "ada.predict(X_test)"
   ]
  },
  {
   "cell_type": "code",
   "execution_count": 260,
   "id": "495413d8",
   "metadata": {},
   "outputs": [],
   "source": [
    "linPred = lin.predict(X_test)"
   ]
  },
  {
   "cell_type": "code",
   "execution_count": 261,
   "id": "f69aba57",
   "metadata": {},
   "outputs": [
    {
     "data": {
      "text/plain": [
       "7.433347777796696"
      ]
     },
     "execution_count": 261,
     "metadata": {},
     "output_type": "execute_result"
    }
   ],
   "source": [
    "# Using mean absolute error because this is a regressor, not a classifier\n",
    "mean_absolute_error(y_test,linPred)"
   ]
  },
  {
   "cell_type": "code",
   "execution_count": 262,
   "id": "7f4617f9",
   "metadata": {},
   "outputs": [],
   "source": [
    "dec = DecisionTreeRegressor()"
   ]
  },
  {
   "cell_type": "code",
   "execution_count": 263,
   "id": "7c283900",
   "metadata": {},
   "outputs": [
    {
     "data": {
      "text/plain": [
       "DecisionTreeRegressor()"
      ]
     },
     "execution_count": 263,
     "metadata": {},
     "output_type": "execute_result"
    }
   ],
   "source": [
    "dec.fit(X_train, y_train)"
   ]
  },
  {
   "cell_type": "code",
   "execution_count": 264,
   "id": "3bc84c1d",
   "metadata": {},
   "outputs": [],
   "source": [
    "decPred = dec.predict(X_test)"
   ]
  },
  {
   "cell_type": "code",
   "execution_count": 265,
   "id": "990e1f48",
   "metadata": {},
   "outputs": [
    {
     "data": {
      "text/plain": [
       "5.09200477010641"
      ]
     },
     "execution_count": 265,
     "metadata": {},
     "output_type": "execute_result"
    }
   ],
   "source": [
    "mean_absolute_error(y_test, decPred)"
   ]
  },
  {
   "cell_type": "code",
   "execution_count": null,
   "id": "1c946e28",
   "metadata": {},
   "outputs": [],
   "source": []
  }
 ],
 "metadata": {
  "kernelspec": {
   "display_name": "Python 3 (ipykernel)",
   "language": "python",
   "name": "python3"
  },
  "language_info": {
   "codemirror_mode": {
    "name": "ipython",
    "version": 3
   },
   "file_extension": ".py",
   "mimetype": "text/x-python",
   "name": "python",
   "nbconvert_exporter": "python",
   "pygments_lexer": "ipython3",
   "version": "3.9.12"
  }
 },
 "nbformat": 4,
 "nbformat_minor": 5
}
